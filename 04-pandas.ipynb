{
 "cells": [
  {
   "cell_type": "markdown",
   "metadata": {},
   "source": [
    "# The Pandas library"
   ]
  },
  {
   "cell_type": "markdown",
   "metadata": {},
   "source": [
    "**From the Pandas documentation:**\n",
    "\n",
    "**pandas** is everyone's favorite data analyis library providing fast, flexible, and expressive data structures designed to work with *relational* or table-like data (SQL table or Excel spreadsheet). It is a fundamental high-level building block for doing practical, real world data analysis in Python."
   ]
  },
  {
   "cell_type": "code",
   "execution_count": 31,
   "metadata": {},
   "outputs": [],
   "source": [
    "# The importing convention\n",
    "# ! pip install openpyxl\n",
    "import pandas as pd"
   ]
  },
  {
   "cell_type": "markdown",
   "metadata": {},
   "source": [
    "# Opening (Reading) Files\n"
   ]
  },
  {
   "cell_type": "markdown",
   "metadata": {},
   "source": [
    "## Reading Excel File"
   ]
  },
  {
   "cell_type": "code",
   "execution_count": 32,
   "metadata": {},
   "outputs": [],
   "source": [
    "filepath = \"data\\stock_data_simple.xlsx\""
   ]
  },
  {
   "cell_type": "code",
   "execution_count": 33,
   "metadata": {
    "scrolled": true
   },
   "outputs": [],
   "source": [
    "df = pd.read_excel(filepath)"
   ]
  },
  {
   "cell_type": "markdown",
   "metadata": {},
   "source": [
    "## Reading CSV File"
   ]
  },
  {
   "cell_type": "code",
   "execution_count": 70,
   "metadata": {},
   "outputs": [],
   "source": [
    "filepath = \"data\\stock_data_simple.csv\""
   ]
  },
  {
   "cell_type": "code",
   "execution_count": 71,
   "metadata": {},
   "outputs": [],
   "source": [
    "df = pd.read_csv(filepath)"
   ]
  },
  {
   "cell_type": "markdown",
   "metadata": {},
   "source": [
    "# View/Display data"
   ]
  },
  {
   "cell_type": "code",
   "execution_count": 72,
   "metadata": {},
   "outputs": [
    {
     "data": {
      "text/html": [
       "<div>\n",
       "<style scoped>\n",
       "    .dataframe tbody tr th:only-of-type {\n",
       "        vertical-align: middle;\n",
       "    }\n",
       "\n",
       "    .dataframe tbody tr th {\n",
       "        vertical-align: top;\n",
       "    }\n",
       "\n",
       "    .dataframe thead th {\n",
       "        text-align: right;\n",
       "    }\n",
       "</style>\n",
       "<table border=\"1\" class=\"dataframe\">\n",
       "  <thead>\n",
       "    <tr style=\"text-align: right;\">\n",
       "      <th></th>\n",
       "      <th>ticker</th>\n",
       "      <th>company_name</th>\n",
       "      <th>sector</th>\n",
       "      <th>trade_date</th>\n",
       "      <th>price</th>\n",
       "      <th>price_change_percent</th>\n",
       "      <th>market_capitalization</th>\n",
       "      <th>annual_sales</th>\n",
       "      <th>shares_outstanding</th>\n",
       "    </tr>\n",
       "  </thead>\n",
       "  <tbody>\n",
       "    <tr>\n",
       "      <th>0</th>\n",
       "      <td>WMT</td>\n",
       "      <td>Wal-Mart Stores</td>\n",
       "      <td>Retail</td>\n",
       "      <td>1/16/2014</td>\n",
       "      <td>76.76</td>\n",
       "      <td>-1.20%</td>\n",
       "      <td>248,377</td>\n",
       "      <td>55,688</td>\n",
       "      <td>3235772</td>\n",
       "    </tr>\n",
       "    <tr>\n",
       "      <th>1</th>\n",
       "      <td>AAPL</td>\n",
       "      <td>Apple Inc</td>\n",
       "      <td>Technology</td>\n",
       "      <td>1/16/2014</td>\n",
       "      <td>554.25</td>\n",
       "      <td>-0.60%</td>\n",
       "      <td>494,697</td>\n",
       "      <td>37,472</td>\n",
       "      <td>892553</td>\n",
       "    </tr>\n",
       "    <tr>\n",
       "      <th>2</th>\n",
       "      <td>IBM</td>\n",
       "      <td>Intl Business Machines</td>\n",
       "      <td>Technology</td>\n",
       "      <td>1/16/2014</td>\n",
       "      <td>188.76</td>\n",
       "      <td>0.50%</td>\n",
       "      <td>204,965</td>\n",
       "      <td>23,720</td>\n",
       "      <td>1085854</td>\n",
       "    </tr>\n",
       "    <tr>\n",
       "      <th>3</th>\n",
       "      <td>BAC</td>\n",
       "      <td>Bank Of America Corp</td>\n",
       "      <td>Financial</td>\n",
       "      <td>1/16/2014</td>\n",
       "      <td>17.08</td>\n",
       "      <td>-0.40%</td>\n",
       "      <td>182,177</td>\n",
       "      <td>23,553</td>\n",
       "      <td>10666133</td>\n",
       "    </tr>\n",
       "    <tr>\n",
       "      <th>4</th>\n",
       "      <td>SGL.KR</td>\n",
       "      <td>Samsung Electronics</td>\n",
       "      <td>Technology</td>\n",
       "      <td>1/16/2014</td>\n",
       "      <td>1,301,000.00</td>\n",
       "      <td>0.20%</td>\n",
       "      <td>180,329</td>\n",
       "      <td>23,444</td>\n",
       "      <td>147299</td>\n",
       "    </tr>\n",
       "  </tbody>\n",
       "</table>\n",
       "</div>"
      ],
      "text/plain": [
       "   ticker            company_name      sector trade_date         price  \\\n",
       "0     WMT         Wal-Mart Stores      Retail  1/16/2014         76.76   \n",
       "1    AAPL               Apple Inc  Technology  1/16/2014        554.25   \n",
       "2     IBM  Intl Business Machines  Technology  1/16/2014        188.76   \n",
       "3     BAC    Bank Of America Corp   Financial  1/16/2014         17.08   \n",
       "4  SGL.KR     Samsung Electronics  Technology  1/16/2014  1,301,000.00   \n",
       "\n",
       "  price_change_percent market_capitalization annual_sales  shares_outstanding  \n",
       "0               -1.20%               248,377       55,688             3235772  \n",
       "1               -0.60%               494,697       37,472              892553  \n",
       "2                0.50%               204,965       23,720             1085854  \n",
       "3               -0.40%               182,177       23,553            10666133  \n",
       "4                0.20%               180,329       23,444              147299  "
      ]
     },
     "execution_count": 72,
     "metadata": {},
     "output_type": "execute_result"
    }
   ],
   "source": [
    "df.head()"
   ]
  },
  {
   "cell_type": "code",
   "execution_count": 73,
   "metadata": {
    "scrolled": true
   },
   "outputs": [
    {
     "data": {
      "text/html": [
       "<div>\n",
       "<style scoped>\n",
       "    .dataframe tbody tr th:only-of-type {\n",
       "        vertical-align: middle;\n",
       "    }\n",
       "\n",
       "    .dataframe tbody tr th {\n",
       "        vertical-align: top;\n",
       "    }\n",
       "\n",
       "    .dataframe thead th {\n",
       "        text-align: right;\n",
       "    }\n",
       "</style>\n",
       "<table border=\"1\" class=\"dataframe\">\n",
       "  <thead>\n",
       "    <tr style=\"text-align: right;\">\n",
       "      <th></th>\n",
       "      <th>ticker</th>\n",
       "      <th>company_name</th>\n",
       "      <th>sector</th>\n",
       "      <th>trade_date</th>\n",
       "      <th>price</th>\n",
       "      <th>price_change_percent</th>\n",
       "      <th>market_capitalization</th>\n",
       "      <th>annual_sales</th>\n",
       "      <th>shares_outstanding</th>\n",
       "    </tr>\n",
       "  </thead>\n",
       "  <tbody>\n",
       "    <tr>\n",
       "      <th>5</th>\n",
       "      <td>NESN.CH</td>\n",
       "      <td>Nestle 'R'</td>\n",
       "      <td>Consumer Staple</td>\n",
       "      <td>1/16/2014</td>\n",
       "      <td>67.45</td>\n",
       "      <td>1.20%</td>\n",
       "      <td>239,974</td>\n",
       "      <td>22,584</td>\n",
       "      <td>3224798</td>\n",
       "    </tr>\n",
       "    <tr>\n",
       "      <th>6</th>\n",
       "      <td>MSFT</td>\n",
       "      <td>Microsoft Corp</td>\n",
       "      <td>Technology</td>\n",
       "      <td>1/16/2014</td>\n",
       "      <td>36.89</td>\n",
       "      <td>0.40%</td>\n",
       "      <td>307,956</td>\n",
       "      <td>18,529</td>\n",
       "      <td>8347968</td>\n",
       "    </tr>\n",
       "    <tr>\n",
       "      <th>7</th>\n",
       "      <td>AMZN</td>\n",
       "      <td>Amazon.Com Inc</td>\n",
       "      <td>Retail</td>\n",
       "      <td>1/16/2014</td>\n",
       "      <td>395.8</td>\n",
       "      <td>0.00%</td>\n",
       "      <td>181,170</td>\n",
       "      <td>17,092</td>\n",
       "      <td>457733</td>\n",
       "    </tr>\n",
       "    <tr>\n",
       "      <th>8</th>\n",
       "      <td>GOOG</td>\n",
       "      <td>Google Inc</td>\n",
       "      <td>Technology</td>\n",
       "      <td>1/16/2014</td>\n",
       "      <td>1,156.22</td>\n",
       "      <td>0.70%</td>\n",
       "      <td>386,278</td>\n",
       "      <td>14,893</td>\n",
       "      <td>334087</td>\n",
       "    </tr>\n",
       "    <tr>\n",
       "      <th>9</th>\n",
       "      <td>PFE</td>\n",
       "      <td>Pfizer Inc</td>\n",
       "      <td>Health Care</td>\n",
       "      <td>1/16/2014</td>\n",
       "      <td>31.17</td>\n",
       "      <td>0.00%</td>\n",
       "      <td>202,014</td>\n",
       "      <td>12,643</td>\n",
       "      <td>6481070</td>\n",
       "    </tr>\n",
       "  </tbody>\n",
       "</table>\n",
       "</div>"
      ],
      "text/plain": [
       "    ticker    company_name           sector trade_date     price  \\\n",
       "5  NESN.CH      Nestle 'R'  Consumer Staple  1/16/2014     67.45   \n",
       "6     MSFT  Microsoft Corp       Technology  1/16/2014     36.89   \n",
       "7     AMZN  Amazon.Com Inc           Retail  1/16/2014     395.8   \n",
       "8     GOOG      Google Inc       Technology  1/16/2014  1,156.22   \n",
       "9      PFE      Pfizer Inc      Health Care  1/16/2014     31.17   \n",
       "\n",
       "  price_change_percent market_capitalization annual_sales  shares_outstanding  \n",
       "5                1.20%               239,974       22,584             3224798  \n",
       "6                0.40%               307,956       18,529             8347968  \n",
       "7                0.00%               181,170       17,092              457733  \n",
       "8                0.70%               386,278       14,893              334087  \n",
       "9                0.00%               202,014       12,643             6481070  "
      ]
     },
     "execution_count": 73,
     "metadata": {},
     "output_type": "execute_result"
    }
   ],
   "source": [
    "df.tail()"
   ]
  },
  {
   "cell_type": "code",
   "execution_count": 76,
   "metadata": {},
   "outputs": [
    {
     "name": "stdout",
     "output_type": "stream",
     "text": [
      "<class 'pandas.core.frame.DataFrame'>\n",
      "RangeIndex: 10 entries, 0 to 9\n",
      "Data columns (total 9 columns):\n",
      " #   Column                 Non-Null Count  Dtype \n",
      "---  ------                 --------------  ----- \n",
      " 0   ticker                 10 non-null     object\n",
      " 1   company_name           10 non-null     object\n",
      " 2   sector                 10 non-null     object\n",
      " 3   trade_date             10 non-null     object\n",
      " 4   price                  10 non-null     object\n",
      " 5   price_change_percent   10 non-null     object\n",
      " 6   market_capitalization  10 non-null     object\n",
      " 7   annual_sales           10 non-null     object\n",
      " 8   shares_outstanding     10 non-null     int64 \n",
      "dtypes: int64(1), object(8)\n",
      "memory usage: 848.0+ bytes\n"
     ]
    }
   ],
   "source": [
    "df.info()"
   ]
  },
  {
   "cell_type": "markdown",
   "metadata": {},
   "source": [
    "# The Pandas DataFrames\n",
    "\n",
    "<img src=\"img/dataframe.png\"><img src=\"img/excel_table.png\">\n",
    "\n",
    "If the structure seems familiar, it's because DataFrames are very similar to a single Excel “Sheet”, but instead of referring to rows and columns with A1, yyou have the column numbers/names and row numbers.\n",
    "\n",
    "A DataFrame consists on three parts:\n",
    "\n",
    "1. Index\n",
    "2. Columns Names (Column Index)\n",
    "3. Data"
   ]
  },
  {
   "cell_type": "code",
   "execution_count": 77,
   "metadata": {
    "jupyter": {
     "outputs_hidden": false
    },
    "pycharm": {
     "name": "#%%\n"
    }
   },
   "outputs": [
    {
     "data": {
      "text/plain": [
       "RangeIndex(start=0, stop=10, step=1)"
      ]
     },
     "execution_count": 77,
     "metadata": {},
     "output_type": "execute_result"
    }
   ],
   "source": [
    "df.index"
   ]
  },
  {
   "cell_type": "code",
   "execution_count": 78,
   "metadata": {
    "jupyter": {
     "outputs_hidden": false
    },
    "pycharm": {
     "name": "#%%\n"
    }
   },
   "outputs": [
    {
     "data": {
      "text/plain": [
       "Index(['ticker', 'company_name', 'sector', 'trade_date', 'price',\n",
       "       'price_change_percent', 'market_capitalization', 'annual_sales',\n",
       "       'shares_outstanding'],\n",
       "      dtype='object')"
      ]
     },
     "execution_count": 78,
     "metadata": {},
     "output_type": "execute_result"
    }
   ],
   "source": [
    "df.columns"
   ]
  },
  {
   "cell_type": "code",
   "execution_count": 79,
   "metadata": {
    "jupyter": {
     "outputs_hidden": false
    },
    "pycharm": {
     "name": "#%%\n"
    }
   },
   "outputs": [
    {
     "data": {
      "text/plain": [
       "array([['WMT', 'Wal-Mart Stores', 'Retail', '1/16/2014', '76.76',\n",
       "        '-1.20%', '248,377', '55,688', 3235772],\n",
       "       ['AAPL', 'Apple Inc', 'Technology', '1/16/2014', '554.25',\n",
       "        '-0.60%', '494,697', '37,472', 892553],\n",
       "       ['IBM', 'Intl Business Machines', 'Technology', '1/16/2014',\n",
       "        '188.76', '0.50%', '204,965', '23,720', 1085854],\n",
       "       ['BAC', 'Bank Of America Corp', 'Financial', '1/16/2014', '17.08',\n",
       "        '-0.40%', '182,177', '23,553', 10666133],\n",
       "       ['SGL.KR', 'Samsung Electronics', 'Technology', '1/16/2014',\n",
       "        '1,301,000.00', '0.20%', '180,329', '23,444', 147299],\n",
       "       ['NESN.CH', \"Nestle 'R'\", 'Consumer Staple', '1/16/2014', '67.45',\n",
       "        '1.20%', '239,974', '22,584', 3224798],\n",
       "       ['MSFT', 'Microsoft Corp', 'Technology', '1/16/2014', '36.89',\n",
       "        '0.40%', '307,956', '18,529', 8347968],\n",
       "       ['AMZN', 'Amazon.Com Inc', 'Retail', '1/16/2014', '395.8',\n",
       "        '0.00%', '181,170', '17,092', 457733],\n",
       "       ['GOOG', 'Google Inc', 'Technology', '1/16/2014', '1,156.22',\n",
       "        '0.70%', '386,278', '14,893', 334087],\n",
       "       ['PFE', 'Pfizer Inc', 'Health Care', '1/16/2014', '31.17',\n",
       "        '0.00%', '202,014', '12,643', 6481070]], dtype=object)"
      ]
     },
     "execution_count": 79,
     "metadata": {},
     "output_type": "execute_result"
    }
   ],
   "source": [
    "df.values"
   ]
  },
  {
   "cell_type": "markdown",
   "metadata": {},
   "source": [
    "## Sort Data"
   ]
  },
  {
   "cell_type": "code",
   "execution_count": 80,
   "metadata": {},
   "outputs": [
    {
     "data": {
      "text/html": [
       "<div>\n",
       "<style scoped>\n",
       "    .dataframe tbody tr th:only-of-type {\n",
       "        vertical-align: middle;\n",
       "    }\n",
       "\n",
       "    .dataframe tbody tr th {\n",
       "        vertical-align: top;\n",
       "    }\n",
       "\n",
       "    .dataframe thead th {\n",
       "        text-align: right;\n",
       "    }\n",
       "</style>\n",
       "<table border=\"1\" class=\"dataframe\">\n",
       "  <thead>\n",
       "    <tr style=\"text-align: right;\">\n",
       "      <th></th>\n",
       "      <th>ticker</th>\n",
       "      <th>company_name</th>\n",
       "      <th>sector</th>\n",
       "      <th>trade_date</th>\n",
       "      <th>price</th>\n",
       "      <th>price_change_percent</th>\n",
       "      <th>market_capitalization</th>\n",
       "      <th>annual_sales</th>\n",
       "      <th>shares_outstanding</th>\n",
       "    </tr>\n",
       "  </thead>\n",
       "  <tbody>\n",
       "    <tr>\n",
       "      <th>1</th>\n",
       "      <td>AAPL</td>\n",
       "      <td>Apple Inc</td>\n",
       "      <td>Technology</td>\n",
       "      <td>1/16/2014</td>\n",
       "      <td>554.25</td>\n",
       "      <td>-0.60%</td>\n",
       "      <td>494,697</td>\n",
       "      <td>37,472</td>\n",
       "      <td>892553</td>\n",
       "    </tr>\n",
       "    <tr>\n",
       "      <th>8</th>\n",
       "      <td>GOOG</td>\n",
       "      <td>Google Inc</td>\n",
       "      <td>Technology</td>\n",
       "      <td>1/16/2014</td>\n",
       "      <td>1,156.22</td>\n",
       "      <td>0.70%</td>\n",
       "      <td>386,278</td>\n",
       "      <td>14,893</td>\n",
       "      <td>334087</td>\n",
       "    </tr>\n",
       "    <tr>\n",
       "      <th>6</th>\n",
       "      <td>MSFT</td>\n",
       "      <td>Microsoft Corp</td>\n",
       "      <td>Technology</td>\n",
       "      <td>1/16/2014</td>\n",
       "      <td>36.89</td>\n",
       "      <td>0.40%</td>\n",
       "      <td>307,956</td>\n",
       "      <td>18,529</td>\n",
       "      <td>8347968</td>\n",
       "    </tr>\n",
       "    <tr>\n",
       "      <th>0</th>\n",
       "      <td>WMT</td>\n",
       "      <td>Wal-Mart Stores</td>\n",
       "      <td>Retail</td>\n",
       "      <td>1/16/2014</td>\n",
       "      <td>76.76</td>\n",
       "      <td>-1.20%</td>\n",
       "      <td>248,377</td>\n",
       "      <td>55,688</td>\n",
       "      <td>3235772</td>\n",
       "    </tr>\n",
       "    <tr>\n",
       "      <th>5</th>\n",
       "      <td>NESN.CH</td>\n",
       "      <td>Nestle 'R'</td>\n",
       "      <td>Consumer Staple</td>\n",
       "      <td>1/16/2014</td>\n",
       "      <td>67.45</td>\n",
       "      <td>1.20%</td>\n",
       "      <td>239,974</td>\n",
       "      <td>22,584</td>\n",
       "      <td>3224798</td>\n",
       "    </tr>\n",
       "    <tr>\n",
       "      <th>2</th>\n",
       "      <td>IBM</td>\n",
       "      <td>Intl Business Machines</td>\n",
       "      <td>Technology</td>\n",
       "      <td>1/16/2014</td>\n",
       "      <td>188.76</td>\n",
       "      <td>0.50%</td>\n",
       "      <td>204,965</td>\n",
       "      <td>23,720</td>\n",
       "      <td>1085854</td>\n",
       "    </tr>\n",
       "    <tr>\n",
       "      <th>9</th>\n",
       "      <td>PFE</td>\n",
       "      <td>Pfizer Inc</td>\n",
       "      <td>Health Care</td>\n",
       "      <td>1/16/2014</td>\n",
       "      <td>31.17</td>\n",
       "      <td>0.00%</td>\n",
       "      <td>202,014</td>\n",
       "      <td>12,643</td>\n",
       "      <td>6481070</td>\n",
       "    </tr>\n",
       "    <tr>\n",
       "      <th>3</th>\n",
       "      <td>BAC</td>\n",
       "      <td>Bank Of America Corp</td>\n",
       "      <td>Financial</td>\n",
       "      <td>1/16/2014</td>\n",
       "      <td>17.08</td>\n",
       "      <td>-0.40%</td>\n",
       "      <td>182,177</td>\n",
       "      <td>23,553</td>\n",
       "      <td>10666133</td>\n",
       "    </tr>\n",
       "    <tr>\n",
       "      <th>7</th>\n",
       "      <td>AMZN</td>\n",
       "      <td>Amazon.Com Inc</td>\n",
       "      <td>Retail</td>\n",
       "      <td>1/16/2014</td>\n",
       "      <td>395.8</td>\n",
       "      <td>0.00%</td>\n",
       "      <td>181,170</td>\n",
       "      <td>17,092</td>\n",
       "      <td>457733</td>\n",
       "    </tr>\n",
       "    <tr>\n",
       "      <th>4</th>\n",
       "      <td>SGL.KR</td>\n",
       "      <td>Samsung Electronics</td>\n",
       "      <td>Technology</td>\n",
       "      <td>1/16/2014</td>\n",
       "      <td>1,301,000.00</td>\n",
       "      <td>0.20%</td>\n",
       "      <td>180,329</td>\n",
       "      <td>23,444</td>\n",
       "      <td>147299</td>\n",
       "    </tr>\n",
       "  </tbody>\n",
       "</table>\n",
       "</div>"
      ],
      "text/plain": [
       "    ticker            company_name           sector trade_date         price  \\\n",
       "1     AAPL               Apple Inc       Technology  1/16/2014        554.25   \n",
       "8     GOOG              Google Inc       Technology  1/16/2014      1,156.22   \n",
       "6     MSFT          Microsoft Corp       Technology  1/16/2014         36.89   \n",
       "0      WMT         Wal-Mart Stores           Retail  1/16/2014         76.76   \n",
       "5  NESN.CH              Nestle 'R'  Consumer Staple  1/16/2014         67.45   \n",
       "2      IBM  Intl Business Machines       Technology  1/16/2014        188.76   \n",
       "9      PFE              Pfizer Inc      Health Care  1/16/2014         31.17   \n",
       "3      BAC    Bank Of America Corp        Financial  1/16/2014         17.08   \n",
       "7     AMZN          Amazon.Com Inc           Retail  1/16/2014         395.8   \n",
       "4   SGL.KR     Samsung Electronics       Technology  1/16/2014  1,301,000.00   \n",
       "\n",
       "  price_change_percent market_capitalization annual_sales  shares_outstanding  \n",
       "1               -0.60%               494,697       37,472              892553  \n",
       "8                0.70%               386,278       14,893              334087  \n",
       "6                0.40%               307,956       18,529             8347968  \n",
       "0               -1.20%               248,377       55,688             3235772  \n",
       "5                1.20%               239,974       22,584             3224798  \n",
       "2                0.50%               204,965       23,720             1085854  \n",
       "9                0.00%               202,014       12,643             6481070  \n",
       "3               -0.40%               182,177       23,553            10666133  \n",
       "7                0.00%               181,170       17,092              457733  \n",
       "4                0.20%               180,329       23,444              147299  "
      ]
     },
     "execution_count": 80,
     "metadata": {},
     "output_type": "execute_result"
    }
   ],
   "source": [
    "df.sort_values(\"market_capitalization\", ascending=False)"
   ]
  },
  {
   "cell_type": "markdown",
   "metadata": {},
   "source": [
    "## Selecting Data (by Columns)"
   ]
  },
  {
   "cell_type": "code",
   "execution_count": 81,
   "metadata": {},
   "outputs": [
    {
     "data": {
      "text/plain": [
       "0        WMT\n",
       "1       AAPL\n",
       "2        IBM\n",
       "3        BAC\n",
       "4     SGL.KR\n",
       "5    NESN.CH\n",
       "6       MSFT\n",
       "7       AMZN\n",
       "8       GOOG\n",
       "9        PFE\n",
       "Name: ticker, dtype: object"
      ]
     },
     "execution_count": 81,
     "metadata": {},
     "output_type": "execute_result"
    }
   ],
   "source": [
    "df['ticker']"
   ]
  },
  {
   "cell_type": "markdown",
   "metadata": {},
   "source": [
    "OR, can use column name:"
   ]
  },
  {
   "cell_type": "code",
   "execution_count": 82,
   "metadata": {},
   "outputs": [
    {
     "data": {
      "text/plain": [
       "0        WMT\n",
       "1       AAPL\n",
       "2        IBM\n",
       "3        BAC\n",
       "4     SGL.KR\n",
       "5    NESN.CH\n",
       "6       MSFT\n",
       "7       AMZN\n",
       "8       GOOG\n",
       "9        PFE\n",
       "Name: ticker, dtype: object"
      ]
     },
     "execution_count": 82,
     "metadata": {},
     "output_type": "execute_result"
    }
   ],
   "source": [
    "df.ticker"
   ]
  },
  {
   "cell_type": "code",
   "execution_count": 83,
   "metadata": {},
   "outputs": [
    {
     "data": {
      "text/html": [
       "<div>\n",
       "<style scoped>\n",
       "    .dataframe tbody tr th:only-of-type {\n",
       "        vertical-align: middle;\n",
       "    }\n",
       "\n",
       "    .dataframe tbody tr th {\n",
       "        vertical-align: top;\n",
       "    }\n",
       "\n",
       "    .dataframe thead th {\n",
       "        text-align: right;\n",
       "    }\n",
       "</style>\n",
       "<table border=\"1\" class=\"dataframe\">\n",
       "  <thead>\n",
       "    <tr style=\"text-align: right;\">\n",
       "      <th></th>\n",
       "      <th>ticker</th>\n",
       "      <th>company_name</th>\n",
       "      <th>sector</th>\n",
       "    </tr>\n",
       "  </thead>\n",
       "  <tbody>\n",
       "    <tr>\n",
       "      <th>0</th>\n",
       "      <td>WMT</td>\n",
       "      <td>Wal-Mart Stores</td>\n",
       "      <td>Retail</td>\n",
       "    </tr>\n",
       "    <tr>\n",
       "      <th>1</th>\n",
       "      <td>AAPL</td>\n",
       "      <td>Apple Inc</td>\n",
       "      <td>Technology</td>\n",
       "    </tr>\n",
       "    <tr>\n",
       "      <th>2</th>\n",
       "      <td>IBM</td>\n",
       "      <td>Intl Business Machines</td>\n",
       "      <td>Technology</td>\n",
       "    </tr>\n",
       "    <tr>\n",
       "      <th>3</th>\n",
       "      <td>BAC</td>\n",
       "      <td>Bank Of America Corp</td>\n",
       "      <td>Financial</td>\n",
       "    </tr>\n",
       "    <tr>\n",
       "      <th>4</th>\n",
       "      <td>SGL.KR</td>\n",
       "      <td>Samsung Electronics</td>\n",
       "      <td>Technology</td>\n",
       "    </tr>\n",
       "    <tr>\n",
       "      <th>5</th>\n",
       "      <td>NESN.CH</td>\n",
       "      <td>Nestle 'R'</td>\n",
       "      <td>Consumer Staple</td>\n",
       "    </tr>\n",
       "    <tr>\n",
       "      <th>6</th>\n",
       "      <td>MSFT</td>\n",
       "      <td>Microsoft Corp</td>\n",
       "      <td>Technology</td>\n",
       "    </tr>\n",
       "    <tr>\n",
       "      <th>7</th>\n",
       "      <td>AMZN</td>\n",
       "      <td>Amazon.Com Inc</td>\n",
       "      <td>Retail</td>\n",
       "    </tr>\n",
       "    <tr>\n",
       "      <th>8</th>\n",
       "      <td>GOOG</td>\n",
       "      <td>Google Inc</td>\n",
       "      <td>Technology</td>\n",
       "    </tr>\n",
       "    <tr>\n",
       "      <th>9</th>\n",
       "      <td>PFE</td>\n",
       "      <td>Pfizer Inc</td>\n",
       "      <td>Health Care</td>\n",
       "    </tr>\n",
       "  </tbody>\n",
       "</table>\n",
       "</div>"
      ],
      "text/plain": [
       "    ticker            company_name           sector\n",
       "0      WMT         Wal-Mart Stores           Retail\n",
       "1     AAPL               Apple Inc       Technology\n",
       "2      IBM  Intl Business Machines       Technology\n",
       "3      BAC    Bank Of America Corp        Financial\n",
       "4   SGL.KR     Samsung Electronics       Technology\n",
       "5  NESN.CH              Nestle 'R'  Consumer Staple\n",
       "6     MSFT          Microsoft Corp       Technology\n",
       "7     AMZN          Amazon.Com Inc           Retail\n",
       "8     GOOG              Google Inc       Technology\n",
       "9      PFE              Pfizer Inc      Health Care"
      ]
     },
     "execution_count": 83,
     "metadata": {},
     "output_type": "execute_result"
    }
   ],
   "source": [
    "# Getting more than one column\n",
    "df[['ticker', 'company_name','sector']]"
   ]
  },
  {
   "cell_type": "markdown",
   "metadata": {},
   "source": [
    "# Selecting Data\n",
    "\n",
    "## Label vs. Location\n",
    "\n",
    "### df.loc[row_labels, column_labels] - select data (rows and/or columns) with particular label(s).\n",
    "\n",
    "Allowed inputs are:\n",
    "\n",
    "* An integer, e.g. 5.\n",
    "\n",
    "* A list or array of integers, e.g. [4, 3, 0].\n",
    "\n",
    "* A slice object with ints, e.g. 1:7.\n",
    "\n",
    "* A boolean array.\n",
    "\n",
    "### df.iloc[row_positions, column_positions] - select data (rows and/or columns) at integer locations.\n",
    "\n",
    "Allowed inputs are:\n",
    "\n",
    "* A single label, e.g. 5 or 'a', (note that 5 is interpreted as a label of the index, and never as an integer position along the index).\n",
    "\n",
    "* A list or array of labels, e.g. ['a', 'b', 'c'].\n",
    "\n",
    "* A slice object with labels, e.g. 'a':'f'.\n",
    "\n",
    "* A boolean array of the same length as the axis being sliced, e.g. [True, False, True].\n"
   ]
  },
  {
   "cell_type": "markdown",
   "metadata": {},
   "source": [
    "### Selecting a single row by position\n",
    "Selecting a single row by position"
   ]
  },
  {
   "cell_type": "code",
   "execution_count": 84,
   "metadata": {},
   "outputs": [
    {
     "data": {
      "text/plain": [
       "ticker                                    BAC\n",
       "company_name             Bank Of America Corp\n",
       "sector                              Financial\n",
       "trade_date                          1/16/2014\n",
       "price                                   17.08\n",
       "price_change_percent                   -0.40%\n",
       "market_capitalization                 182,177\n",
       "annual_sales                           23,553\n",
       "shares_outstanding                   10666133\n",
       "Name: 3, dtype: object"
      ]
     },
     "execution_count": 84,
     "metadata": {},
     "output_type": "execute_result"
    }
   ],
   "source": [
    "# selects series\n",
    "df.loc[3]"
   ]
  },
  {
   "cell_type": "code",
   "execution_count": 85,
   "metadata": {},
   "outputs": [
    {
     "data": {
      "text/plain": [
       "ticker                                    BAC\n",
       "company_name             Bank Of America Corp\n",
       "sector                              Financial\n",
       "trade_date                          1/16/2014\n",
       "price                                   17.08\n",
       "price_change_percent                   -0.40%\n",
       "market_capitalization                 182,177\n",
       "annual_sales                           23,553\n",
       "shares_outstanding                   10666133\n",
       "Name: 3, dtype: object"
      ]
     },
     "execution_count": 85,
     "metadata": {},
     "output_type": "execute_result"
    }
   ],
   "source": [
    "# selects series\n",
    "df.iloc[3]"
   ]
  },
  {
   "cell_type": "code",
   "execution_count": 86,
   "metadata": {},
   "outputs": [
    {
     "data": {
      "text/html": [
       "<div>\n",
       "<style scoped>\n",
       "    .dataframe tbody tr th:only-of-type {\n",
       "        vertical-align: middle;\n",
       "    }\n",
       "\n",
       "    .dataframe tbody tr th {\n",
       "        vertical-align: top;\n",
       "    }\n",
       "\n",
       "    .dataframe thead th {\n",
       "        text-align: right;\n",
       "    }\n",
       "</style>\n",
       "<table border=\"1\" class=\"dataframe\">\n",
       "  <thead>\n",
       "    <tr style=\"text-align: right;\">\n",
       "      <th></th>\n",
       "      <th>ticker</th>\n",
       "      <th>company_name</th>\n",
       "      <th>sector</th>\n",
       "      <th>trade_date</th>\n",
       "      <th>price</th>\n",
       "      <th>price_change_percent</th>\n",
       "      <th>market_capitalization</th>\n",
       "      <th>annual_sales</th>\n",
       "      <th>shares_outstanding</th>\n",
       "    </tr>\n",
       "  </thead>\n",
       "  <tbody>\n",
       "    <tr>\n",
       "      <th>3</th>\n",
       "      <td>BAC</td>\n",
       "      <td>Bank Of America Corp</td>\n",
       "      <td>Financial</td>\n",
       "      <td>1/16/2014</td>\n",
       "      <td>17.08</td>\n",
       "      <td>-0.40%</td>\n",
       "      <td>182,177</td>\n",
       "      <td>23,553</td>\n",
       "      <td>10666133</td>\n",
       "    </tr>\n",
       "  </tbody>\n",
       "</table>\n",
       "</div>"
      ],
      "text/plain": [
       "  ticker          company_name     sector trade_date  price  \\\n",
       "3    BAC  Bank Of America Corp  Financial  1/16/2014  17.08   \n",
       "\n",
       "  price_change_percent market_capitalization annual_sales  shares_outstanding  \n",
       "3               -0.40%               182,177       23,553            10666133  "
      ]
     },
     "execution_count": 86,
     "metadata": {},
     "output_type": "execute_result"
    }
   ],
   "source": [
    "# select the single row dataframe\n",
    "df.loc[[3]]"
   ]
  },
  {
   "cell_type": "markdown",
   "metadata": {},
   "source": [
    "### select the last row of the data frame - input: integer - output: series"
   ]
  },
  {
   "cell_type": "code",
   "execution_count": 87,
   "metadata": {},
   "outputs": [
    {
     "data": {
      "text/plain": [
       "ticker                           PFE\n",
       "company_name              Pfizer Inc\n",
       "sector                   Health Care\n",
       "trade_date                 1/16/2014\n",
       "price                          31.17\n",
       "price_change_percent           0.00%\n",
       "market_capitalization        202,014\n",
       "annual_sales                  12,643\n",
       "shares_outstanding           6481070\n",
       "Name: 9, dtype: object"
      ]
     },
     "execution_count": 87,
     "metadata": {},
     "output_type": "execute_result"
    }
   ],
   "source": [
    "df.iloc[-1]"
   ]
  },
  {
   "cell_type": "code",
   "execution_count": 88,
   "metadata": {},
   "outputs": [
    {
     "data": {
      "text/html": [
       "<div>\n",
       "<style scoped>\n",
       "    .dataframe tbody tr th:only-of-type {\n",
       "        vertical-align: middle;\n",
       "    }\n",
       "\n",
       "    .dataframe tbody tr th {\n",
       "        vertical-align: top;\n",
       "    }\n",
       "\n",
       "    .dataframe thead th {\n",
       "        text-align: right;\n",
       "    }\n",
       "</style>\n",
       "<table border=\"1\" class=\"dataframe\">\n",
       "  <thead>\n",
       "    <tr style=\"text-align: right;\">\n",
       "      <th></th>\n",
       "      <th>ticker</th>\n",
       "      <th>company_name</th>\n",
       "      <th>sector</th>\n",
       "      <th>trade_date</th>\n",
       "      <th>price</th>\n",
       "      <th>price_change_percent</th>\n",
       "      <th>market_capitalization</th>\n",
       "      <th>annual_sales</th>\n",
       "      <th>shares_outstanding</th>\n",
       "    </tr>\n",
       "  </thead>\n",
       "  <tbody>\n",
       "    <tr>\n",
       "      <th>9</th>\n",
       "      <td>PFE</td>\n",
       "      <td>Pfizer Inc</td>\n",
       "      <td>Health Care</td>\n",
       "      <td>1/16/2014</td>\n",
       "      <td>31.17</td>\n",
       "      <td>0.00%</td>\n",
       "      <td>202,014</td>\n",
       "      <td>12,643</td>\n",
       "      <td>6481070</td>\n",
       "    </tr>\n",
       "  </tbody>\n",
       "</table>\n",
       "</div>"
      ],
      "text/plain": [
       "  ticker company_name       sector trade_date  price price_change_percent  \\\n",
       "9    PFE   Pfizer Inc  Health Care  1/16/2014  31.17                0.00%   \n",
       "\n",
       "  market_capitalization annual_sales  shares_outstanding  \n",
       "9               202,014       12,643             6481070  "
      ]
     },
     "execution_count": 88,
     "metadata": {},
     "output_type": "execute_result"
    }
   ],
   "source": [
    "# select the last row of the data frame - input: list - output: data frame\n",
    "df.iloc[[-1]]"
   ]
  },
  {
   "cell_type": "markdown",
   "metadata": {},
   "source": [
    "# Selecting multiple rows by position\n",
    "To extract multiple rows by position, we pass either a list or a slice object to the .iloc[] indexer.\n",
    "\n",
    "#### df.loc[row_labels, column_labels]\n",
    "\n",
    "#### df.iloc[row_positions, column_positions]\n"
   ]
  },
  {
   "cell_type": "markdown",
   "metadata": {},
   "source": [
    "By integer slices, acting similar to numpy/Python:"
   ]
  },
  {
   "cell_type": "code",
   "execution_count": 89,
   "metadata": {},
   "outputs": [
    {
     "data": {
      "text/html": [
       "<div>\n",
       "<style scoped>\n",
       "    .dataframe tbody tr th:only-of-type {\n",
       "        vertical-align: middle;\n",
       "    }\n",
       "\n",
       "    .dataframe tbody tr th {\n",
       "        vertical-align: top;\n",
       "    }\n",
       "\n",
       "    .dataframe thead th {\n",
       "        text-align: right;\n",
       "    }\n",
       "</style>\n",
       "<table border=\"1\" class=\"dataframe\">\n",
       "  <thead>\n",
       "    <tr style=\"text-align: right;\">\n",
       "      <th></th>\n",
       "      <th>ticker</th>\n",
       "      <th>company_name</th>\n",
       "      <th>sector</th>\n",
       "      <th>trade_date</th>\n",
       "      <th>price</th>\n",
       "      <th>price_change_percent</th>\n",
       "      <th>market_capitalization</th>\n",
       "      <th>annual_sales</th>\n",
       "      <th>shares_outstanding</th>\n",
       "    </tr>\n",
       "  </thead>\n",
       "  <tbody>\n",
       "    <tr>\n",
       "      <th>2</th>\n",
       "      <td>IBM</td>\n",
       "      <td>Intl Business Machines</td>\n",
       "      <td>Technology</td>\n",
       "      <td>1/16/2014</td>\n",
       "      <td>188.76</td>\n",
       "      <td>0.50%</td>\n",
       "      <td>204,965</td>\n",
       "      <td>23,720</td>\n",
       "      <td>1085854</td>\n",
       "    </tr>\n",
       "    <tr>\n",
       "      <th>3</th>\n",
       "      <td>BAC</td>\n",
       "      <td>Bank Of America Corp</td>\n",
       "      <td>Financial</td>\n",
       "      <td>1/16/2014</td>\n",
       "      <td>17.08</td>\n",
       "      <td>-0.40%</td>\n",
       "      <td>182,177</td>\n",
       "      <td>23,553</td>\n",
       "      <td>10666133</td>\n",
       "    </tr>\n",
       "    <tr>\n",
       "      <th>6</th>\n",
       "      <td>MSFT</td>\n",
       "      <td>Microsoft Corp</td>\n",
       "      <td>Technology</td>\n",
       "      <td>1/16/2014</td>\n",
       "      <td>36.89</td>\n",
       "      <td>0.40%</td>\n",
       "      <td>307,956</td>\n",
       "      <td>18,529</td>\n",
       "      <td>8347968</td>\n",
       "    </tr>\n",
       "    <tr>\n",
       "      <th>7</th>\n",
       "      <td>AMZN</td>\n",
       "      <td>Amazon.Com Inc</td>\n",
       "      <td>Retail</td>\n",
       "      <td>1/16/2014</td>\n",
       "      <td>395.8</td>\n",
       "      <td>0.00%</td>\n",
       "      <td>181,170</td>\n",
       "      <td>17,092</td>\n",
       "      <td>457733</td>\n",
       "    </tr>\n",
       "  </tbody>\n",
       "</table>\n",
       "</div>"
      ],
      "text/plain": [
       "  ticker            company_name      sector trade_date   price  \\\n",
       "2    IBM  Intl Business Machines  Technology  1/16/2014  188.76   \n",
       "3    BAC    Bank Of America Corp   Financial  1/16/2014   17.08   \n",
       "6   MSFT          Microsoft Corp  Technology  1/16/2014   36.89   \n",
       "7   AMZN          Amazon.Com Inc      Retail  1/16/2014   395.8   \n",
       "\n",
       "  price_change_percent market_capitalization annual_sales  shares_outstanding  \n",
       "2                0.50%               204,965       23,720             1085854  \n",
       "3               -0.40%               182,177       23,553            10666133  \n",
       "6                0.40%               307,956       18,529             8347968  \n",
       "7                0.00%               181,170       17,092              457733  "
      ]
     },
     "execution_count": 89,
     "metadata": {},
     "output_type": "execute_result"
    }
   ],
   "source": [
    "# Selecting rows and columns simultaneously\n",
    "rows_to_select = [2, 3, 6, 7]\n",
    "\n",
    "# using loc\n",
    "df.loc[rows_to_select]"
   ]
  },
  {
   "cell_type": "code",
   "execution_count": 90,
   "metadata": {},
   "outputs": [
    {
     "data": {
      "text/plain": [
       "2     IBM\n",
       "3     BAC\n",
       "6    MSFT\n",
       "7    AMZN\n",
       "Name: ticker, dtype: object"
      ]
     },
     "execution_count": 90,
     "metadata": {},
     "output_type": "execute_result"
    }
   ],
   "source": [
    "# we can select\n",
    "df['ticker'].loc[rows_to_select]"
   ]
  },
  {
   "cell_type": "code",
   "execution_count": 91,
   "metadata": {},
   "outputs": [
    {
     "data": {
      "text/html": [
       "<div>\n",
       "<style scoped>\n",
       "    .dataframe tbody tr th:only-of-type {\n",
       "        vertical-align: middle;\n",
       "    }\n",
       "\n",
       "    .dataframe tbody tr th {\n",
       "        vertical-align: top;\n",
       "    }\n",
       "\n",
       "    .dataframe thead th {\n",
       "        text-align: right;\n",
       "    }\n",
       "</style>\n",
       "<table border=\"1\" class=\"dataframe\">\n",
       "  <thead>\n",
       "    <tr style=\"text-align: right;\">\n",
       "      <th></th>\n",
       "      <th>ticker</th>\n",
       "      <th>company_name</th>\n",
       "      <th>sector</th>\n",
       "      <th>trade_date</th>\n",
       "      <th>price</th>\n",
       "      <th>price_change_percent</th>\n",
       "      <th>market_capitalization</th>\n",
       "      <th>annual_sales</th>\n",
       "      <th>shares_outstanding</th>\n",
       "    </tr>\n",
       "  </thead>\n",
       "  <tbody>\n",
       "    <tr>\n",
       "      <th>2</th>\n",
       "      <td>IBM</td>\n",
       "      <td>Intl Business Machines</td>\n",
       "      <td>Technology</td>\n",
       "      <td>1/16/2014</td>\n",
       "      <td>188.76</td>\n",
       "      <td>0.50%</td>\n",
       "      <td>204,965</td>\n",
       "      <td>23,720</td>\n",
       "      <td>1085854</td>\n",
       "    </tr>\n",
       "    <tr>\n",
       "      <th>3</th>\n",
       "      <td>BAC</td>\n",
       "      <td>Bank Of America Corp</td>\n",
       "      <td>Financial</td>\n",
       "      <td>1/16/2014</td>\n",
       "      <td>17.08</td>\n",
       "      <td>-0.40%</td>\n",
       "      <td>182,177</td>\n",
       "      <td>23,553</td>\n",
       "      <td>10666133</td>\n",
       "    </tr>\n",
       "    <tr>\n",
       "      <th>6</th>\n",
       "      <td>MSFT</td>\n",
       "      <td>Microsoft Corp</td>\n",
       "      <td>Technology</td>\n",
       "      <td>1/16/2014</td>\n",
       "      <td>36.89</td>\n",
       "      <td>0.40%</td>\n",
       "      <td>307,956</td>\n",
       "      <td>18,529</td>\n",
       "      <td>8347968</td>\n",
       "    </tr>\n",
       "    <tr>\n",
       "      <th>7</th>\n",
       "      <td>AMZN</td>\n",
       "      <td>Amazon.Com Inc</td>\n",
       "      <td>Retail</td>\n",
       "      <td>1/16/2014</td>\n",
       "      <td>395.8</td>\n",
       "      <td>0.00%</td>\n",
       "      <td>181,170</td>\n",
       "      <td>17,092</td>\n",
       "      <td>457733</td>\n",
       "    </tr>\n",
       "  </tbody>\n",
       "</table>\n",
       "</div>"
      ],
      "text/plain": [
       "  ticker            company_name      sector trade_date   price  \\\n",
       "2    IBM  Intl Business Machines  Technology  1/16/2014  188.76   \n",
       "3    BAC    Bank Of America Corp   Financial  1/16/2014   17.08   \n",
       "6   MSFT          Microsoft Corp  Technology  1/16/2014   36.89   \n",
       "7   AMZN          Amazon.Com Inc      Retail  1/16/2014   395.8   \n",
       "\n",
       "  price_change_percent market_capitalization annual_sales  shares_outstanding  \n",
       "2                0.50%               204,965       23,720             1085854  \n",
       "3               -0.40%               182,177       23,553            10666133  \n",
       "6                0.40%               307,956       18,529             8347968  \n",
       "7                0.00%               181,170       17,092              457733  "
      ]
     },
     "execution_count": 91,
     "metadata": {},
     "output_type": "execute_result"
    }
   ],
   "source": [
    "# using iloc method\n",
    "df.iloc[rows_to_select]"
   ]
  },
  {
   "cell_type": "code",
   "execution_count": 92,
   "metadata": {},
   "outputs": [
    {
     "data": {
      "text/html": [
       "<div>\n",
       "<style scoped>\n",
       "    .dataframe tbody tr th:only-of-type {\n",
       "        vertical-align: middle;\n",
       "    }\n",
       "\n",
       "    .dataframe tbody tr th {\n",
       "        vertical-align: top;\n",
       "    }\n",
       "\n",
       "    .dataframe thead th {\n",
       "        text-align: right;\n",
       "    }\n",
       "</style>\n",
       "<table border=\"1\" class=\"dataframe\">\n",
       "  <thead>\n",
       "    <tr style=\"text-align: right;\">\n",
       "      <th></th>\n",
       "      <th>ticker</th>\n",
       "      <th>company_name</th>\n",
       "      <th>sector</th>\n",
       "      <th>trade_date</th>\n",
       "      <th>price</th>\n",
       "      <th>price_change_percent</th>\n",
       "      <th>market_capitalization</th>\n",
       "      <th>annual_sales</th>\n",
       "      <th>shares_outstanding</th>\n",
       "    </tr>\n",
       "  </thead>\n",
       "  <tbody>\n",
       "    <tr>\n",
       "      <th>0</th>\n",
       "      <td>WMT</td>\n",
       "      <td>Wal-Mart Stores</td>\n",
       "      <td>Retail</td>\n",
       "      <td>1/16/2014</td>\n",
       "      <td>76.76</td>\n",
       "      <td>-1.20%</td>\n",
       "      <td>248,377</td>\n",
       "      <td>55,688</td>\n",
       "      <td>3235772</td>\n",
       "    </tr>\n",
       "    <tr>\n",
       "      <th>1</th>\n",
       "      <td>AAPL</td>\n",
       "      <td>Apple Inc</td>\n",
       "      <td>Technology</td>\n",
       "      <td>1/16/2014</td>\n",
       "      <td>554.25</td>\n",
       "      <td>-0.60%</td>\n",
       "      <td>494,697</td>\n",
       "      <td>37,472</td>\n",
       "      <td>892553</td>\n",
       "    </tr>\n",
       "    <tr>\n",
       "      <th>2</th>\n",
       "      <td>IBM</td>\n",
       "      <td>Intl Business Machines</td>\n",
       "      <td>Technology</td>\n",
       "      <td>1/16/2014</td>\n",
       "      <td>188.76</td>\n",
       "      <td>0.50%</td>\n",
       "      <td>204,965</td>\n",
       "      <td>23,720</td>\n",
       "      <td>1085854</td>\n",
       "    </tr>\n",
       "    <tr>\n",
       "      <th>3</th>\n",
       "      <td>BAC</td>\n",
       "      <td>Bank Of America Corp</td>\n",
       "      <td>Financial</td>\n",
       "      <td>1/16/2014</td>\n",
       "      <td>17.08</td>\n",
       "      <td>-0.40%</td>\n",
       "      <td>182,177</td>\n",
       "      <td>23,553</td>\n",
       "      <td>10666133</td>\n",
       "    </tr>\n",
       "    <tr>\n",
       "      <th>4</th>\n",
       "      <td>SGL.KR</td>\n",
       "      <td>Samsung Electronics</td>\n",
       "      <td>Technology</td>\n",
       "      <td>1/16/2014</td>\n",
       "      <td>1,301,000.00</td>\n",
       "      <td>0.20%</td>\n",
       "      <td>180,329</td>\n",
       "      <td>23,444</td>\n",
       "      <td>147299</td>\n",
       "    </tr>\n",
       "  </tbody>\n",
       "</table>\n",
       "</div>"
      ],
      "text/plain": [
       "   ticker            company_name      sector trade_date         price  \\\n",
       "0     WMT         Wal-Mart Stores      Retail  1/16/2014         76.76   \n",
       "1    AAPL               Apple Inc  Technology  1/16/2014        554.25   \n",
       "2     IBM  Intl Business Machines  Technology  1/16/2014        188.76   \n",
       "3     BAC    Bank Of America Corp   Financial  1/16/2014         17.08   \n",
       "4  SGL.KR     Samsung Electronics  Technology  1/16/2014  1,301,000.00   \n",
       "\n",
       "  price_change_percent market_capitalization annual_sales  shares_outstanding  \n",
       "0               -1.20%               248,377       55,688             3235772  \n",
       "1               -0.60%               494,697       37,472              892553  \n",
       "2                0.50%               204,965       23,720             1085854  \n",
       "3               -0.40%               182,177       23,553            10666133  \n",
       "4                0.20%               180,329       23,444              147299  "
      ]
     },
     "execution_count": 92,
     "metadata": {},
     "output_type": "execute_result"
    }
   ],
   "source": [
    "# select the first five rows of the dataframe using slice notation\n",
    "df.iloc[0:5]"
   ]
  },
  {
   "cell_type": "code",
   "execution_count": 93,
   "metadata": {},
   "outputs": [
    {
     "data": {
      "text/plain": [
       "ticker          SGL.KR\n",
       "sector      Technology\n",
       "price     1,301,000.00\n",
       "Name: 4, dtype: object"
      ]
     },
     "execution_count": 93,
     "metadata": {},
     "output_type": "execute_result"
    }
   ],
   "source": [
    "# Selecting a single row and multiple columns\n",
    "# select the name, surname, and salary of the employee with id number 478 by position\n",
    "df.iloc[1, [0, 1, 3]]\n",
    "\n",
    "# select the name, surname, and salary of the employee with id number 478 by label\n",
    "df.loc[4, ['ticker', 'sector', 'price']]\n"
   ]
  },
  {
   "cell_type": "markdown",
   "metadata": {},
   "source": [
    "### For getting a value (cell) explicitly:\n"
   ]
  },
  {
   "cell_type": "code",
   "execution_count": 94,
   "metadata": {},
   "outputs": [
    {
     "data": {
      "text/plain": [
       "'Intl Business Machines'"
      ]
     },
     "execution_count": 94,
     "metadata": {},
     "output_type": "execute_result"
    }
   ],
   "source": [
    "df.iloc[2, 1]"
   ]
  },
  {
   "cell_type": "markdown",
   "metadata": {},
   "source": [
    "For getting fast access to a scalar (equivalent to the prior method):"
   ]
  },
  {
   "cell_type": "code",
   "execution_count": 95,
   "metadata": {},
   "outputs": [
    {
     "data": {
      "text/html": [
       "<div>\n",
       "<style scoped>\n",
       "    .dataframe tbody tr th:only-of-type {\n",
       "        vertical-align: middle;\n",
       "    }\n",
       "\n",
       "    .dataframe tbody tr th {\n",
       "        vertical-align: top;\n",
       "    }\n",
       "\n",
       "    .dataframe thead th {\n",
       "        text-align: right;\n",
       "    }\n",
       "</style>\n",
       "<table border=\"1\" class=\"dataframe\">\n",
       "  <thead>\n",
       "    <tr style=\"text-align: right;\">\n",
       "      <th></th>\n",
       "      <th>ticker</th>\n",
       "      <th>company_name</th>\n",
       "      <th>sector</th>\n",
       "      <th>trade_date</th>\n",
       "      <th>price</th>\n",
       "      <th>price_change_percent</th>\n",
       "      <th>market_capitalization</th>\n",
       "      <th>annual_sales</th>\n",
       "      <th>shares_outstanding</th>\n",
       "    </tr>\n",
       "  </thead>\n",
       "  <tbody>\n",
       "    <tr>\n",
       "      <th>1</th>\n",
       "      <td>AAPL</td>\n",
       "      <td>Apple Inc</td>\n",
       "      <td>Technology</td>\n",
       "      <td>1/16/2014</td>\n",
       "      <td>554.25</td>\n",
       "      <td>-0.60%</td>\n",
       "      <td>494,697</td>\n",
       "      <td>37,472</td>\n",
       "      <td>892553</td>\n",
       "    </tr>\n",
       "    <tr>\n",
       "      <th>2</th>\n",
       "      <td>IBM</td>\n",
       "      <td>Intl Business Machines</td>\n",
       "      <td>Technology</td>\n",
       "      <td>1/16/2014</td>\n",
       "      <td>188.76</td>\n",
       "      <td>0.50%</td>\n",
       "      <td>204,965</td>\n",
       "      <td>23,720</td>\n",
       "      <td>1085854</td>\n",
       "    </tr>\n",
       "  </tbody>\n",
       "</table>\n",
       "</div>"
      ],
      "text/plain": [
       "  ticker            company_name      sector trade_date   price  \\\n",
       "1   AAPL               Apple Inc  Technology  1/16/2014  554.25   \n",
       "2    IBM  Intl Business Machines  Technology  1/16/2014  188.76   \n",
       "\n",
       "  price_change_percent market_capitalization annual_sales  shares_outstanding  \n",
       "1               -0.60%               494,697       37,472              892553  \n",
       "2                0.50%               204,965       23,720             1085854  "
      ]
     },
     "execution_count": 95,
     "metadata": {},
     "output_type": "execute_result"
    }
   ],
   "source": [
    "df.iat[2, 1]\n",
    "\n",
    "# For slicing rows explicitly:\n",
    "df.iloc[1:3, :]"
   ]
  },
  {
   "cell_type": "code",
   "execution_count": 96,
   "metadata": {},
   "outputs": [
    {
     "data": {
      "text/plain": [
       "ticker                                      IBM\n",
       "company_name             Intl Business Machines\n",
       "sector                               Technology\n",
       "trade_date                            1/16/2014\n",
       "price                                    188.76\n",
       "price_change_percent                      0.50%\n",
       "market_capitalization                   204,965\n",
       "annual_sales                             23,720\n",
       "shares_outstanding                      1085854\n",
       "Name: 2, dtype: object"
      ]
     },
     "execution_count": 96,
     "metadata": {},
     "output_type": "execute_result"
    }
   ],
   "source": [
    "# The .iloc[] indexer is used to index a data frame by position.\n",
    "df.iloc[2]"
   ]
  },
  {
   "cell_type": "code",
   "execution_count": 97,
   "metadata": {},
   "outputs": [
    {
     "data": {
      "text/html": [
       "<div>\n",
       "<style scoped>\n",
       "    .dataframe tbody tr th:only-of-type {\n",
       "        vertical-align: middle;\n",
       "    }\n",
       "\n",
       "    .dataframe tbody tr th {\n",
       "        vertical-align: top;\n",
       "    }\n",
       "\n",
       "    .dataframe thead th {\n",
       "        text-align: right;\n",
       "    }\n",
       "</style>\n",
       "<table border=\"1\" class=\"dataframe\">\n",
       "  <thead>\n",
       "    <tr style=\"text-align: right;\">\n",
       "      <th></th>\n",
       "      <th>ticker</th>\n",
       "      <th>company_name</th>\n",
       "      <th>sector</th>\n",
       "      <th>trade_date</th>\n",
       "      <th>price</th>\n",
       "      <th>price_change_percent</th>\n",
       "      <th>market_capitalization</th>\n",
       "      <th>annual_sales</th>\n",
       "      <th>shares_outstanding</th>\n",
       "    </tr>\n",
       "  </thead>\n",
       "  <tbody>\n",
       "    <tr>\n",
       "      <th>2</th>\n",
       "      <td>IBM</td>\n",
       "      <td>Intl Business Machines</td>\n",
       "      <td>Technology</td>\n",
       "      <td>1/16/2014</td>\n",
       "      <td>188.76</td>\n",
       "      <td>0.50%</td>\n",
       "      <td>204,965</td>\n",
       "      <td>23,720</td>\n",
       "      <td>1085854</td>\n",
       "    </tr>\n",
       "  </tbody>\n",
       "</table>\n",
       "</div>"
      ],
      "text/plain": [
       "  ticker            company_name      sector trade_date   price  \\\n",
       "2    IBM  Intl Business Machines  Technology  1/16/2014  188.76   \n",
       "\n",
       "  price_change_percent market_capitalization annual_sales  shares_outstanding  \n",
       "2                0.50%               204,965       23,720             1085854  "
      ]
     },
     "execution_count": 97,
     "metadata": {},
     "output_type": "execute_result"
    }
   ],
   "source": [
    "# To extract multiple rows by position, we pass either a list or a slice object to the .iloc[] indexer.\n",
    "df.iloc[[2]]"
   ]
  },
  {
   "cell_type": "code",
   "execution_count": 98,
   "metadata": {},
   "outputs": [
    {
     "data": {
      "text/html": [
       "<div>\n",
       "<style scoped>\n",
       "    .dataframe tbody tr th:only-of-type {\n",
       "        vertical-align: middle;\n",
       "    }\n",
       "\n",
       "    .dataframe tbody tr th {\n",
       "        vertical-align: top;\n",
       "    }\n",
       "\n",
       "    .dataframe thead th {\n",
       "        text-align: right;\n",
       "    }\n",
       "</style>\n",
       "<table border=\"1\" class=\"dataframe\">\n",
       "  <thead>\n",
       "    <tr style=\"text-align: right;\">\n",
       "      <th></th>\n",
       "      <th>ticker</th>\n",
       "      <th>company_name</th>\n",
       "      <th>sector</th>\n",
       "      <th>trade_date</th>\n",
       "      <th>price</th>\n",
       "      <th>price_change_percent</th>\n",
       "      <th>market_capitalization</th>\n",
       "      <th>annual_sales</th>\n",
       "      <th>shares_outstanding</th>\n",
       "    </tr>\n",
       "  </thead>\n",
       "  <tbody>\n",
       "    <tr>\n",
       "      <th>2</th>\n",
       "      <td>IBM</td>\n",
       "      <td>Intl Business Machines</td>\n",
       "      <td>Technology</td>\n",
       "      <td>1/16/2014</td>\n",
       "      <td>188.76</td>\n",
       "      <td>0.50%</td>\n",
       "      <td>204,965</td>\n",
       "      <td>23,720</td>\n",
       "      <td>1085854</td>\n",
       "    </tr>\n",
       "    <tr>\n",
       "      <th>3</th>\n",
       "      <td>BAC</td>\n",
       "      <td>Bank Of America Corp</td>\n",
       "      <td>Financial</td>\n",
       "      <td>1/16/2014</td>\n",
       "      <td>17.08</td>\n",
       "      <td>-0.40%</td>\n",
       "      <td>182,177</td>\n",
       "      <td>23,553</td>\n",
       "      <td>10666133</td>\n",
       "    </tr>\n",
       "    <tr>\n",
       "      <th>6</th>\n",
       "      <td>MSFT</td>\n",
       "      <td>Microsoft Corp</td>\n",
       "      <td>Technology</td>\n",
       "      <td>1/16/2014</td>\n",
       "      <td>36.89</td>\n",
       "      <td>0.40%</td>\n",
       "      <td>307,956</td>\n",
       "      <td>18,529</td>\n",
       "      <td>8347968</td>\n",
       "    </tr>\n",
       "    <tr>\n",
       "      <th>7</th>\n",
       "      <td>AMZN</td>\n",
       "      <td>Amazon.Com Inc</td>\n",
       "      <td>Retail</td>\n",
       "      <td>1/16/2014</td>\n",
       "      <td>395.8</td>\n",
       "      <td>0.00%</td>\n",
       "      <td>181,170</td>\n",
       "      <td>17,092</td>\n",
       "      <td>457733</td>\n",
       "    </tr>\n",
       "  </tbody>\n",
       "</table>\n",
       "</div>"
      ],
      "text/plain": [
       "  ticker            company_name      sector trade_date   price  \\\n",
       "2    IBM  Intl Business Machines  Technology  1/16/2014  188.76   \n",
       "3    BAC    Bank Of America Corp   Financial  1/16/2014   17.08   \n",
       "6   MSFT          Microsoft Corp  Technology  1/16/2014   36.89   \n",
       "7   AMZN          Amazon.Com Inc      Retail  1/16/2014   395.8   \n",
       "\n",
       "  price_change_percent market_capitalization annual_sales  shares_outstanding  \n",
       "2                0.50%               204,965       23,720             1085854  \n",
       "3               -0.40%               182,177       23,553            10666133  \n",
       "6                0.40%               307,956       18,529             8347968  \n",
       "7                0.00%               181,170       17,092              457733  "
      ]
     },
     "execution_count": 98,
     "metadata": {},
     "output_type": "execute_result"
    }
   ],
   "source": [
    "df.iloc[rows_to_select]"
   ]
  },
  {
   "cell_type": "code",
   "execution_count": 99,
   "metadata": {},
   "outputs": [
    {
     "data": {
      "text/plain": [
       "'Apple Inc'"
      ]
     },
     "execution_count": 99,
     "metadata": {},
     "output_type": "execute_result"
    }
   ],
   "source": [
    "# Getting a single value\n",
    "df.loc[1,'company_name']"
   ]
  },
  {
   "cell_type": "markdown",
   "metadata": {},
   "source": [
    "See more at Selection by Label.\n",
    "\n",
    "* df.iloc is primarily integer position based (from 0 to length-1 of the axis), but may also be used with a boolean array. .iloc will raise IndexError if a requested indexer is out-of-bounds, except slice indexers which allow out-of-bounds indexing. (this conforms with Python/NumPy slice semantics). Allowed inputs are:\n",
    "\n",
    "    * An integer e.g. 5.\n",
    "\n",
    "    * A list or array of integers [4, 3, 0].\n",
    "\n",
    "    * A slice object with ints 1:7.\n",
    "\n",
    "    * A boolean array (any NA values will be treated as False).\n",
    "\n",
    "    * A callable function with one argument (the calling Series or DataFrame) and that returns valid output for indexing (one of the above)."
   ]
  },
  {
   "cell_type": "markdown",
   "metadata": {},
   "source": [
    "It is also possible to select by position using the *iloc* method"
   ]
  },
  {
   "cell_type": "markdown",
   "metadata": {},
   "source": [
    "## Describe data quick statistical summary"
   ]
  },
  {
   "cell_type": "code",
   "execution_count": 100,
   "metadata": {
    "jupyter": {
     "outputs_hidden": false
    },
    "pycharm": {
     "name": "#%%\n"
    }
   },
   "outputs": [
    {
     "data": {
      "text/html": [
       "<div>\n",
       "<style scoped>\n",
       "    .dataframe tbody tr th:only-of-type {\n",
       "        vertical-align: middle;\n",
       "    }\n",
       "\n",
       "    .dataframe tbody tr th {\n",
       "        vertical-align: top;\n",
       "    }\n",
       "\n",
       "    .dataframe thead th {\n",
       "        text-align: right;\n",
       "    }\n",
       "</style>\n",
       "<table border=\"1\" class=\"dataframe\">\n",
       "  <thead>\n",
       "    <tr style=\"text-align: right;\">\n",
       "      <th></th>\n",
       "      <th>shares_outstanding</th>\n",
       "    </tr>\n",
       "  </thead>\n",
       "  <tbody>\n",
       "    <tr>\n",
       "      <th>count</th>\n",
       "      <td>1.000000e+01</td>\n",
       "    </tr>\n",
       "    <tr>\n",
       "      <th>mean</th>\n",
       "      <td>3.487327e+06</td>\n",
       "    </tr>\n",
       "    <tr>\n",
       "      <th>std</th>\n",
       "      <td>3.756962e+06</td>\n",
       "    </tr>\n",
       "    <tr>\n",
       "      <th>min</th>\n",
       "      <td>1.472990e+05</td>\n",
       "    </tr>\n",
       "    <tr>\n",
       "      <th>25%</th>\n",
       "      <td>5.664380e+05</td>\n",
       "    </tr>\n",
       "    <tr>\n",
       "      <th>50%</th>\n",
       "      <td>2.155326e+06</td>\n",
       "    </tr>\n",
       "    <tr>\n",
       "      <th>75%</th>\n",
       "      <td>5.669746e+06</td>\n",
       "    </tr>\n",
       "    <tr>\n",
       "      <th>max</th>\n",
       "      <td>1.066613e+07</td>\n",
       "    </tr>\n",
       "  </tbody>\n",
       "</table>\n",
       "</div>"
      ],
      "text/plain": [
       "       shares_outstanding\n",
       "count        1.000000e+01\n",
       "mean         3.487327e+06\n",
       "std          3.756962e+06\n",
       "min          1.472990e+05\n",
       "25%          5.664380e+05\n",
       "50%          2.155326e+06\n",
       "75%          5.669746e+06\n",
       "max          1.066613e+07"
      ]
     },
     "execution_count": 100,
     "metadata": {},
     "output_type": "execute_result"
    }
   ],
   "source": [
    "df.describe()"
   ]
  },
  {
   "cell_type": "markdown",
   "metadata": {},
   "source": [
    "## Transpose your data"
   ]
  },
  {
   "cell_type": "code",
   "execution_count": 101,
   "metadata": {
    "jupyter": {
     "outputs_hidden": false
    },
    "pycharm": {
     "name": "#%%\n"
    }
   },
   "outputs": [
    {
     "data": {
      "text/html": [
       "<div>\n",
       "<style scoped>\n",
       "    .dataframe tbody tr th:only-of-type {\n",
       "        vertical-align: middle;\n",
       "    }\n",
       "\n",
       "    .dataframe tbody tr th {\n",
       "        vertical-align: top;\n",
       "    }\n",
       "\n",
       "    .dataframe thead th {\n",
       "        text-align: right;\n",
       "    }\n",
       "</style>\n",
       "<table border=\"1\" class=\"dataframe\">\n",
       "  <thead>\n",
       "    <tr style=\"text-align: right;\">\n",
       "      <th></th>\n",
       "      <th>0</th>\n",
       "      <th>1</th>\n",
       "      <th>2</th>\n",
       "      <th>3</th>\n",
       "      <th>4</th>\n",
       "      <th>5</th>\n",
       "      <th>6</th>\n",
       "      <th>7</th>\n",
       "      <th>8</th>\n",
       "      <th>9</th>\n",
       "    </tr>\n",
       "  </thead>\n",
       "  <tbody>\n",
       "    <tr>\n",
       "      <th>ticker</th>\n",
       "      <td>WMT</td>\n",
       "      <td>AAPL</td>\n",
       "      <td>IBM</td>\n",
       "      <td>BAC</td>\n",
       "      <td>SGL.KR</td>\n",
       "      <td>NESN.CH</td>\n",
       "      <td>MSFT</td>\n",
       "      <td>AMZN</td>\n",
       "      <td>GOOG</td>\n",
       "      <td>PFE</td>\n",
       "    </tr>\n",
       "    <tr>\n",
       "      <th>company_name</th>\n",
       "      <td>Wal-Mart Stores</td>\n",
       "      <td>Apple Inc</td>\n",
       "      <td>Intl Business Machines</td>\n",
       "      <td>Bank Of America Corp</td>\n",
       "      <td>Samsung Electronics</td>\n",
       "      <td>Nestle 'R'</td>\n",
       "      <td>Microsoft Corp</td>\n",
       "      <td>Amazon.Com Inc</td>\n",
       "      <td>Google Inc</td>\n",
       "      <td>Pfizer Inc</td>\n",
       "    </tr>\n",
       "    <tr>\n",
       "      <th>sector</th>\n",
       "      <td>Retail</td>\n",
       "      <td>Technology</td>\n",
       "      <td>Technology</td>\n",
       "      <td>Financial</td>\n",
       "      <td>Technology</td>\n",
       "      <td>Consumer Staple</td>\n",
       "      <td>Technology</td>\n",
       "      <td>Retail</td>\n",
       "      <td>Technology</td>\n",
       "      <td>Health Care</td>\n",
       "    </tr>\n",
       "    <tr>\n",
       "      <th>trade_date</th>\n",
       "      <td>1/16/2014</td>\n",
       "      <td>1/16/2014</td>\n",
       "      <td>1/16/2014</td>\n",
       "      <td>1/16/2014</td>\n",
       "      <td>1/16/2014</td>\n",
       "      <td>1/16/2014</td>\n",
       "      <td>1/16/2014</td>\n",
       "      <td>1/16/2014</td>\n",
       "      <td>1/16/2014</td>\n",
       "      <td>1/16/2014</td>\n",
       "    </tr>\n",
       "    <tr>\n",
       "      <th>price</th>\n",
       "      <td>76.76</td>\n",
       "      <td>554.25</td>\n",
       "      <td>188.76</td>\n",
       "      <td>17.08</td>\n",
       "      <td>1,301,000.00</td>\n",
       "      <td>67.45</td>\n",
       "      <td>36.89</td>\n",
       "      <td>395.8</td>\n",
       "      <td>1,156.22</td>\n",
       "      <td>31.17</td>\n",
       "    </tr>\n",
       "    <tr>\n",
       "      <th>price_change_percent</th>\n",
       "      <td>-1.20%</td>\n",
       "      <td>-0.60%</td>\n",
       "      <td>0.50%</td>\n",
       "      <td>-0.40%</td>\n",
       "      <td>0.20%</td>\n",
       "      <td>1.20%</td>\n",
       "      <td>0.40%</td>\n",
       "      <td>0.00%</td>\n",
       "      <td>0.70%</td>\n",
       "      <td>0.00%</td>\n",
       "    </tr>\n",
       "    <tr>\n",
       "      <th>market_capitalization</th>\n",
       "      <td>248,377</td>\n",
       "      <td>494,697</td>\n",
       "      <td>204,965</td>\n",
       "      <td>182,177</td>\n",
       "      <td>180,329</td>\n",
       "      <td>239,974</td>\n",
       "      <td>307,956</td>\n",
       "      <td>181,170</td>\n",
       "      <td>386,278</td>\n",
       "      <td>202,014</td>\n",
       "    </tr>\n",
       "    <tr>\n",
       "      <th>annual_sales</th>\n",
       "      <td>55,688</td>\n",
       "      <td>37,472</td>\n",
       "      <td>23,720</td>\n",
       "      <td>23,553</td>\n",
       "      <td>23,444</td>\n",
       "      <td>22,584</td>\n",
       "      <td>18,529</td>\n",
       "      <td>17,092</td>\n",
       "      <td>14,893</td>\n",
       "      <td>12,643</td>\n",
       "    </tr>\n",
       "    <tr>\n",
       "      <th>shares_outstanding</th>\n",
       "      <td>3235772</td>\n",
       "      <td>892553</td>\n",
       "      <td>1085854</td>\n",
       "      <td>10666133</td>\n",
       "      <td>147299</td>\n",
       "      <td>3224798</td>\n",
       "      <td>8347968</td>\n",
       "      <td>457733</td>\n",
       "      <td>334087</td>\n",
       "      <td>6481070</td>\n",
       "    </tr>\n",
       "  </tbody>\n",
       "</table>\n",
       "</div>"
      ],
      "text/plain": [
       "                                     0           1                       2  \\\n",
       "ticker                             WMT        AAPL                     IBM   \n",
       "company_name           Wal-Mart Stores   Apple Inc  Intl Business Machines   \n",
       "sector                          Retail  Technology              Technology   \n",
       "trade_date                   1/16/2014   1/16/2014               1/16/2014   \n",
       "price                            76.76      554.25                  188.76   \n",
       "price_change_percent            -1.20%      -0.60%                   0.50%   \n",
       "market_capitalization          248,377     494,697                 204,965   \n",
       "annual_sales                    55,688      37,472                  23,720   \n",
       "shares_outstanding             3235772      892553                 1085854   \n",
       "\n",
       "                                          3                    4  \\\n",
       "ticker                                  BAC               SGL.KR   \n",
       "company_name           Bank Of America Corp  Samsung Electronics   \n",
       "sector                            Financial           Technology   \n",
       "trade_date                        1/16/2014            1/16/2014   \n",
       "price                                 17.08         1,301,000.00   \n",
       "price_change_percent                 -0.40%                0.20%   \n",
       "market_capitalization               182,177              180,329   \n",
       "annual_sales                         23,553               23,444   \n",
       "shares_outstanding                 10666133               147299   \n",
       "\n",
       "                                     5               6               7  \\\n",
       "ticker                         NESN.CH            MSFT            AMZN   \n",
       "company_name                Nestle 'R'  Microsoft Corp  Amazon.Com Inc   \n",
       "sector                 Consumer Staple      Technology          Retail   \n",
       "trade_date                   1/16/2014       1/16/2014       1/16/2014   \n",
       "price                            67.45           36.89           395.8   \n",
       "price_change_percent             1.20%           0.40%           0.00%   \n",
       "market_capitalization          239,974         307,956         181,170   \n",
       "annual_sales                    22,584          18,529          17,092   \n",
       "shares_outstanding             3224798         8347968          457733   \n",
       "\n",
       "                                8            9  \n",
       "ticker                       GOOG          PFE  \n",
       "company_name           Google Inc   Pfizer Inc  \n",
       "sector                 Technology  Health Care  \n",
       "trade_date              1/16/2014    1/16/2014  \n",
       "price                    1,156.22        31.17  \n",
       "price_change_percent        0.70%        0.00%  \n",
       "market_capitalization     386,278      202,014  \n",
       "annual_sales               14,893       12,643  \n",
       "shares_outstanding         334087      6481070  "
      ]
     },
     "execution_count": 101,
     "metadata": {},
     "output_type": "execute_result"
    }
   ],
   "source": [
    "df.transpose()"
   ]
  },
  {
   "cell_type": "markdown",
   "metadata": {},
   "source": [
    "## Answering simple questions about a dataset"
   ]
  },
  {
   "cell_type": "markdown",
   "metadata": {},
   "source": [
    "### How many companies are there by Sector?"
   ]
  },
  {
   "cell_type": "code",
   "execution_count": 102,
   "metadata": {},
   "outputs": [
    {
     "data": {
      "text/plain": [
       "Technology         5\n",
       "Retail             2\n",
       "Consumer Staple    1\n",
       "Health Care        1\n",
       "Financial          1\n",
       "Name: sector, dtype: int64"
      ]
     },
     "execution_count": 102,
     "metadata": {},
     "output_type": "execute_result"
    }
   ],
   "source": [
    "df['sector'].value_counts()"
   ]
  },
  {
   "cell_type": "markdown",
   "metadata": {},
   "source": [
    "### What is the average Market Capitalization?"
   ]
  },
  {
   "cell_type": "code",
   "execution_count": null,
   "metadata": {},
   "outputs": [],
   "source": [
    "df['market_capitalization'] = df['market_capitalization'].str.replace(\",\",\"\").astype(int)"
   ]
  },
  {
   "cell_type": "code",
   "execution_count": 112,
   "metadata": {},
   "outputs": [
    {
     "data": {
      "text/plain": [
       "262793.7"
      ]
     },
     "execution_count": 112,
     "metadata": {},
     "output_type": "execute_result"
    }
   ],
   "source": [
    "df['market_capitalization'].mean()"
   ]
  },
  {
   "cell_type": "markdown",
   "metadata": {},
   "source": [
    "### What is the most frequent sector?"
   ]
  },
  {
   "cell_type": "code",
   "execution_count": 113,
   "metadata": {},
   "outputs": [
    {
     "data": {
      "text/plain": [
       "count             10\n",
       "unique             5\n",
       "top       Technology\n",
       "freq               5\n",
       "Name: sector, dtype: object"
      ]
     },
     "execution_count": 113,
     "metadata": {},
     "output_type": "execute_result"
    }
   ],
   "source": [
    "df['sector'].describe()"
   ]
  },
  {
   "cell_type": "markdown",
   "metadata": {},
   "source": [
    "## Who are the 5 largest companies?"
   ]
  },
  {
   "cell_type": "code",
   "execution_count": 114,
   "metadata": {},
   "outputs": [
    {
     "data": {
      "text/html": [
       "<div>\n",
       "<style scoped>\n",
       "    .dataframe tbody tr th:only-of-type {\n",
       "        vertical-align: middle;\n",
       "    }\n",
       "\n",
       "    .dataframe tbody tr th {\n",
       "        vertical-align: top;\n",
       "    }\n",
       "\n",
       "    .dataframe thead th {\n",
       "        text-align: right;\n",
       "    }\n",
       "</style>\n",
       "<table border=\"1\" class=\"dataframe\">\n",
       "  <thead>\n",
       "    <tr style=\"text-align: right;\">\n",
       "      <th></th>\n",
       "      <th>ticker</th>\n",
       "      <th>company_name</th>\n",
       "      <th>sector</th>\n",
       "      <th>trade_date</th>\n",
       "      <th>price</th>\n",
       "      <th>price_change_percent</th>\n",
       "      <th>market_capitalization</th>\n",
       "      <th>annual_sales</th>\n",
       "      <th>shares_outstanding</th>\n",
       "    </tr>\n",
       "  </thead>\n",
       "  <tbody>\n",
       "    <tr>\n",
       "      <th>1</th>\n",
       "      <td>AAPL</td>\n",
       "      <td>Apple Inc</td>\n",
       "      <td>Technology</td>\n",
       "      <td>1/16/2014</td>\n",
       "      <td>554.25</td>\n",
       "      <td>-0.60%</td>\n",
       "      <td>494697</td>\n",
       "      <td>37,472</td>\n",
       "      <td>892553</td>\n",
       "    </tr>\n",
       "    <tr>\n",
       "      <th>8</th>\n",
       "      <td>GOOG</td>\n",
       "      <td>Google Inc</td>\n",
       "      <td>Technology</td>\n",
       "      <td>1/16/2014</td>\n",
       "      <td>1,156.22</td>\n",
       "      <td>0.70%</td>\n",
       "      <td>386278</td>\n",
       "      <td>14,893</td>\n",
       "      <td>334087</td>\n",
       "    </tr>\n",
       "    <tr>\n",
       "      <th>6</th>\n",
       "      <td>MSFT</td>\n",
       "      <td>Microsoft Corp</td>\n",
       "      <td>Technology</td>\n",
       "      <td>1/16/2014</td>\n",
       "      <td>36.89</td>\n",
       "      <td>0.40%</td>\n",
       "      <td>307956</td>\n",
       "      <td>18,529</td>\n",
       "      <td>8347968</td>\n",
       "    </tr>\n",
       "    <tr>\n",
       "      <th>0</th>\n",
       "      <td>WMT</td>\n",
       "      <td>Wal-Mart Stores</td>\n",
       "      <td>Retail</td>\n",
       "      <td>1/16/2014</td>\n",
       "      <td>76.76</td>\n",
       "      <td>-1.20%</td>\n",
       "      <td>248377</td>\n",
       "      <td>55,688</td>\n",
       "      <td>3235772</td>\n",
       "    </tr>\n",
       "    <tr>\n",
       "      <th>5</th>\n",
       "      <td>NESN.CH</td>\n",
       "      <td>Nestle 'R'</td>\n",
       "      <td>Consumer Staple</td>\n",
       "      <td>1/16/2014</td>\n",
       "      <td>67.45</td>\n",
       "      <td>1.20%</td>\n",
       "      <td>239974</td>\n",
       "      <td>22,584</td>\n",
       "      <td>3224798</td>\n",
       "    </tr>\n",
       "  </tbody>\n",
       "</table>\n",
       "</div>"
      ],
      "text/plain": [
       "    ticker     company_name           sector trade_date     price  \\\n",
       "1     AAPL        Apple Inc       Technology  1/16/2014    554.25   \n",
       "8     GOOG       Google Inc       Technology  1/16/2014  1,156.22   \n",
       "6     MSFT   Microsoft Corp       Technology  1/16/2014     36.89   \n",
       "0      WMT  Wal-Mart Stores           Retail  1/16/2014     76.76   \n",
       "5  NESN.CH       Nestle 'R'  Consumer Staple  1/16/2014     67.45   \n",
       "\n",
       "  price_change_percent  market_capitalization annual_sales  shares_outstanding  \n",
       "1               -0.60%                 494697       37,472              892553  \n",
       "8                0.70%                 386278       14,893              334087  \n",
       "6                0.40%                 307956       18,529             8347968  \n",
       "0               -1.20%                 248377       55,688             3235772  \n",
       "5                1.20%                 239974       22,584             3224798  "
      ]
     },
     "execution_count": 114,
     "metadata": {},
     "output_type": "execute_result"
    }
   ],
   "source": [
    "df.sort_values('market_capitalization', ascending=False)[:5]"
   ]
  },
  {
   "cell_type": "markdown",
   "metadata": {},
   "source": [
    "# Boolean Indexing\n",
    "Boolean indexing\n",
    "Another common operation is the use of boolean vectors to filter the data. The operators are: | for or, & for and, and ~ for not.\n",
    "These must be grouped by using parentheses, since by default Python will evaluate an expression such as df['A'] > 2 & df['B'] < 3 as df['A'] > (2 & df['B']) < 3, while the desired evaluation order is (df['A'] > 2) & (df['B'] < 3)."
   ]
  },
  {
   "cell_type": "code",
   "execution_count": 116,
   "metadata": {},
   "outputs": [
    {
     "data": {
      "text/html": [
       "<div>\n",
       "<style scoped>\n",
       "    .dataframe tbody tr th:only-of-type {\n",
       "        vertical-align: middle;\n",
       "    }\n",
       "\n",
       "    .dataframe tbody tr th {\n",
       "        vertical-align: top;\n",
       "    }\n",
       "\n",
       "    .dataframe thead th {\n",
       "        text-align: right;\n",
       "    }\n",
       "</style>\n",
       "<table border=\"1\" class=\"dataframe\">\n",
       "  <thead>\n",
       "    <tr style=\"text-align: right;\">\n",
       "      <th></th>\n",
       "      <th>ticker</th>\n",
       "      <th>company_name</th>\n",
       "      <th>sector</th>\n",
       "      <th>trade_date</th>\n",
       "      <th>price</th>\n",
       "      <th>price_change_percent</th>\n",
       "      <th>market_capitalization</th>\n",
       "      <th>annual_sales</th>\n",
       "      <th>shares_outstanding</th>\n",
       "    </tr>\n",
       "  </thead>\n",
       "  <tbody>\n",
       "    <tr>\n",
       "      <th>1</th>\n",
       "      <td>AAPL</td>\n",
       "      <td>Apple Inc</td>\n",
       "      <td>Technology</td>\n",
       "      <td>1/16/2014</td>\n",
       "      <td>554.25</td>\n",
       "      <td>-0.60%</td>\n",
       "      <td>494697</td>\n",
       "      <td>37,472</td>\n",
       "      <td>892553</td>\n",
       "    </tr>\n",
       "  </tbody>\n",
       "</table>\n",
       "</div>"
      ],
      "text/plain": [
       "  ticker company_name      sector trade_date   price price_change_percent  \\\n",
       "1   AAPL    Apple Inc  Technology  1/16/2014  554.25               -0.60%   \n",
       "\n",
       "   market_capitalization annual_sales  shares_outstanding  \n",
       "1                 494697       37,472              892553  "
      ]
     },
     "execution_count": 116,
     "metadata": {},
     "output_type": "execute_result"
    }
   ],
   "source": [
    "df[df.market_capitalization > 425010]"
   ]
  },
  {
   "cell_type": "code",
   "execution_count": 117,
   "metadata": {
    "pycharm": {
     "name": "#%%\n"
    }
   },
   "outputs": [
    {
     "data": {
      "text/html": [
       "<div>\n",
       "<style scoped>\n",
       "    .dataframe tbody tr th:only-of-type {\n",
       "        vertical-align: middle;\n",
       "    }\n",
       "\n",
       "    .dataframe tbody tr th {\n",
       "        vertical-align: top;\n",
       "    }\n",
       "\n",
       "    .dataframe thead th {\n",
       "        text-align: right;\n",
       "    }\n",
       "</style>\n",
       "<table border=\"1\" class=\"dataframe\">\n",
       "  <thead>\n",
       "    <tr style=\"text-align: right;\">\n",
       "      <th></th>\n",
       "      <th>ticker</th>\n",
       "      <th>company_name</th>\n",
       "      <th>sector</th>\n",
       "      <th>trade_date</th>\n",
       "      <th>price</th>\n",
       "      <th>price_change_percent</th>\n",
       "      <th>market_capitalization</th>\n",
       "      <th>annual_sales</th>\n",
       "      <th>shares_outstanding</th>\n",
       "    </tr>\n",
       "  </thead>\n",
       "  <tbody>\n",
       "    <tr>\n",
       "      <th>0</th>\n",
       "      <td>WMT</td>\n",
       "      <td>Wal-Mart Stores</td>\n",
       "      <td>Retail</td>\n",
       "      <td>1/16/2014</td>\n",
       "      <td>76.76</td>\n",
       "      <td>-1.20%</td>\n",
       "      <td>248377</td>\n",
       "      <td>55,688</td>\n",
       "      <td>3235772</td>\n",
       "    </tr>\n",
       "    <tr>\n",
       "      <th>3</th>\n",
       "      <td>BAC</td>\n",
       "      <td>Bank Of America Corp</td>\n",
       "      <td>Financial</td>\n",
       "      <td>1/16/2014</td>\n",
       "      <td>17.08</td>\n",
       "      <td>-0.40%</td>\n",
       "      <td>182177</td>\n",
       "      <td>23,553</td>\n",
       "      <td>10666133</td>\n",
       "    </tr>\n",
       "    <tr>\n",
       "      <th>5</th>\n",
       "      <td>NESN.CH</td>\n",
       "      <td>Nestle 'R'</td>\n",
       "      <td>Consumer Staple</td>\n",
       "      <td>1/16/2014</td>\n",
       "      <td>67.45</td>\n",
       "      <td>1.20%</td>\n",
       "      <td>239974</td>\n",
       "      <td>22,584</td>\n",
       "      <td>3224798</td>\n",
       "    </tr>\n",
       "    <tr>\n",
       "      <th>7</th>\n",
       "      <td>AMZN</td>\n",
       "      <td>Amazon.Com Inc</td>\n",
       "      <td>Retail</td>\n",
       "      <td>1/16/2014</td>\n",
       "      <td>395.8</td>\n",
       "      <td>0.00%</td>\n",
       "      <td>181170</td>\n",
       "      <td>17,092</td>\n",
       "      <td>457733</td>\n",
       "    </tr>\n",
       "    <tr>\n",
       "      <th>9</th>\n",
       "      <td>PFE</td>\n",
       "      <td>Pfizer Inc</td>\n",
       "      <td>Health Care</td>\n",
       "      <td>1/16/2014</td>\n",
       "      <td>31.17</td>\n",
       "      <td>0.00%</td>\n",
       "      <td>202014</td>\n",
       "      <td>12,643</td>\n",
       "      <td>6481070</td>\n",
       "    </tr>\n",
       "  </tbody>\n",
       "</table>\n",
       "</div>"
      ],
      "text/plain": [
       "    ticker          company_name           sector trade_date  price  \\\n",
       "0      WMT       Wal-Mart Stores           Retail  1/16/2014  76.76   \n",
       "3      BAC  Bank Of America Corp        Financial  1/16/2014  17.08   \n",
       "5  NESN.CH            Nestle 'R'  Consumer Staple  1/16/2014  67.45   \n",
       "7     AMZN        Amazon.Com Inc           Retail  1/16/2014  395.8   \n",
       "9      PFE            Pfizer Inc      Health Care  1/16/2014  31.17   \n",
       "\n",
       "  price_change_percent  market_capitalization annual_sales  shares_outstanding  \n",
       "0               -1.20%                 248377       55,688             3235772  \n",
       "3               -0.40%                 182177       23,553            10666133  \n",
       "5                1.20%                 239974       22,584             3224798  \n",
       "7                0.00%                 181170       17,092              457733  \n",
       "9                0.00%                 202014       12,643             6481070  "
      ]
     },
     "execution_count": 117,
     "metadata": {},
     "output_type": "execute_result"
    }
   ],
   "source": [
    "#  exclude COMPUTER sector\n",
    "df[~(df.sector == \"Technology\")]"
   ]
  },
  {
   "cell_type": "markdown",
   "metadata": {},
   "source": [
    "Indexing with isin"
   ]
  },
  {
   "cell_type": "code",
   "execution_count": 118,
   "metadata": {
    "pycharm": {
     "name": "#%%\n"
    }
   },
   "outputs": [
    {
     "data": {
      "text/plain": [
       "0        WMT\n",
       "1       AAPL\n",
       "2        IBM\n",
       "3        BAC\n",
       "4     SGL.KR\n",
       "5    NESN.CH\n",
       "6       MSFT\n",
       "7       AMZN\n",
       "8       GOOG\n",
       "9        PFE\n",
       "Name: ticker, dtype: object"
      ]
     },
     "execution_count": 118,
     "metadata": {},
     "output_type": "execute_result"
    }
   ],
   "source": [
    "df.ticker"
   ]
  },
  {
   "cell_type": "code",
   "execution_count": 119,
   "metadata": {
    "pycharm": {
     "name": "#%%\n"
    }
   },
   "outputs": [
    {
     "data": {
      "text/plain": [
       "0    False\n",
       "1     True\n",
       "2    False\n",
       "3    False\n",
       "4    False\n",
       "5    False\n",
       "6     True\n",
       "7    False\n",
       "8    False\n",
       "9    False\n",
       "Name: ticker, dtype: bool"
      ]
     },
     "execution_count": 119,
     "metadata": {},
     "output_type": "execute_result"
    }
   ],
   "source": [
    "df.ticker.isin([\"AAPL\", \"FB\", \"WBK\", \"DTEX.DE\", \"FOXA\", \"MSFT\"])"
   ]
  },
  {
   "cell_type": "code",
   "execution_count": 120,
   "metadata": {
    "pycharm": {
     "name": "#%%\n"
    }
   },
   "outputs": [
    {
     "data": {
      "text/html": [
       "<div>\n",
       "<style scoped>\n",
       "    .dataframe tbody tr th:only-of-type {\n",
       "        vertical-align: middle;\n",
       "    }\n",
       "\n",
       "    .dataframe tbody tr th {\n",
       "        vertical-align: top;\n",
       "    }\n",
       "\n",
       "    .dataframe thead th {\n",
       "        text-align: right;\n",
       "    }\n",
       "</style>\n",
       "<table border=\"1\" class=\"dataframe\">\n",
       "  <thead>\n",
       "    <tr style=\"text-align: right;\">\n",
       "      <th></th>\n",
       "      <th>ticker</th>\n",
       "      <th>company_name</th>\n",
       "      <th>sector</th>\n",
       "      <th>trade_date</th>\n",
       "      <th>price</th>\n",
       "      <th>price_change_percent</th>\n",
       "      <th>market_capitalization</th>\n",
       "      <th>annual_sales</th>\n",
       "      <th>shares_outstanding</th>\n",
       "    </tr>\n",
       "  </thead>\n",
       "  <tbody>\n",
       "    <tr>\n",
       "      <th>1</th>\n",
       "      <td>AAPL</td>\n",
       "      <td>Apple Inc</td>\n",
       "      <td>Technology</td>\n",
       "      <td>1/16/2014</td>\n",
       "      <td>554.25</td>\n",
       "      <td>-0.60%</td>\n",
       "      <td>494697</td>\n",
       "      <td>37,472</td>\n",
       "      <td>892553</td>\n",
       "    </tr>\n",
       "    <tr>\n",
       "      <th>6</th>\n",
       "      <td>MSFT</td>\n",
       "      <td>Microsoft Corp</td>\n",
       "      <td>Technology</td>\n",
       "      <td>1/16/2014</td>\n",
       "      <td>36.89</td>\n",
       "      <td>0.40%</td>\n",
       "      <td>307956</td>\n",
       "      <td>18,529</td>\n",
       "      <td>8347968</td>\n",
       "    </tr>\n",
       "  </tbody>\n",
       "</table>\n",
       "</div>"
      ],
      "text/plain": [
       "  ticker    company_name      sector trade_date   price price_change_percent  \\\n",
       "1   AAPL       Apple Inc  Technology  1/16/2014  554.25               -0.60%   \n",
       "6   MSFT  Microsoft Corp  Technology  1/16/2014   36.89                0.40%   \n",
       "\n",
       "   market_capitalization annual_sales  shares_outstanding  \n",
       "1                 494697       37,472              892553  \n",
       "6                 307956       18,529             8347968  "
      ]
     },
     "execution_count": 120,
     "metadata": {},
     "output_type": "execute_result"
    }
   ],
   "source": [
    "df[df.ticker.isin([\"AAPL\", \"FB\", \"WBK\", \"DTEX.DE\", \"FOXA\", \"MSFT\"])]"
   ]
  },
  {
   "cell_type": "markdown",
   "metadata": {},
   "source": [
    "## Further questions"
   ]
  },
  {
   "cell_type": "code",
   "execution_count": 121,
   "metadata": {},
   "outputs": [
    {
     "data": {
      "text/plain": [
       "Index(['ticker', 'company_name', 'sector', 'trade_date', 'price',\n",
       "       'price_change_percent', 'market_capitalization', 'annual_sales',\n",
       "       'shares_outstanding'],\n",
       "      dtype='object')"
      ]
     },
     "execution_count": 121,
     "metadata": {},
     "output_type": "execute_result"
    }
   ],
   "source": [
    "df.columns"
   ]
  },
  {
   "cell_type": "markdown",
   "metadata": {},
   "source": [
    "### Give me the list of the companies in the Technology Sector"
   ]
  },
  {
   "cell_type": "code",
   "execution_count": 122,
   "metadata": {},
   "outputs": [
    {
     "data": {
      "text/plain": [
       "0    False\n",
       "1     True\n",
       "2     True\n",
       "3    False\n",
       "4     True\n",
       "5    False\n",
       "6     True\n",
       "7    False\n",
       "8     True\n",
       "9    False\n",
       "Name: sector, dtype: bool"
      ]
     },
     "execution_count": 122,
     "metadata": {},
     "output_type": "execute_result"
    }
   ],
   "source": [
    "df['sector'] == 'Technology'"
   ]
  },
  {
   "cell_type": "markdown",
   "metadata": {},
   "source": [
    "We can use a boolean series to index a Series or a DataFrame, this is called \"Masking\" or boolean indexing."
   ]
  },
  {
   "cell_type": "code",
   "execution_count": 123,
   "metadata": {},
   "outputs": [
    {
     "data": {
      "text/html": [
       "<div>\n",
       "<style scoped>\n",
       "    .dataframe tbody tr th:only-of-type {\n",
       "        vertical-align: middle;\n",
       "    }\n",
       "\n",
       "    .dataframe tbody tr th {\n",
       "        vertical-align: top;\n",
       "    }\n",
       "\n",
       "    .dataframe thead th {\n",
       "        text-align: right;\n",
       "    }\n",
       "</style>\n",
       "<table border=\"1\" class=\"dataframe\">\n",
       "  <thead>\n",
       "    <tr style=\"text-align: right;\">\n",
       "      <th></th>\n",
       "      <th>ticker</th>\n",
       "      <th>company_name</th>\n",
       "      <th>sector</th>\n",
       "      <th>trade_date</th>\n",
       "      <th>price</th>\n",
       "      <th>price_change_percent</th>\n",
       "      <th>market_capitalization</th>\n",
       "      <th>annual_sales</th>\n",
       "      <th>shares_outstanding</th>\n",
       "    </tr>\n",
       "  </thead>\n",
       "  <tbody>\n",
       "    <tr>\n",
       "      <th>1</th>\n",
       "      <td>AAPL</td>\n",
       "      <td>Apple Inc</td>\n",
       "      <td>Technology</td>\n",
       "      <td>1/16/2014</td>\n",
       "      <td>554.25</td>\n",
       "      <td>-0.60%</td>\n",
       "      <td>494697</td>\n",
       "      <td>37,472</td>\n",
       "      <td>892553</td>\n",
       "    </tr>\n",
       "    <tr>\n",
       "      <th>2</th>\n",
       "      <td>IBM</td>\n",
       "      <td>Intl Business Machines</td>\n",
       "      <td>Technology</td>\n",
       "      <td>1/16/2014</td>\n",
       "      <td>188.76</td>\n",
       "      <td>0.50%</td>\n",
       "      <td>204965</td>\n",
       "      <td>23,720</td>\n",
       "      <td>1085854</td>\n",
       "    </tr>\n",
       "    <tr>\n",
       "      <th>4</th>\n",
       "      <td>SGL.KR</td>\n",
       "      <td>Samsung Electronics</td>\n",
       "      <td>Technology</td>\n",
       "      <td>1/16/2014</td>\n",
       "      <td>1,301,000.00</td>\n",
       "      <td>0.20%</td>\n",
       "      <td>180329</td>\n",
       "      <td>23,444</td>\n",
       "      <td>147299</td>\n",
       "    </tr>\n",
       "    <tr>\n",
       "      <th>6</th>\n",
       "      <td>MSFT</td>\n",
       "      <td>Microsoft Corp</td>\n",
       "      <td>Technology</td>\n",
       "      <td>1/16/2014</td>\n",
       "      <td>36.89</td>\n",
       "      <td>0.40%</td>\n",
       "      <td>307956</td>\n",
       "      <td>18,529</td>\n",
       "      <td>8347968</td>\n",
       "    </tr>\n",
       "    <tr>\n",
       "      <th>8</th>\n",
       "      <td>GOOG</td>\n",
       "      <td>Google Inc</td>\n",
       "      <td>Technology</td>\n",
       "      <td>1/16/2014</td>\n",
       "      <td>1,156.22</td>\n",
       "      <td>0.70%</td>\n",
       "      <td>386278</td>\n",
       "      <td>14,893</td>\n",
       "      <td>334087</td>\n",
       "    </tr>\n",
       "  </tbody>\n",
       "</table>\n",
       "</div>"
      ],
      "text/plain": [
       "   ticker            company_name      sector trade_date         price  \\\n",
       "1    AAPL               Apple Inc  Technology  1/16/2014        554.25   \n",
       "2     IBM  Intl Business Machines  Technology  1/16/2014        188.76   \n",
       "4  SGL.KR     Samsung Electronics  Technology  1/16/2014  1,301,000.00   \n",
       "6    MSFT          Microsoft Corp  Technology  1/16/2014         36.89   \n",
       "8    GOOG              Google Inc  Technology  1/16/2014      1,156.22   \n",
       "\n",
       "  price_change_percent  market_capitalization annual_sales  shares_outstanding  \n",
       "1               -0.60%                 494697       37,472              892553  \n",
       "2                0.50%                 204965       23,720             1085854  \n",
       "4                0.20%                 180329       23,444              147299  \n",
       "6                0.40%                 307956       18,529             8347968  \n",
       "8                0.70%                 386278       14,893              334087  "
      ]
     },
     "execution_count": 123,
     "metadata": {},
     "output_type": "execute_result"
    }
   ],
   "source": [
    "df.loc[df['sector'] == 'Technology']"
   ]
  },
  {
   "cell_type": "markdown",
   "metadata": {},
   "source": [
    "### Give me the list of the companies in the Technology Sector and United States"
   ]
  },
  {
   "cell_type": "code",
   "execution_count": 125,
   "metadata": {},
   "outputs": [
    {
     "data": {
      "text/html": [
       "<div>\n",
       "<style scoped>\n",
       "    .dataframe tbody tr th:only-of-type {\n",
       "        vertical-align: middle;\n",
       "    }\n",
       "\n",
       "    .dataframe tbody tr th {\n",
       "        vertical-align: top;\n",
       "    }\n",
       "\n",
       "    .dataframe thead th {\n",
       "        text-align: right;\n",
       "    }\n",
       "</style>\n",
       "<table border=\"1\" class=\"dataframe\">\n",
       "  <thead>\n",
       "    <tr style=\"text-align: right;\">\n",
       "      <th></th>\n",
       "      <th>ticker</th>\n",
       "      <th>company_name</th>\n",
       "      <th>sector</th>\n",
       "      <th>trade_date</th>\n",
       "      <th>price</th>\n",
       "      <th>price_change_percent</th>\n",
       "      <th>market_capitalization</th>\n",
       "      <th>annual_sales</th>\n",
       "      <th>shares_outstanding</th>\n",
       "    </tr>\n",
       "  </thead>\n",
       "  <tbody>\n",
       "    <tr>\n",
       "      <th>1</th>\n",
       "      <td>AAPL</td>\n",
       "      <td>Apple Inc</td>\n",
       "      <td>Technology</td>\n",
       "      <td>1/16/2014</td>\n",
       "      <td>554.25</td>\n",
       "      <td>-0.60%</td>\n",
       "      <td>494697</td>\n",
       "      <td>37,472</td>\n",
       "      <td>892553</td>\n",
       "    </tr>\n",
       "    <tr>\n",
       "      <th>8</th>\n",
       "      <td>GOOG</td>\n",
       "      <td>Google Inc</td>\n",
       "      <td>Technology</td>\n",
       "      <td>1/16/2014</td>\n",
       "      <td>1,156.22</td>\n",
       "      <td>0.70%</td>\n",
       "      <td>386278</td>\n",
       "      <td>14,893</td>\n",
       "      <td>334087</td>\n",
       "    </tr>\n",
       "  </tbody>\n",
       "</table>\n",
       "</div>"
      ],
      "text/plain": [
       "  ticker company_name      sector trade_date     price price_change_percent  \\\n",
       "1   AAPL    Apple Inc  Technology  1/16/2014    554.25               -0.60%   \n",
       "8   GOOG   Google Inc  Technology  1/16/2014  1,156.22                0.70%   \n",
       "\n",
       "   market_capitalization annual_sales  shares_outstanding  \n",
       "1                 494697       37,472              892553  \n",
       "8                 386278       14,893              334087  "
      ]
     },
     "execution_count": 125,
     "metadata": {},
     "output_type": "execute_result"
    }
   ],
   "source": [
    "df.loc[(df['sector'] == 'Technology') & (df['market_capitalization'] > 307956)]"
   ]
  },
  {
   "cell_type": "markdown",
   "metadata": {},
   "source": [
    "*Grouping operations**: Split-Apply-Combine operation.\n",
    "\n",
    "By **gourping** or **group by** operations we are referring to a process involving one or more of the following steps:\n",
    "\n",
    "- **Splitting** the data into groups based on some criteria\n",
    "- **Applying** a function to each group independently\n",
    "- **Combining** the results into a data structure"
   ]
  },
  {
   "cell_type": "markdown",
   "metadata": {},
   "source": [
    "\n",
    "<img src=\"img/split_apply_combine.png\">\n",
    "\n",
    "<b>Step1 (Split): </b> The <i>groupby</i> operation <b><i>splits</b></i> the dataframe into a group of dataframes based on some criteria. Note that the grouped object is <i>not</i> a dataframe. It is a GroupBy object. It has a dictionary-like structure and is also iterable.\n",
    "\n",
    "<b>Step 2 (Analyze):</b> Once we have a grouped object we can <b><i>apply</b></i> functions or run analysis to each group, set of groups, or the entire group.\n",
    "\n",
    "<b>Step 3 (Combine):</b> We can also <b><i>combine</b></i> the results of the analysis into a new data structure(s)."
   ]
  },
  {
   "cell_type": "markdown",
   "metadata": {},
   "source": [
    "Since we are only interested in the employees with \"Low\" and \"Very High\" JobSatisfaction levels, let's create a new DataFrame containing only those observations."
   ]
  },
  {
   "cell_type": "code",
   "execution_count": 126,
   "metadata": {},
   "outputs": [
    {
     "data": {
      "text/plain": [
       "(5, 9)"
      ]
     },
     "execution_count": 126,
     "metadata": {},
     "output_type": "execute_result"
    }
   ],
   "source": [
    "subset_of_interest = df.loc[(df['sector'] == \"Technology\") | (df['sector'] == \"Energy\")]\n",
    "\n",
    "subset_of_interest.shape"
   ]
  },
  {
   "cell_type": "markdown",
   "metadata": {},
   "source": [
    "Since our JobSatisfaction variable had 4 categories, this categories have stayed in the series of this new DataFrame:"
   ]
  },
  {
   "cell_type": "code",
   "execution_count": 127,
   "metadata": {},
   "outputs": [
    {
     "data": {
      "text/plain": [
       "Technology    5\n",
       "Name: sector, dtype: int64"
      ]
     },
     "execution_count": 127,
     "metadata": {},
     "output_type": "execute_result"
    }
   ],
   "source": [
    "subset_of_interest['sector'].value_counts()"
   ]
  },
  {
   "cell_type": "markdown",
   "metadata": {},
   "source": [
    "Let's remove those categories we won't be using:"
   ]
  },
  {
   "cell_type": "code",
   "execution_count": 128,
   "metadata": {},
   "outputs": [
    {
     "data": {
      "text/plain": [
       "Technology    5\n",
       "Name: sector, dtype: int64"
      ]
     },
     "execution_count": 128,
     "metadata": {},
     "output_type": "execute_result"
    }
   ],
   "source": [
    "subset_of_interest['sector'].value_counts()"
   ]
  },
  {
   "cell_type": "markdown",
   "metadata": {},
   "source": [
    "Now we have only the employees we are interested in, we can now compare accross the variables we wanted. First let's split our new DataFrame into groups."
   ]
  },
  {
   "cell_type": "code",
   "execution_count": 129,
   "metadata": {},
   "outputs": [],
   "source": [
    "grouped = subset_of_interest.groupby('sector')"
   ]
  },
  {
   "cell_type": "code",
   "execution_count": 130,
   "metadata": {},
   "outputs": [
    {
     "data": {
      "text/plain": [
       "{'Technology': [1, 2, 4, 6, 8]}"
      ]
     },
     "execution_count": 130,
     "metadata": {},
     "output_type": "execute_result"
    }
   ],
   "source": [
    "grouped.groups"
   ]
  },
  {
   "cell_type": "code",
   "execution_count": 132,
   "metadata": {},
   "outputs": [
    {
     "data": {
      "text/html": [
       "<div>\n",
       "<style scoped>\n",
       "    .dataframe tbody tr th:only-of-type {\n",
       "        vertical-align: middle;\n",
       "    }\n",
       "\n",
       "    .dataframe tbody tr th {\n",
       "        vertical-align: top;\n",
       "    }\n",
       "\n",
       "    .dataframe thead th {\n",
       "        text-align: right;\n",
       "    }\n",
       "</style>\n",
       "<table border=\"1\" class=\"dataframe\">\n",
       "  <thead>\n",
       "    <tr style=\"text-align: right;\">\n",
       "      <th></th>\n",
       "      <th>ticker</th>\n",
       "      <th>company_name</th>\n",
       "      <th>sector</th>\n",
       "      <th>trade_date</th>\n",
       "      <th>price</th>\n",
       "      <th>price_change_percent</th>\n",
       "      <th>market_capitalization</th>\n",
       "      <th>annual_sales</th>\n",
       "      <th>shares_outstanding</th>\n",
       "    </tr>\n",
       "  </thead>\n",
       "  <tbody>\n",
       "    <tr>\n",
       "      <th>1</th>\n",
       "      <td>AAPL</td>\n",
       "      <td>Apple Inc</td>\n",
       "      <td>Technology</td>\n",
       "      <td>1/16/2014</td>\n",
       "      <td>554.25</td>\n",
       "      <td>-0.60%</td>\n",
       "      <td>494697</td>\n",
       "      <td>37,472</td>\n",
       "      <td>892553</td>\n",
       "    </tr>\n",
       "    <tr>\n",
       "      <th>2</th>\n",
       "      <td>IBM</td>\n",
       "      <td>Intl Business Machines</td>\n",
       "      <td>Technology</td>\n",
       "      <td>1/16/2014</td>\n",
       "      <td>188.76</td>\n",
       "      <td>0.50%</td>\n",
       "      <td>204965</td>\n",
       "      <td>23,720</td>\n",
       "      <td>1085854</td>\n",
       "    </tr>\n",
       "    <tr>\n",
       "      <th>4</th>\n",
       "      <td>SGL.KR</td>\n",
       "      <td>Samsung Electronics</td>\n",
       "      <td>Technology</td>\n",
       "      <td>1/16/2014</td>\n",
       "      <td>1,301,000.00</td>\n",
       "      <td>0.20%</td>\n",
       "      <td>180329</td>\n",
       "      <td>23,444</td>\n",
       "      <td>147299</td>\n",
       "    </tr>\n",
       "    <tr>\n",
       "      <th>6</th>\n",
       "      <td>MSFT</td>\n",
       "      <td>Microsoft Corp</td>\n",
       "      <td>Technology</td>\n",
       "      <td>1/16/2014</td>\n",
       "      <td>36.89</td>\n",
       "      <td>0.40%</td>\n",
       "      <td>307956</td>\n",
       "      <td>18,529</td>\n",
       "      <td>8347968</td>\n",
       "    </tr>\n",
       "    <tr>\n",
       "      <th>8</th>\n",
       "      <td>GOOG</td>\n",
       "      <td>Google Inc</td>\n",
       "      <td>Technology</td>\n",
       "      <td>1/16/2014</td>\n",
       "      <td>1,156.22</td>\n",
       "      <td>0.70%</td>\n",
       "      <td>386278</td>\n",
       "      <td>14,893</td>\n",
       "      <td>334087</td>\n",
       "    </tr>\n",
       "  </tbody>\n",
       "</table>\n",
       "</div>"
      ],
      "text/plain": [
       "   ticker            company_name      sector trade_date         price  \\\n",
       "1    AAPL               Apple Inc  Technology  1/16/2014        554.25   \n",
       "2     IBM  Intl Business Machines  Technology  1/16/2014        188.76   \n",
       "4  SGL.KR     Samsung Electronics  Technology  1/16/2014  1,301,000.00   \n",
       "6    MSFT          Microsoft Corp  Technology  1/16/2014         36.89   \n",
       "8    GOOG              Google Inc  Technology  1/16/2014      1,156.22   \n",
       "\n",
       "  price_change_percent  market_capitalization annual_sales  shares_outstanding  \n",
       "1               -0.60%                 494697       37,472              892553  \n",
       "2                0.50%                 204965       23,720             1085854  \n",
       "4                0.20%                 180329       23,444              147299  \n",
       "6                0.40%                 307956       18,529             8347968  \n",
       "8                0.70%                 386278       14,893              334087  "
      ]
     },
     "execution_count": 132,
     "metadata": {},
     "output_type": "execute_result"
    }
   ],
   "source": [
    "grouped.get_group('Technology').head()"
   ]
  },
  {
   "cell_type": "markdown",
   "metadata": {},
   "source": [
    "#### Market Capitaliazation"
   ]
  },
  {
   "cell_type": "code",
   "execution_count": 158,
   "metadata": {},
   "outputs": [
    {
     "data": {
      "text/plain": [
       "<pandas.core.groupby.generic.SeriesGroupBy object at 0x000002833FBCFE80>"
      ]
     },
     "execution_count": 158,
     "metadata": {},
     "output_type": "execute_result"
    }
   ],
   "source": [
    "grouped['market_capitalization']"
   ]
  },
  {
   "cell_type": "code",
   "execution_count": 159,
   "metadata": {},
   "outputs": [
    {
     "data": {
      "text/plain": [
       "sector\n",
       "Technology    314845\n",
       "Name: market_capitalization, dtype: int32"
      ]
     },
     "execution_count": 159,
     "metadata": {},
     "output_type": "execute_result"
    }
   ],
   "source": [
    "grouped['market_capitalization'].mean()"
   ]
  },
  {
   "cell_type": "code",
   "execution_count": 160,
   "metadata": {},
   "outputs": [
    {
     "data": {
      "text/html": [
       "<div>\n",
       "<style scoped>\n",
       "    .dataframe tbody tr th:only-of-type {\n",
       "        vertical-align: middle;\n",
       "    }\n",
       "\n",
       "    .dataframe tbody tr th {\n",
       "        vertical-align: top;\n",
       "    }\n",
       "\n",
       "    .dataframe thead th {\n",
       "        text-align: right;\n",
       "    }\n",
       "</style>\n",
       "<table border=\"1\" class=\"dataframe\">\n",
       "  <thead>\n",
       "    <tr style=\"text-align: right;\">\n",
       "      <th></th>\n",
       "      <th>count</th>\n",
       "      <th>mean</th>\n",
       "      <th>std</th>\n",
       "      <th>min</th>\n",
       "      <th>25%</th>\n",
       "      <th>50%</th>\n",
       "      <th>75%</th>\n",
       "      <th>max</th>\n",
       "    </tr>\n",
       "    <tr>\n",
       "      <th>sector</th>\n",
       "      <th></th>\n",
       "      <th></th>\n",
       "      <th></th>\n",
       "      <th></th>\n",
       "      <th></th>\n",
       "      <th></th>\n",
       "      <th></th>\n",
       "      <th></th>\n",
       "    </tr>\n",
       "  </thead>\n",
       "  <tbody>\n",
       "    <tr>\n",
       "      <th>Technology</th>\n",
       "      <td>5.0</td>\n",
       "      <td>314845.0</td>\n",
       "      <td>130062.525704</td>\n",
       "      <td>180329.0</td>\n",
       "      <td>204965.0</td>\n",
       "      <td>307956.0</td>\n",
       "      <td>386278.0</td>\n",
       "      <td>494697.0</td>\n",
       "    </tr>\n",
       "  </tbody>\n",
       "</table>\n",
       "</div>"
      ],
      "text/plain": [
       "            count      mean            std       min       25%       50%  \\\n",
       "sector                                                                     \n",
       "Technology    5.0  314845.0  130062.525704  180329.0  204965.0  307956.0   \n",
       "\n",
       "                 75%       max  \n",
       "sector                          \n",
       "Technology  386278.0  494697.0  "
      ]
     },
     "execution_count": 160,
     "metadata": {},
     "output_type": "execute_result"
    }
   ],
   "source": [
    "grouped['market_capitalization'].describe()"
   ]
  },
  {
   "cell_type": "code",
   "execution_count": 161,
   "metadata": {},
   "outputs": [
    {
     "data": {
      "text/plain": [
       "       sector    \n",
       "count  Technology         5.000000\n",
       "mean   Technology    314845.000000\n",
       "std    Technology    130062.525704\n",
       "min    Technology    180329.000000\n",
       "25%    Technology    204965.000000\n",
       "50%    Technology    307956.000000\n",
       "75%    Technology    386278.000000\n",
       "max    Technology    494697.000000\n",
       "dtype: float64"
      ]
     },
     "execution_count": 161,
     "metadata": {},
     "output_type": "execute_result"
    }
   ],
   "source": [
    "grouped['market_capitalization'].describe().unstack()"
   ]
  },
  {
   "cell_type": "markdown",
   "metadata": {},
   "source": [
    "#### shares_outstanding"
   ]
  },
  {
   "cell_type": "code",
   "execution_count": 162,
   "metadata": {},
   "outputs": [
    {
     "data": {
      "text/html": [
       "<div>\n",
       "<style scoped>\n",
       "    .dataframe tbody tr th:only-of-type {\n",
       "        vertical-align: middle;\n",
       "    }\n",
       "\n",
       "    .dataframe tbody tr th {\n",
       "        vertical-align: top;\n",
       "    }\n",
       "\n",
       "    .dataframe thead th {\n",
       "        text-align: right;\n",
       "    }\n",
       "</style>\n",
       "<table border=\"1\" class=\"dataframe\">\n",
       "  <thead>\n",
       "    <tr style=\"text-align: right;\">\n",
       "      <th>price_change_percent</th>\n",
       "      <th>-0.60%</th>\n",
       "      <th>0.20%</th>\n",
       "      <th>0.40%</th>\n",
       "      <th>0.50%</th>\n",
       "      <th>0.70%</th>\n",
       "    </tr>\n",
       "    <tr>\n",
       "      <th>sector</th>\n",
       "      <th></th>\n",
       "      <th></th>\n",
       "      <th></th>\n",
       "      <th></th>\n",
       "      <th></th>\n",
       "    </tr>\n",
       "  </thead>\n",
       "  <tbody>\n",
       "    <tr>\n",
       "      <th>Technology</th>\n",
       "      <td>1</td>\n",
       "      <td>1</td>\n",
       "      <td>1</td>\n",
       "      <td>1</td>\n",
       "      <td>1</td>\n",
       "    </tr>\n",
       "  </tbody>\n",
       "</table>\n",
       "</div>"
      ],
      "text/plain": [
       "price_change_percent  -0.60%  0.20%  0.40%  0.50%  0.70%\n",
       "sector                                                  \n",
       "Technology                 1      1      1      1      1"
      ]
     },
     "execution_count": 162,
     "metadata": {},
     "output_type": "execute_result"
    }
   ],
   "source": [
    "grouped['price_change_percent'].value_counts().unstack()"
   ]
  },
  {
   "cell_type": "code",
   "execution_count": 163,
   "metadata": {},
   "outputs": [
    {
     "data": {
      "text/html": [
       "<div>\n",
       "<style scoped>\n",
       "    .dataframe tbody tr th:only-of-type {\n",
       "        vertical-align: middle;\n",
       "    }\n",
       "\n",
       "    .dataframe tbody tr th {\n",
       "        vertical-align: top;\n",
       "    }\n",
       "\n",
       "    .dataframe thead th {\n",
       "        text-align: right;\n",
       "    }\n",
       "</style>\n",
       "<table border=\"1\" class=\"dataframe\">\n",
       "  <thead>\n",
       "    <tr style=\"text-align: right;\">\n",
       "      <th>price_change_percent</th>\n",
       "      <th>-0.60%</th>\n",
       "      <th>0.20%</th>\n",
       "      <th>0.40%</th>\n",
       "      <th>0.50%</th>\n",
       "      <th>0.70%</th>\n",
       "    </tr>\n",
       "    <tr>\n",
       "      <th>sector</th>\n",
       "      <th></th>\n",
       "      <th></th>\n",
       "      <th></th>\n",
       "      <th></th>\n",
       "      <th></th>\n",
       "    </tr>\n",
       "  </thead>\n",
       "  <tbody>\n",
       "    <tr>\n",
       "      <th>Technology</th>\n",
       "      <td>20.0</td>\n",
       "      <td>20.0</td>\n",
       "      <td>20.0</td>\n",
       "      <td>20.0</td>\n",
       "      <td>20.0</td>\n",
       "    </tr>\n",
       "  </tbody>\n",
       "</table>\n",
       "</div>"
      ],
      "text/plain": [
       "price_change_percent  -0.60%  0.20%  0.40%  0.50%  0.70%\n",
       "sector                                                  \n",
       "Technology              20.0   20.0   20.0   20.0   20.0"
      ]
     },
     "execution_count": 163,
     "metadata": {},
     "output_type": "execute_result"
    }
   ],
   "source": [
    "100 * grouped['price_change_percent'].value_counts(normalize=True).unstack()"
   ]
  },
  {
   "cell_type": "markdown",
   "metadata": {},
   "source": [
    "#### Annual Sales"
   ]
  },
  {
   "cell_type": "code",
   "execution_count": 164,
   "metadata": {},
   "outputs": [
    {
     "data": {
      "text/plain": [
       "        sector    \n",
       "count   Technology         5\n",
       "unique  Technology         5\n",
       "top     Technology    14,893\n",
       "freq    Technology         1\n",
       "dtype: object"
      ]
     },
     "execution_count": 164,
     "metadata": {},
     "output_type": "execute_result"
    }
   ],
   "source": [
    "grouped['annual_sales'].describe().unstack()"
   ]
  },
  {
   "cell_type": "code",
   "execution_count": null,
   "metadata": {},
   "outputs": [],
   "source": []
  },
  {
   "cell_type": "code",
   "execution_count": null,
   "metadata": {},
   "outputs": [],
   "source": []
  },
  {
   "cell_type": "code",
   "execution_count": null,
   "metadata": {},
   "outputs": [],
   "source": []
  }
 ],
 "metadata": {
  "kernelspec": {
   "display_name": "Python 3",
   "language": "python",
   "name": "python3"
  },
  "language_info": {
   "codemirror_mode": {
    "name": "ipython",
    "version": 3
   },
   "file_extension": ".py",
   "mimetype": "text/x-python",
   "name": "python",
   "nbconvert_exporter": "python",
   "pygments_lexer": "ipython3",
   "version": "3.9.1"
  },
  "toc": {
   "colors": {
    "hover_highlight": "#DAA520",
    "running_highlight": "#FF0000",
    "selected_highlight": "#FFD700"
   },
   "moveMenuLeft": true,
   "nav_menu": {
    "height": "210px",
    "width": "252px"
   },
   "navigate_menu": true,
   "number_sections": true,
   "sideBar": true,
   "threshold": 4,
   "toc_cell": false,
   "toc_section_display": "block",
   "toc_window_display": false
  }
 },
 "nbformat": 4,
 "nbformat_minor": 4
}
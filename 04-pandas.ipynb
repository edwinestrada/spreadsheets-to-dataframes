{
 "cells": [
  {
   "cell_type": "markdown",
   "metadata": {},
   "source": [
    "# The Pandas library"
   ]
  },
  {
   "cell_type": "markdown",
   "metadata": {},
   "source": [
    "**From the Pandas documentation:**\n",
    "\n",
    "**pandas** is everyone's favorite data analyis library providing fast, flexible, and expressive data structures designed to work with *relational* or table-like data (SQL table or Excel spreadsheet). It is a fundamental high-level building block for doing practical, real world data analysis in Python."
   ]
  },
  {
   "cell_type": "code",
   "execution_count": 37,
   "metadata": {},
   "outputs": [],
   "source": [
    "# The importing convention\n",
    "import pandas as pd"
   ]
  },
  {
   "cell_type": "markdown",
   "metadata": {},
   "source": [
    "# Opening (Reading) Files\n"
   ]
  },
  {
   "cell_type": "markdown",
   "metadata": {},
   "source": [
    "## Reading Excel File"
   ]
  },
  {
   "cell_type": "code",
   "execution_count": 42,
   "metadata": {},
   "outputs": [],
   "source": [
    "filepath = \"data\\stock_data_simple.xlsx\""
   ]
  },
  {
   "cell_type": "code",
   "execution_count": 43,
   "metadata": {
    "scrolled": true
   },
   "outputs": [],
   "source": [
    "df = pd.read_excel(filepath)"
   ]
  },
  {
   "cell_type": "markdown",
   "metadata": {},
   "source": [
    "## Reading CSV File"
   ]
  },
  {
   "cell_type": "code",
   "execution_count": 44,
   "metadata": {},
   "outputs": [],
   "source": [
    "filepath = \"data\\stock_data_simple.csv\""
   ]
  },
  {
   "cell_type": "code",
   "execution_count": 45,
   "metadata": {},
   "outputs": [],
   "source": [
    "df = pd.read_csv(filepath)"
   ]
  },
  {
   "cell_type": "markdown",
   "metadata": {},
   "source": [
    "# View/Display data"
   ]
  },
  {
   "cell_type": "code",
   "execution_count": 46,
   "metadata": {},
   "outputs": [
    {
     "data": {
      "text/html": [
       "<div>\n",
       "<style scoped>\n",
       "    .dataframe tbody tr th:only-of-type {\n",
       "        vertical-align: middle;\n",
       "    }\n",
       "\n",
       "    .dataframe tbody tr th {\n",
       "        vertical-align: top;\n",
       "    }\n",
       "\n",
       "    .dataframe thead th {\n",
       "        text-align: right;\n",
       "    }\n",
       "</style>\n",
       "<table border=\"1\" class=\"dataframe\">\n",
       "  <thead>\n",
       "    <tr style=\"text-align: right;\">\n",
       "      <th></th>\n",
       "      <th>symbol</th>\n",
       "      <th>name</th>\n",
       "      <th>sector</th>\n",
       "      <th>price</th>\n",
       "      <th>price_chg</th>\n",
       "      <th>price__chg</th>\n",
       "      <th>vol_rate</th>\n",
       "      <th>avg_dly__vol_000</th>\n",
       "      <th>mkt_val_mil_usd</th>\n",
       "      <th>pe_ratio</th>\n",
       "      <th>company_description</th>\n",
       "      <th>industry_sector</th>\n",
       "      <th>industry_group</th>\n",
       "      <th>isin</th>\n",
       "      <th>major_industry</th>\n",
       "      <th>headquarters</th>\n",
       "      <th>exchange_primary_listing</th>\n",
       "      <th>exchange</th>\n",
       "      <th>trading_country</th>\n",
       "    </tr>\n",
       "  </thead>\n",
       "  <tbody>\n",
       "    <tr>\n",
       "      <th>0</th>\n",
       "      <td>APC.DE</td>\n",
       "      <td>Apple (Fra)</td>\n",
       "      <td>Technology</td>\n",
       "      <td>410.00</td>\n",
       "      <td>0.00</td>\n",
       "      <td>0.000000</td>\n",
       "      <td>-100.000000</td>\n",
       "      <td>1765</td>\n",
       "      <td>497751</td>\n",
       "      <td>14.0</td>\n",
       "      <td>APPLE INC. (APPLE) DESIGNS, MANUFACTURES AND M...</td>\n",
       "      <td>COMPUTER</td>\n",
       "      <td>Computer-Hardware/Perip</td>\n",
       "      <td>US0378331005</td>\n",
       "      <td>NaN</td>\n",
       "      <td>NaN</td>\n",
       "      <td>No (NASDAQ, AAPL)</td>\n",
       "      <td>FRANKFURT</td>\n",
       "      <td>GERMANY</td>\n",
       "    </tr>\n",
       "    <tr>\n",
       "      <th>1</th>\n",
       "      <td>APCX.DE</td>\n",
       "      <td>Apple (Xet)</td>\n",
       "      <td>Technology</td>\n",
       "      <td>408.50</td>\n",
       "      <td>-2.00</td>\n",
       "      <td>-0.487211</td>\n",
       "      <td>-38.011541</td>\n",
       "      <td>6159</td>\n",
       "      <td>495930</td>\n",
       "      <td>14.0</td>\n",
       "      <td>APPLE INC. (APPLE) DESIGNS, MANUFACTURES AND M...</td>\n",
       "      <td>COMPUTER</td>\n",
       "      <td>Computer-Hardware/Perip</td>\n",
       "      <td>US0378331005</td>\n",
       "      <td>NaN</td>\n",
       "      <td>NaN</td>\n",
       "      <td>No (NASDAQ, AAPL)</td>\n",
       "      <td>XETRA</td>\n",
       "      <td>GERMANY</td>\n",
       "    </tr>\n",
       "    <tr>\n",
       "      <th>2</th>\n",
       "      <td>AAPL</td>\n",
       "      <td>Apple Inc</td>\n",
       "      <td>Technology</td>\n",
       "      <td>554.25</td>\n",
       "      <td>-3.11</td>\n",
       "      <td>-0.557987</td>\n",
       "      <td>-25.368715</td>\n",
       "      <td>6099413</td>\n",
       "      <td>494697</td>\n",
       "      <td>14.0</td>\n",
       "      <td>MANUFACTURES PERSONAL COMPUTERS, MOBILE COMMUN...</td>\n",
       "      <td>COMPUTER</td>\n",
       "      <td>Computer-Hardware/Perip</td>\n",
       "      <td>US0378331005</td>\n",
       "      <td>Computer Data Storage</td>\n",
       "      <td>Cupertino, CA</td>\n",
       "      <td>Yes</td>\n",
       "      <td>NASDAQ</td>\n",
       "      <td>UNITED STATES</td>\n",
       "    </tr>\n",
       "    <tr>\n",
       "      <th>3</th>\n",
       "      <td>XONA.DE</td>\n",
       "      <td>Exxon Mobil (Fra)</td>\n",
       "      <td>Energy</td>\n",
       "      <td>73.20</td>\n",
       "      <td>0.00</td>\n",
       "      <td>0.000000</td>\n",
       "      <td>-100.000000</td>\n",
       "      <td>322</td>\n",
       "      <td>435010</td>\n",
       "      <td>13.0</td>\n",
       "      <td>EXXON MOBIL CORPORATION IS A MANUFACTURER AND ...</td>\n",
       "      <td>ENERGY</td>\n",
       "      <td>Oil&amp;Gas-Integrated</td>\n",
       "      <td>US30231G1022</td>\n",
       "      <td>NaN</td>\n",
       "      <td>NaN</td>\n",
       "      <td>No (NYSE, XOM)</td>\n",
       "      <td>FRANKFURT</td>\n",
       "      <td>GERMANY</td>\n",
       "    </tr>\n",
       "    <tr>\n",
       "      <th>4</th>\n",
       "      <td>WBK</td>\n",
       "      <td>Westpac Banking Corp Adr</td>\n",
       "      <td>Financial</td>\n",
       "      <td>27.99</td>\n",
       "      <td>-0.37</td>\n",
       "      <td>-1.304654</td>\n",
       "      <td>-8.477119</td>\n",
       "      <td>3780</td>\n",
       "      <td>432467</td>\n",
       "      <td>14.0</td>\n",
       "      <td>AUSTRALIAN BANK PROVIDING BANKING/RELATED FINA...</td>\n",
       "      <td>BANKS</td>\n",
       "      <td>Banks-Foreign</td>\n",
       "      <td>US9612143019</td>\n",
       "      <td>Bank-Money Center</td>\n",
       "      <td>AUSTRALIA</td>\n",
       "      <td>Yes</td>\n",
       "      <td>NYSE</td>\n",
       "      <td>UNITED STATES</td>\n",
       "    </tr>\n",
       "  </tbody>\n",
       "</table>\n",
       "</div>"
      ],
      "text/plain": [
       "    symbol                      name      sector   price  price_chg  \\\n",
       "0   APC.DE               Apple (Fra)  Technology  410.00       0.00   \n",
       "1  APCX.DE               Apple (Xet)  Technology  408.50      -2.00   \n",
       "2     AAPL                 Apple Inc  Technology  554.25      -3.11   \n",
       "3  XONA.DE         Exxon Mobil (Fra)      Energy   73.20       0.00   \n",
       "4      WBK  Westpac Banking Corp Adr   Financial   27.99      -0.37   \n",
       "\n",
       "   price__chg    vol_rate  avg_dly__vol_000  mkt_val_mil_usd  pe_ratio  \\\n",
       "0    0.000000 -100.000000              1765           497751      14.0   \n",
       "1   -0.487211  -38.011541              6159           495930      14.0   \n",
       "2   -0.557987  -25.368715           6099413           494697      14.0   \n",
       "3    0.000000 -100.000000               322           435010      13.0   \n",
       "4   -1.304654   -8.477119              3780           432467      14.0   \n",
       "\n",
       "                                 company_description industry_sector  \\\n",
       "0  APPLE INC. (APPLE) DESIGNS, MANUFACTURES AND M...        COMPUTER   \n",
       "1  APPLE INC. (APPLE) DESIGNS, MANUFACTURES AND M...        COMPUTER   \n",
       "2  MANUFACTURES PERSONAL COMPUTERS, MOBILE COMMUN...        COMPUTER   \n",
       "3  EXXON MOBIL CORPORATION IS A MANUFACTURER AND ...          ENERGY   \n",
       "4  AUSTRALIAN BANK PROVIDING BANKING/RELATED FINA...           BANKS   \n",
       "\n",
       "            industry_group          isin         major_industry  \\\n",
       "0  Computer-Hardware/Perip  US0378331005                    NaN   \n",
       "1  Computer-Hardware/Perip  US0378331005                    NaN   \n",
       "2  Computer-Hardware/Perip  US0378331005  Computer Data Storage   \n",
       "3       Oil&Gas-Integrated  US30231G1022                    NaN   \n",
       "4            Banks-Foreign  US9612143019      Bank-Money Center   \n",
       "\n",
       "    headquarters exchange_primary_listing   exchange trading_country  \n",
       "0            NaN        No (NASDAQ, AAPL)  FRANKFURT         GERMANY  \n",
       "1            NaN        No (NASDAQ, AAPL)      XETRA         GERMANY  \n",
       "2  Cupertino, CA                      Yes     NASDAQ   UNITED STATES  \n",
       "3            NaN           No (NYSE, XOM)  FRANKFURT         GERMANY  \n",
       "4      AUSTRALIA                      Yes       NYSE   UNITED STATES  "
      ]
     },
     "execution_count": 46,
     "metadata": {},
     "output_type": "execute_result"
    }
   ],
   "source": [
    "df.head()"
   ]
  },
  {
   "cell_type": "code",
   "execution_count": 47,
   "metadata": {},
   "outputs": [
    {
     "data": {
      "text/html": [
       "<div>\n",
       "<style scoped>\n",
       "    .dataframe tbody tr th:only-of-type {\n",
       "        vertical-align: middle;\n",
       "    }\n",
       "\n",
       "    .dataframe tbody tr th {\n",
       "        vertical-align: top;\n",
       "    }\n",
       "\n",
       "    .dataframe thead th {\n",
       "        text-align: right;\n",
       "    }\n",
       "</style>\n",
       "<table border=\"1\" class=\"dataframe\">\n",
       "  <thead>\n",
       "    <tr style=\"text-align: right;\">\n",
       "      <th></th>\n",
       "      <th>symbol</th>\n",
       "      <th>name</th>\n",
       "      <th>sector</th>\n",
       "      <th>price</th>\n",
       "      <th>price_chg</th>\n",
       "      <th>price__chg</th>\n",
       "      <th>vol_rate</th>\n",
       "      <th>avg_dly__vol_000</th>\n",
       "      <th>mkt_val_mil_usd</th>\n",
       "      <th>pe_ratio</th>\n",
       "      <th>company_description</th>\n",
       "      <th>industry_sector</th>\n",
       "      <th>industry_group</th>\n",
       "      <th>isin</th>\n",
       "      <th>major_industry</th>\n",
       "      <th>headquarters</th>\n",
       "      <th>exchange_primary_listing</th>\n",
       "      <th>exchange</th>\n",
       "      <th>trading_country</th>\n",
       "    </tr>\n",
       "  </thead>\n",
       "  <tbody>\n",
       "    <tr>\n",
       "      <th>494</th>\n",
       "      <td>DTEX.DE</td>\n",
       "      <td>Deutsche Telekom (Xet)</td>\n",
       "      <td>Technology</td>\n",
       "      <td>12.45</td>\n",
       "      <td>-0.195</td>\n",
       "      <td>-1.542722</td>\n",
       "      <td>4.413403</td>\n",
       "      <td>124042</td>\n",
       "      <td>75343</td>\n",
       "      <td>23.0</td>\n",
       "      <td>DEUTSCHE TELEKOM AG IS A GERMANY-BASED INTEGRA...</td>\n",
       "      <td>TELECOM</td>\n",
       "      <td>Telecom Svcs-Integrated</td>\n",
       "      <td>DE0005557508</td>\n",
       "      <td>Telecommunication Equip</td>\n",
       "      <td>NaN</td>\n",
       "      <td>Yes</td>\n",
       "      <td>XETRA</td>\n",
       "      <td>GERMANY</td>\n",
       "    </tr>\n",
       "    <tr>\n",
       "      <th>495</th>\n",
       "      <td>BG.GB</td>\n",
       "      <td>Bg Group</td>\n",
       "      <td>Energy</td>\n",
       "      <td>13.52</td>\n",
       "      <td>0.170</td>\n",
       "      <td>1.273885</td>\n",
       "      <td>58.304817</td>\n",
       "      <td>49949</td>\n",
       "      <td>75310</td>\n",
       "      <td>16.0</td>\n",
       "      <td>BG GROUP PLC (BG GROUP) IS A NATURAL GAS COMPA...</td>\n",
       "      <td>ENERGY</td>\n",
       "      <td>Oil&amp;Gas-Integrated</td>\n",
       "      <td>GB0008762899</td>\n",
       "      <td>NaN</td>\n",
       "      <td>Reading</td>\n",
       "      <td>Yes</td>\n",
       "      <td>LONDON</td>\n",
       "      <td>UNITED KINGDOM</td>\n",
       "    </tr>\n",
       "    <tr>\n",
       "      <th>496</th>\n",
       "      <td>FOXA</td>\n",
       "      <td>Twenty-First Cen Fx Cl A</td>\n",
       "      <td>Consumer Cyclical</td>\n",
       "      <td>32.47</td>\n",
       "      <td>-0.140</td>\n",
       "      <td>-0.429316</td>\n",
       "      <td>-26.565262</td>\n",
       "      <td>354171</td>\n",
       "      <td>75153</td>\n",
       "      <td>25.0</td>\n",
       "      <td>GLOBAL MEDIA AND ENTERTAINMENT COMPANY ENGAGED...</td>\n",
       "      <td>MEDIA</td>\n",
       "      <td>Media-Diversified</td>\n",
       "      <td>US90130A1016</td>\n",
       "      <td>Media - Radio/Tv</td>\n",
       "      <td>New York, NY</td>\n",
       "      <td>Yes</td>\n",
       "      <td>NASDAQ</td>\n",
       "      <td>UNITED STATES</td>\n",
       "    </tr>\n",
       "    <tr>\n",
       "      <th>497</th>\n",
       "      <td>ANZ.AU</td>\n",
       "      <td>Aus.And Nz.Banking Gp.</td>\n",
       "      <td>Financial</td>\n",
       "      <td>31.09</td>\n",
       "      <td>0.120</td>\n",
       "      <td>0.387472</td>\n",
       "      <td>-9.287592</td>\n",
       "      <td>169869</td>\n",
       "      <td>75132</td>\n",
       "      <td>13.0</td>\n",
       "      <td>AUSTRALIA AND NEW ZEALAND BANKING GROUP LIMITE...</td>\n",
       "      <td>BANKS</td>\n",
       "      <td>Banks-Money Center</td>\n",
       "      <td>AU000000ANZ3</td>\n",
       "      <td>Bank-Money Center</td>\n",
       "      <td>Melbourne</td>\n",
       "      <td>Yes</td>\n",
       "      <td>AUSTRALIAN</td>\n",
       "      <td>AUSTRALIA</td>\n",
       "    </tr>\n",
       "    <tr>\n",
       "      <th>498</th>\n",
       "      <td>DEUT.IT</td>\n",
       "      <td>Deutsche Telekom (Mil)</td>\n",
       "      <td>Technology</td>\n",
       "      <td>12.40</td>\n",
       "      <td>-0.170</td>\n",
       "      <td>-1.352426</td>\n",
       "      <td>-42.570255</td>\n",
       "      <td>193</td>\n",
       "      <td>75071</td>\n",
       "      <td>23.0</td>\n",
       "      <td>DEUTSCHE TELEKOM AG IS A GERMANY-BASED INTEGRA...</td>\n",
       "      <td>TELECOM</td>\n",
       "      <td>Telecom Svcs-Integrated</td>\n",
       "      <td>DE0005557508</td>\n",
       "      <td>Telecommunication Equip</td>\n",
       "      <td>NaN</td>\n",
       "      <td>No (XETRA, DTEX.DE)</td>\n",
       "      <td>MILAN</td>\n",
       "      <td>ITALY</td>\n",
       "    </tr>\n",
       "  </tbody>\n",
       "</table>\n",
       "</div>"
      ],
      "text/plain": [
       "      symbol                      name             sector  price  price_chg  \\\n",
       "494  DTEX.DE    Deutsche Telekom (Xet)         Technology  12.45     -0.195   \n",
       "495    BG.GB                  Bg Group             Energy  13.52      0.170   \n",
       "496     FOXA  Twenty-First Cen Fx Cl A  Consumer Cyclical  32.47     -0.140   \n",
       "497   ANZ.AU    Aus.And Nz.Banking Gp.          Financial  31.09      0.120   \n",
       "498  DEUT.IT    Deutsche Telekom (Mil)         Technology  12.40     -0.170   \n",
       "\n",
       "     price__chg   vol_rate  avg_dly__vol_000  mkt_val_mil_usd  pe_ratio  \\\n",
       "494   -1.542722   4.413403            124042            75343      23.0   \n",
       "495    1.273885  58.304817             49949            75310      16.0   \n",
       "496   -0.429316 -26.565262            354171            75153      25.0   \n",
       "497    0.387472  -9.287592            169869            75132      13.0   \n",
       "498   -1.352426 -42.570255               193            75071      23.0   \n",
       "\n",
       "                                   company_description industry_sector  \\\n",
       "494  DEUTSCHE TELEKOM AG IS A GERMANY-BASED INTEGRA...         TELECOM   \n",
       "495  BG GROUP PLC (BG GROUP) IS A NATURAL GAS COMPA...          ENERGY   \n",
       "496  GLOBAL MEDIA AND ENTERTAINMENT COMPANY ENGAGED...           MEDIA   \n",
       "497  AUSTRALIA AND NEW ZEALAND BANKING GROUP LIMITE...           BANKS   \n",
       "498  DEUTSCHE TELEKOM AG IS A GERMANY-BASED INTEGRA...         TELECOM   \n",
       "\n",
       "              industry_group          isin           major_industry  \\\n",
       "494  Telecom Svcs-Integrated  DE0005557508  Telecommunication Equip   \n",
       "495       Oil&Gas-Integrated  GB0008762899                      NaN   \n",
       "496        Media-Diversified  US90130A1016         Media - Radio/Tv   \n",
       "497       Banks-Money Center  AU000000ANZ3        Bank-Money Center   \n",
       "498  Telecom Svcs-Integrated  DE0005557508  Telecommunication Equip   \n",
       "\n",
       "     headquarters exchange_primary_listing    exchange trading_country  \n",
       "494           NaN                      Yes       XETRA         GERMANY  \n",
       "495       Reading                      Yes      LONDON  UNITED KINGDOM  \n",
       "496  New York, NY                      Yes      NASDAQ   UNITED STATES  \n",
       "497     Melbourne                      Yes  AUSTRALIAN       AUSTRALIA  \n",
       "498           NaN      No (XETRA, DTEX.DE)       MILAN           ITALY  "
      ]
     },
     "execution_count": 47,
     "metadata": {},
     "output_type": "execute_result"
    }
   ],
   "source": [
    "df.tail()"
   ]
  },
  {
   "cell_type": "markdown",
   "metadata": {},
   "source": [
    "# The Pandas DataFrames\n",
    "\n",
    "<img src=\"img/dataframe.png\"><img src=\"img/excel_table.png\">\n",
    "\n",
    "If the structure seems familiar, it's because DataFrames are very similar to a single Excel “Sheet”, but instead of referring to rows and columns with A1, yyou have the column numbers/names and row numbers.  \n",
    "\n",
    "A DataFrame consists on three parts:\n",
    "\n",
    "1. Index\n",
    "2. Columns Names (Column Index)\n",
    "3. Data"
   ]
  },
  {
   "cell_type": "code",
   "execution_count": 156,
   "metadata": {
    "collapsed": false,
    "jupyter": {
     "outputs_hidden": false
    },
    "pycharm": {
     "name": "#%%\n"
    }
   },
   "outputs": [
    {
     "data": {
      "text/plain": [
       "RangeIndex(start=0, stop=499, step=1)"
      ]
     },
     "execution_count": 156,
     "metadata": {},
     "output_type": "execute_result"
    }
   ],
   "source": [
    "df.index"
   ]
  },
  {
   "cell_type": "code",
   "execution_count": 49,
   "metadata": {
    "collapsed": false,
    "jupyter": {
     "outputs_hidden": false
    },
    "pycharm": {
     "name": "#%%\n"
    }
   },
   "outputs": [
    {
     "data": {
      "text/plain": [
       "Index(['symbol', 'name', 'sector', 'price', 'price_chg', 'price__chg',\n",
       "       'vol_rate', 'avg_dly__vol_000', 'mkt_val_mil_usd', 'pe_ratio',\n",
       "       'company_description', 'industry_sector', 'industry_group', 'isin',\n",
       "       'major_industry', 'headquarters', 'exchange_primary_listing',\n",
       "       'exchange', 'trading_country'],\n",
       "      dtype='object')"
      ]
     },
     "execution_count": 49,
     "metadata": {},
     "output_type": "execute_result"
    }
   ],
   "source": [
    "df.columns"
   ]
  },
  {
   "cell_type": "code",
   "execution_count": 50,
   "metadata": {
    "collapsed": false,
    "jupyter": {
     "outputs_hidden": false
    },
    "pycharm": {
     "name": "#%%\n"
    }
   },
   "outputs": [
    {
     "data": {
      "text/plain": [
       "array([['APC.DE', 'Apple (Fra)', 'Technology', ..., 'No (NASDAQ, AAPL)',\n",
       "        'FRANKFURT', 'GERMANY'],\n",
       "       ['APCX.DE', 'Apple (Xet)', 'Technology', ..., 'No (NASDAQ, AAPL)',\n",
       "        'XETRA', 'GERMANY'],\n",
       "       ['AAPL', 'Apple Inc', 'Technology', ..., 'Yes', 'NASDAQ',\n",
       "        'UNITED STATES'],\n",
       "       ...,\n",
       "       ['FOXA', 'Twenty-First Cen Fx Cl A', 'Consumer Cyclical', ...,\n",
       "        'Yes', 'NASDAQ', 'UNITED STATES'],\n",
       "       ['ANZ.AU', 'Aus.And Nz.Banking Gp.', 'Financial', ..., 'Yes',\n",
       "        'AUSTRALIAN', 'AUSTRALIA'],\n",
       "       ['DEUT.IT', 'Deutsche Telekom (Mil)', 'Technology', ...,\n",
       "        'No (XETRA, DTEX.DE)', 'MILAN', 'ITALY']], dtype=object)"
      ]
     },
     "execution_count": 50,
     "metadata": {},
     "output_type": "execute_result"
    }
   ],
   "source": [
    "df.values"
   ]
  },
  {
   "cell_type": "markdown",
   "metadata": {},
   "source": [
    "## Sort Data"
   ]
  },
  {
   "cell_type": "code",
   "execution_count": 51,
   "metadata": {},
   "outputs": [
    {
     "data": {
      "text/html": [
       "<div>\n",
       "<style scoped>\n",
       "    .dataframe tbody tr th:only-of-type {\n",
       "        vertical-align: middle;\n",
       "    }\n",
       "\n",
       "    .dataframe tbody tr th {\n",
       "        vertical-align: top;\n",
       "    }\n",
       "\n",
       "    .dataframe thead th {\n",
       "        text-align: right;\n",
       "    }\n",
       "</style>\n",
       "<table border=\"1\" class=\"dataframe\">\n",
       "  <thead>\n",
       "    <tr style=\"text-align: right;\">\n",
       "      <th></th>\n",
       "      <th>symbol</th>\n",
       "      <th>name</th>\n",
       "      <th>sector</th>\n",
       "      <th>price</th>\n",
       "      <th>price_chg</th>\n",
       "      <th>price__chg</th>\n",
       "      <th>vol_rate</th>\n",
       "      <th>avg_dly__vol_000</th>\n",
       "      <th>mkt_val_mil_usd</th>\n",
       "      <th>pe_ratio</th>\n",
       "      <th>company_description</th>\n",
       "      <th>industry_sector</th>\n",
       "      <th>industry_group</th>\n",
       "      <th>isin</th>\n",
       "      <th>major_industry</th>\n",
       "      <th>headquarters</th>\n",
       "      <th>exchange_primary_listing</th>\n",
       "      <th>exchange</th>\n",
       "      <th>trading_country</th>\n",
       "    </tr>\n",
       "  </thead>\n",
       "  <tbody>\n",
       "    <tr>\n",
       "      <th>0</th>\n",
       "      <td>APC.DE</td>\n",
       "      <td>Apple (Fra)</td>\n",
       "      <td>Technology</td>\n",
       "      <td>410.00</td>\n",
       "      <td>0.000</td>\n",
       "      <td>0.000000</td>\n",
       "      <td>-100.000000</td>\n",
       "      <td>1765</td>\n",
       "      <td>497751</td>\n",
       "      <td>14.0</td>\n",
       "      <td>APPLE INC. (APPLE) DESIGNS, MANUFACTURES AND M...</td>\n",
       "      <td>COMPUTER</td>\n",
       "      <td>Computer-Hardware/Perip</td>\n",
       "      <td>US0378331005</td>\n",
       "      <td>NaN</td>\n",
       "      <td>NaN</td>\n",
       "      <td>No (NASDAQ, AAPL)</td>\n",
       "      <td>FRANKFURT</td>\n",
       "      <td>GERMANY</td>\n",
       "    </tr>\n",
       "    <tr>\n",
       "      <th>1</th>\n",
       "      <td>APCX.DE</td>\n",
       "      <td>Apple (Xet)</td>\n",
       "      <td>Technology</td>\n",
       "      <td>408.50</td>\n",
       "      <td>-2.000</td>\n",
       "      <td>-0.487211</td>\n",
       "      <td>-38.011541</td>\n",
       "      <td>6159</td>\n",
       "      <td>495930</td>\n",
       "      <td>14.0</td>\n",
       "      <td>APPLE INC. (APPLE) DESIGNS, MANUFACTURES AND M...</td>\n",
       "      <td>COMPUTER</td>\n",
       "      <td>Computer-Hardware/Perip</td>\n",
       "      <td>US0378331005</td>\n",
       "      <td>NaN</td>\n",
       "      <td>NaN</td>\n",
       "      <td>No (NASDAQ, AAPL)</td>\n",
       "      <td>XETRA</td>\n",
       "      <td>GERMANY</td>\n",
       "    </tr>\n",
       "    <tr>\n",
       "      <th>2</th>\n",
       "      <td>AAPL</td>\n",
       "      <td>Apple Inc</td>\n",
       "      <td>Technology</td>\n",
       "      <td>554.25</td>\n",
       "      <td>-3.110</td>\n",
       "      <td>-0.557987</td>\n",
       "      <td>-25.368715</td>\n",
       "      <td>6099413</td>\n",
       "      <td>494697</td>\n",
       "      <td>14.0</td>\n",
       "      <td>MANUFACTURES PERSONAL COMPUTERS, MOBILE COMMUN...</td>\n",
       "      <td>COMPUTER</td>\n",
       "      <td>Computer-Hardware/Perip</td>\n",
       "      <td>US0378331005</td>\n",
       "      <td>Computer Data Storage</td>\n",
       "      <td>Cupertino, CA</td>\n",
       "      <td>Yes</td>\n",
       "      <td>NASDAQ</td>\n",
       "      <td>UNITED STATES</td>\n",
       "    </tr>\n",
       "    <tr>\n",
       "      <th>3</th>\n",
       "      <td>XONA.DE</td>\n",
       "      <td>Exxon Mobil (Fra)</td>\n",
       "      <td>Energy</td>\n",
       "      <td>73.20</td>\n",
       "      <td>0.000</td>\n",
       "      <td>0.000000</td>\n",
       "      <td>-100.000000</td>\n",
       "      <td>322</td>\n",
       "      <td>435010</td>\n",
       "      <td>13.0</td>\n",
       "      <td>EXXON MOBIL CORPORATION IS A MANUFACTURER AND ...</td>\n",
       "      <td>ENERGY</td>\n",
       "      <td>Oil&amp;Gas-Integrated</td>\n",
       "      <td>US30231G1022</td>\n",
       "      <td>NaN</td>\n",
       "      <td>NaN</td>\n",
       "      <td>No (NYSE, XOM)</td>\n",
       "      <td>FRANKFURT</td>\n",
       "      <td>GERMANY</td>\n",
       "    </tr>\n",
       "    <tr>\n",
       "      <th>4</th>\n",
       "      <td>WBK</td>\n",
       "      <td>Westpac Banking Corp Adr</td>\n",
       "      <td>Financial</td>\n",
       "      <td>27.99</td>\n",
       "      <td>-0.370</td>\n",
       "      <td>-1.304654</td>\n",
       "      <td>-8.477119</td>\n",
       "      <td>3780</td>\n",
       "      <td>432467</td>\n",
       "      <td>14.0</td>\n",
       "      <td>AUSTRALIAN BANK PROVIDING BANKING/RELATED FINA...</td>\n",
       "      <td>BANKS</td>\n",
       "      <td>Banks-Foreign</td>\n",
       "      <td>US9612143019</td>\n",
       "      <td>Bank-Money Center</td>\n",
       "      <td>AUSTRALIA</td>\n",
       "      <td>Yes</td>\n",
       "      <td>NYSE</td>\n",
       "      <td>UNITED STATES</td>\n",
       "    </tr>\n",
       "    <tr>\n",
       "      <th>...</th>\n",
       "      <td>...</td>\n",
       "      <td>...</td>\n",
       "      <td>...</td>\n",
       "      <td>...</td>\n",
       "      <td>...</td>\n",
       "      <td>...</td>\n",
       "      <td>...</td>\n",
       "      <td>...</td>\n",
       "      <td>...</td>\n",
       "      <td>...</td>\n",
       "      <td>...</td>\n",
       "      <td>...</td>\n",
       "      <td>...</td>\n",
       "      <td>...</td>\n",
       "      <td>...</td>\n",
       "      <td>...</td>\n",
       "      <td>...</td>\n",
       "      <td>...</td>\n",
       "      <td>...</td>\n",
       "    </tr>\n",
       "    <tr>\n",
       "      <th>494</th>\n",
       "      <td>DTEX.DE</td>\n",
       "      <td>Deutsche Telekom (Xet)</td>\n",
       "      <td>Technology</td>\n",
       "      <td>12.45</td>\n",
       "      <td>-0.195</td>\n",
       "      <td>-1.542722</td>\n",
       "      <td>4.413403</td>\n",
       "      <td>124042</td>\n",
       "      <td>75343</td>\n",
       "      <td>23.0</td>\n",
       "      <td>DEUTSCHE TELEKOM AG IS A GERMANY-BASED INTEGRA...</td>\n",
       "      <td>TELECOM</td>\n",
       "      <td>Telecom Svcs-Integrated</td>\n",
       "      <td>DE0005557508</td>\n",
       "      <td>Telecommunication Equip</td>\n",
       "      <td>NaN</td>\n",
       "      <td>Yes</td>\n",
       "      <td>XETRA</td>\n",
       "      <td>GERMANY</td>\n",
       "    </tr>\n",
       "    <tr>\n",
       "      <th>495</th>\n",
       "      <td>BG.GB</td>\n",
       "      <td>Bg Group</td>\n",
       "      <td>Energy</td>\n",
       "      <td>13.52</td>\n",
       "      <td>0.170</td>\n",
       "      <td>1.273885</td>\n",
       "      <td>58.304817</td>\n",
       "      <td>49949</td>\n",
       "      <td>75310</td>\n",
       "      <td>16.0</td>\n",
       "      <td>BG GROUP PLC (BG GROUP) IS A NATURAL GAS COMPA...</td>\n",
       "      <td>ENERGY</td>\n",
       "      <td>Oil&amp;Gas-Integrated</td>\n",
       "      <td>GB0008762899</td>\n",
       "      <td>NaN</td>\n",
       "      <td>Reading</td>\n",
       "      <td>Yes</td>\n",
       "      <td>LONDON</td>\n",
       "      <td>UNITED KINGDOM</td>\n",
       "    </tr>\n",
       "    <tr>\n",
       "      <th>496</th>\n",
       "      <td>FOXA</td>\n",
       "      <td>Twenty-First Cen Fx Cl A</td>\n",
       "      <td>Consumer Cyclical</td>\n",
       "      <td>32.47</td>\n",
       "      <td>-0.140</td>\n",
       "      <td>-0.429316</td>\n",
       "      <td>-26.565262</td>\n",
       "      <td>354171</td>\n",
       "      <td>75153</td>\n",
       "      <td>25.0</td>\n",
       "      <td>GLOBAL MEDIA AND ENTERTAINMENT COMPANY ENGAGED...</td>\n",
       "      <td>MEDIA</td>\n",
       "      <td>Media-Diversified</td>\n",
       "      <td>US90130A1016</td>\n",
       "      <td>Media - Radio/Tv</td>\n",
       "      <td>New York, NY</td>\n",
       "      <td>Yes</td>\n",
       "      <td>NASDAQ</td>\n",
       "      <td>UNITED STATES</td>\n",
       "    </tr>\n",
       "    <tr>\n",
       "      <th>497</th>\n",
       "      <td>ANZ.AU</td>\n",
       "      <td>Aus.And Nz.Banking Gp.</td>\n",
       "      <td>Financial</td>\n",
       "      <td>31.09</td>\n",
       "      <td>0.120</td>\n",
       "      <td>0.387472</td>\n",
       "      <td>-9.287592</td>\n",
       "      <td>169869</td>\n",
       "      <td>75132</td>\n",
       "      <td>13.0</td>\n",
       "      <td>AUSTRALIA AND NEW ZEALAND BANKING GROUP LIMITE...</td>\n",
       "      <td>BANKS</td>\n",
       "      <td>Banks-Money Center</td>\n",
       "      <td>AU000000ANZ3</td>\n",
       "      <td>Bank-Money Center</td>\n",
       "      <td>Melbourne</td>\n",
       "      <td>Yes</td>\n",
       "      <td>AUSTRALIAN</td>\n",
       "      <td>AUSTRALIA</td>\n",
       "    </tr>\n",
       "    <tr>\n",
       "      <th>498</th>\n",
       "      <td>DEUT.IT</td>\n",
       "      <td>Deutsche Telekom (Mil)</td>\n",
       "      <td>Technology</td>\n",
       "      <td>12.40</td>\n",
       "      <td>-0.170</td>\n",
       "      <td>-1.352426</td>\n",
       "      <td>-42.570255</td>\n",
       "      <td>193</td>\n",
       "      <td>75071</td>\n",
       "      <td>23.0</td>\n",
       "      <td>DEUTSCHE TELEKOM AG IS A GERMANY-BASED INTEGRA...</td>\n",
       "      <td>TELECOM</td>\n",
       "      <td>Telecom Svcs-Integrated</td>\n",
       "      <td>DE0005557508</td>\n",
       "      <td>Telecommunication Equip</td>\n",
       "      <td>NaN</td>\n",
       "      <td>No (XETRA, DTEX.DE)</td>\n",
       "      <td>MILAN</td>\n",
       "      <td>ITALY</td>\n",
       "    </tr>\n",
       "  </tbody>\n",
       "</table>\n",
       "<p>499 rows × 19 columns</p>\n",
       "</div>"
      ],
      "text/plain": [
       "      symbol                      name             sector   price  price_chg  \\\n",
       "0     APC.DE               Apple (Fra)         Technology  410.00      0.000   \n",
       "1    APCX.DE               Apple (Xet)         Technology  408.50     -2.000   \n",
       "2       AAPL                 Apple Inc         Technology  554.25     -3.110   \n",
       "3    XONA.DE         Exxon Mobil (Fra)             Energy   73.20      0.000   \n",
       "4        WBK  Westpac Banking Corp Adr          Financial   27.99     -0.370   \n",
       "..       ...                       ...                ...     ...        ...   \n",
       "494  DTEX.DE    Deutsche Telekom (Xet)         Technology   12.45     -0.195   \n",
       "495    BG.GB                  Bg Group             Energy   13.52      0.170   \n",
       "496     FOXA  Twenty-First Cen Fx Cl A  Consumer Cyclical   32.47     -0.140   \n",
       "497   ANZ.AU    Aus.And Nz.Banking Gp.          Financial   31.09      0.120   \n",
       "498  DEUT.IT    Deutsche Telekom (Mil)         Technology   12.40     -0.170   \n",
       "\n",
       "     price__chg    vol_rate  avg_dly__vol_000  mkt_val_mil_usd  pe_ratio  \\\n",
       "0      0.000000 -100.000000              1765           497751      14.0   \n",
       "1     -0.487211  -38.011541              6159           495930      14.0   \n",
       "2     -0.557987  -25.368715           6099413           494697      14.0   \n",
       "3      0.000000 -100.000000               322           435010      13.0   \n",
       "4     -1.304654   -8.477119              3780           432467      14.0   \n",
       "..          ...         ...               ...              ...       ...   \n",
       "494   -1.542722    4.413403            124042            75343      23.0   \n",
       "495    1.273885   58.304817             49949            75310      16.0   \n",
       "496   -0.429316  -26.565262            354171            75153      25.0   \n",
       "497    0.387472   -9.287592            169869            75132      13.0   \n",
       "498   -1.352426  -42.570255               193            75071      23.0   \n",
       "\n",
       "                                   company_description industry_sector  \\\n",
       "0    APPLE INC. (APPLE) DESIGNS, MANUFACTURES AND M...        COMPUTER   \n",
       "1    APPLE INC. (APPLE) DESIGNS, MANUFACTURES AND M...        COMPUTER   \n",
       "2    MANUFACTURES PERSONAL COMPUTERS, MOBILE COMMUN...        COMPUTER   \n",
       "3    EXXON MOBIL CORPORATION IS A MANUFACTURER AND ...          ENERGY   \n",
       "4    AUSTRALIAN BANK PROVIDING BANKING/RELATED FINA...           BANKS   \n",
       "..                                                 ...             ...   \n",
       "494  DEUTSCHE TELEKOM AG IS A GERMANY-BASED INTEGRA...         TELECOM   \n",
       "495  BG GROUP PLC (BG GROUP) IS A NATURAL GAS COMPA...          ENERGY   \n",
       "496  GLOBAL MEDIA AND ENTERTAINMENT COMPANY ENGAGED...           MEDIA   \n",
       "497  AUSTRALIA AND NEW ZEALAND BANKING GROUP LIMITE...           BANKS   \n",
       "498  DEUTSCHE TELEKOM AG IS A GERMANY-BASED INTEGRA...         TELECOM   \n",
       "\n",
       "              industry_group          isin           major_industry  \\\n",
       "0    Computer-Hardware/Perip  US0378331005                      NaN   \n",
       "1    Computer-Hardware/Perip  US0378331005                      NaN   \n",
       "2    Computer-Hardware/Perip  US0378331005    Computer Data Storage   \n",
       "3         Oil&Gas-Integrated  US30231G1022                      NaN   \n",
       "4              Banks-Foreign  US9612143019        Bank-Money Center   \n",
       "..                       ...           ...                      ...   \n",
       "494  Telecom Svcs-Integrated  DE0005557508  Telecommunication Equip   \n",
       "495       Oil&Gas-Integrated  GB0008762899                      NaN   \n",
       "496        Media-Diversified  US90130A1016         Media - Radio/Tv   \n",
       "497       Banks-Money Center  AU000000ANZ3        Bank-Money Center   \n",
       "498  Telecom Svcs-Integrated  DE0005557508  Telecommunication Equip   \n",
       "\n",
       "      headquarters exchange_primary_listing    exchange trading_country  \n",
       "0              NaN        No (NASDAQ, AAPL)   FRANKFURT         GERMANY  \n",
       "1              NaN        No (NASDAQ, AAPL)       XETRA         GERMANY  \n",
       "2    Cupertino, CA                      Yes      NASDAQ   UNITED STATES  \n",
       "3              NaN           No (NYSE, XOM)   FRANKFURT         GERMANY  \n",
       "4        AUSTRALIA                      Yes        NYSE   UNITED STATES  \n",
       "..             ...                      ...         ...             ...  \n",
       "494            NaN                      Yes       XETRA         GERMANY  \n",
       "495        Reading                      Yes      LONDON  UNITED KINGDOM  \n",
       "496   New York, NY                      Yes      NASDAQ   UNITED STATES  \n",
       "497      Melbourne                      Yes  AUSTRALIAN       AUSTRALIA  \n",
       "498            NaN      No (XETRA, DTEX.DE)       MILAN           ITALY  \n",
       "\n",
       "[499 rows x 19 columns]"
      ]
     },
     "execution_count": 51,
     "metadata": {},
     "output_type": "execute_result"
    }
   ],
   "source": [
    "df.sort_values(\"mkt_val_mil_usd\", ascending=False)"
   ]
  },
  {
   "cell_type": "markdown",
   "metadata": {},
   "source": [
    "## Selecting Data (by Columns)"
   ]
  },
  {
   "cell_type": "code",
   "execution_count": 108,
   "metadata": {},
   "outputs": [
    {
     "data": {
      "text/plain": [
       "0       APC.DE\n",
       "1      APCX.DE\n",
       "2         AAPL\n",
       "3      XONA.DE\n",
       "4          WBK\n",
       "        ...   \n",
       "494    DTEX.DE\n",
       "495      BG.GB\n",
       "496       FOXA\n",
       "497     ANZ.AU\n",
       "498    DEUT.IT\n",
       "Name: symbol, Length: 499, dtype: object"
      ]
     },
     "execution_count": 108,
     "metadata": {},
     "output_type": "execute_result"
    }
   ],
   "source": [
    "df['symbol']"
   ]
  },
  {
   "cell_type": "markdown",
   "metadata": {},
   "source": [
    "OR, can use column name:"
   ]
  },
  {
   "cell_type": "code",
   "execution_count": 109,
   "metadata": {},
   "outputs": [
    {
     "data": {
      "text/plain": [
       "0       APC.DE\n",
       "1      APCX.DE\n",
       "2         AAPL\n",
       "3      XONA.DE\n",
       "4          WBK\n",
       "        ...   \n",
       "494    DTEX.DE\n",
       "495      BG.GB\n",
       "496       FOXA\n",
       "497     ANZ.AU\n",
       "498    DEUT.IT\n",
       "Name: symbol, Length: 499, dtype: object"
      ]
     },
     "execution_count": 109,
     "metadata": {},
     "output_type": "execute_result"
    }
   ],
   "source": [
    "df.symbol"
   ]
  },
  {
   "cell_type": "code",
   "execution_count": 110,
   "metadata": {},
   "outputs": [
    {
     "data": {
      "text/html": [
       "<div>\n",
       "<style scoped>\n",
       "    .dataframe tbody tr th:only-of-type {\n",
       "        vertical-align: middle;\n",
       "    }\n",
       "\n",
       "    .dataframe tbody tr th {\n",
       "        vertical-align: top;\n",
       "    }\n",
       "\n",
       "    .dataframe thead th {\n",
       "        text-align: right;\n",
       "    }\n",
       "</style>\n",
       "<table border=\"1\" class=\"dataframe\">\n",
       "  <thead>\n",
       "    <tr style=\"text-align: right;\">\n",
       "      <th></th>\n",
       "      <th>symbol</th>\n",
       "      <th>name</th>\n",
       "      <th>sector</th>\n",
       "    </tr>\n",
       "  </thead>\n",
       "  <tbody>\n",
       "    <tr>\n",
       "      <th>0</th>\n",
       "      <td>APC.DE</td>\n",
       "      <td>Apple (Fra)</td>\n",
       "      <td>Technology</td>\n",
       "    </tr>\n",
       "    <tr>\n",
       "      <th>1</th>\n",
       "      <td>APCX.DE</td>\n",
       "      <td>Apple (Xet)</td>\n",
       "      <td>Technology</td>\n",
       "    </tr>\n",
       "    <tr>\n",
       "      <th>2</th>\n",
       "      <td>AAPL</td>\n",
       "      <td>Apple Inc</td>\n",
       "      <td>Technology</td>\n",
       "    </tr>\n",
       "    <tr>\n",
       "      <th>3</th>\n",
       "      <td>XONA.DE</td>\n",
       "      <td>Exxon Mobil (Fra)</td>\n",
       "      <td>Energy</td>\n",
       "    </tr>\n",
       "    <tr>\n",
       "      <th>4</th>\n",
       "      <td>WBK</td>\n",
       "      <td>Westpac Banking Corp Adr</td>\n",
       "      <td>Financial</td>\n",
       "    </tr>\n",
       "    <tr>\n",
       "      <th>...</th>\n",
       "      <td>...</td>\n",
       "      <td>...</td>\n",
       "      <td>...</td>\n",
       "    </tr>\n",
       "    <tr>\n",
       "      <th>494</th>\n",
       "      <td>DTEX.DE</td>\n",
       "      <td>Deutsche Telekom (Xet)</td>\n",
       "      <td>Technology</td>\n",
       "    </tr>\n",
       "    <tr>\n",
       "      <th>495</th>\n",
       "      <td>BG.GB</td>\n",
       "      <td>Bg Group</td>\n",
       "      <td>Energy</td>\n",
       "    </tr>\n",
       "    <tr>\n",
       "      <th>496</th>\n",
       "      <td>FOXA</td>\n",
       "      <td>Twenty-First Cen Fx Cl A</td>\n",
       "      <td>Consumer Cyclical</td>\n",
       "    </tr>\n",
       "    <tr>\n",
       "      <th>497</th>\n",
       "      <td>ANZ.AU</td>\n",
       "      <td>Aus.And Nz.Banking Gp.</td>\n",
       "      <td>Financial</td>\n",
       "    </tr>\n",
       "    <tr>\n",
       "      <th>498</th>\n",
       "      <td>DEUT.IT</td>\n",
       "      <td>Deutsche Telekom (Mil)</td>\n",
       "      <td>Technology</td>\n",
       "    </tr>\n",
       "  </tbody>\n",
       "</table>\n",
       "<p>499 rows × 3 columns</p>\n",
       "</div>"
      ],
      "text/plain": [
       "      symbol                      name             sector\n",
       "0     APC.DE               Apple (Fra)         Technology\n",
       "1    APCX.DE               Apple (Xet)         Technology\n",
       "2       AAPL                 Apple Inc         Technology\n",
       "3    XONA.DE         Exxon Mobil (Fra)             Energy\n",
       "4        WBK  Westpac Banking Corp Adr          Financial\n",
       "..       ...                       ...                ...\n",
       "494  DTEX.DE    Deutsche Telekom (Xet)         Technology\n",
       "495    BG.GB                  Bg Group             Energy\n",
       "496     FOXA  Twenty-First Cen Fx Cl A  Consumer Cyclical\n",
       "497   ANZ.AU    Aus.And Nz.Banking Gp.          Financial\n",
       "498  DEUT.IT    Deutsche Telekom (Mil)         Technology\n",
       "\n",
       "[499 rows x 3 columns]"
      ]
     },
     "execution_count": 110,
     "metadata": {},
     "output_type": "execute_result"
    }
   ],
   "source": [
    "# Getting more than one column\n",
    "df[['symbol', 'name','sector']]"
   ]
  },
  {
   "cell_type": "markdown",
   "metadata": {},
   "source": [
    "# Selecting Data\n",
    "\n",
    "## Label vs. Location\n",
    "\n",
    "### df.loc[row_labels, column_labels] - select data (rows and/or columns) with particular label(s).\n",
    "\n",
    "Allowed inputs are:\n",
    "\n",
    "* An integer, e.g. 5.\n",
    "\n",
    "* A list or array of integers, e.g. [4, 3, 0].\n",
    "\n",
    "* A slice object with ints, e.g. 1:7.\n",
    "\n",
    "* A boolean array.\n",
    "\n",
    "### df.iloc[row_positions, column_positions] - select data (rows and/or columns) at integer locations.\n",
    "\n",
    "Allowed inputs are:\n",
    "\n",
    "* A single label, e.g. 5 or 'a', (note that 5 is interpreted as a label of the index, and never as an integer position along the index).\n",
    "\n",
    "* A list or array of labels, e.g. ['a', 'b', 'c'].\n",
    "\n",
    "* A slice object with labels, e.g. 'a':'f'.\n",
    "\n",
    "* A boolean array of the same length as the axis being sliced, e.g. [True, False, True].\n"
   ]
  },
  {
   "cell_type": "markdown",
   "metadata": {},
   "source": [
    "### Selecting a single row by position\n",
    "Selecting a single row by position"
   ]
  },
  {
   "cell_type": "code",
   "execution_count": 136,
   "metadata": {},
   "outputs": [
    {
     "data": {
      "text/plain": [
       "symbol                                                                XONA.DE\n",
       "name                                                        Exxon Mobil (Fra)\n",
       "sector                                                                 Energy\n",
       "price                                                                    73.2\n",
       "price_chg                                                                 0.0\n",
       "price__chg                                                                0.0\n",
       "vol_rate                                                               -100.0\n",
       "avg_dly__vol_000                                                          322\n",
       "mkt_val_mil_usd                                                        435010\n",
       "pe_ratio                                                                 13.0\n",
       "company_description         EXXON MOBIL CORPORATION IS A MANUFACTURER AND ...\n",
       "industry_sector                                                        ENERGY\n",
       "industry_group                                             Oil&Gas-Integrated\n",
       "isin                                                             US30231G1022\n",
       "major_industry                                                            NaN\n",
       "headquarters                                                              NaN\n",
       "exchange_primary_listing                                       No (NYSE, XOM)\n",
       "exchange                                                            FRANKFURT\n",
       "trading_country                                                       GERMANY\n",
       "Name: 3, dtype: object"
      ]
     },
     "execution_count": 136,
     "metadata": {},
     "output_type": "execute_result"
    }
   ],
   "source": [
    "# selects series\n",
    "df.loc[3]"
   ]
  },
  {
   "cell_type": "code",
   "execution_count": 137,
   "metadata": {},
   "outputs": [
    {
     "data": {
      "text/plain": [
       "symbol                                                                XONA.DE\n",
       "name                                                        Exxon Mobil (Fra)\n",
       "sector                                                                 Energy\n",
       "price                                                                    73.2\n",
       "price_chg                                                                 0.0\n",
       "price__chg                                                                0.0\n",
       "vol_rate                                                               -100.0\n",
       "avg_dly__vol_000                                                          322\n",
       "mkt_val_mil_usd                                                        435010\n",
       "pe_ratio                                                                 13.0\n",
       "company_description         EXXON MOBIL CORPORATION IS A MANUFACTURER AND ...\n",
       "industry_sector                                                        ENERGY\n",
       "industry_group                                             Oil&Gas-Integrated\n",
       "isin                                                             US30231G1022\n",
       "major_industry                                                            NaN\n",
       "headquarters                                                              NaN\n",
       "exchange_primary_listing                                       No (NYSE, XOM)\n",
       "exchange                                                            FRANKFURT\n",
       "trading_country                                                       GERMANY\n",
       "Name: 3, dtype: object"
      ]
     },
     "execution_count": 137,
     "metadata": {},
     "output_type": "execute_result"
    }
   ],
   "source": [
    "# selects series\n",
    "df.iloc[3]"
   ]
  },
  {
   "cell_type": "code",
   "execution_count": 135,
   "metadata": {},
   "outputs": [
    {
     "data": {
      "text/html": [
       "<div>\n",
       "<style scoped>\n",
       "    .dataframe tbody tr th:only-of-type {\n",
       "        vertical-align: middle;\n",
       "    }\n",
       "\n",
       "    .dataframe tbody tr th {\n",
       "        vertical-align: top;\n",
       "    }\n",
       "\n",
       "    .dataframe thead th {\n",
       "        text-align: right;\n",
       "    }\n",
       "</style>\n",
       "<table border=\"1\" class=\"dataframe\">\n",
       "  <thead>\n",
       "    <tr style=\"text-align: right;\">\n",
       "      <th></th>\n",
       "      <th>symbol</th>\n",
       "      <th>name</th>\n",
       "      <th>sector</th>\n",
       "      <th>price</th>\n",
       "      <th>price_chg</th>\n",
       "      <th>price__chg</th>\n",
       "      <th>vol_rate</th>\n",
       "      <th>avg_dly__vol_000</th>\n",
       "      <th>mkt_val_mil_usd</th>\n",
       "      <th>pe_ratio</th>\n",
       "      <th>company_description</th>\n",
       "      <th>industry_sector</th>\n",
       "      <th>industry_group</th>\n",
       "      <th>isin</th>\n",
       "      <th>major_industry</th>\n",
       "      <th>headquarters</th>\n",
       "      <th>exchange_primary_listing</th>\n",
       "      <th>exchange</th>\n",
       "      <th>trading_country</th>\n",
       "    </tr>\n",
       "  </thead>\n",
       "  <tbody>\n",
       "    <tr>\n",
       "      <th>3</th>\n",
       "      <td>XONA.DE</td>\n",
       "      <td>Exxon Mobil (Fra)</td>\n",
       "      <td>Energy</td>\n",
       "      <td>73.2</td>\n",
       "      <td>0.0</td>\n",
       "      <td>0.0</td>\n",
       "      <td>-100.0</td>\n",
       "      <td>322</td>\n",
       "      <td>435010</td>\n",
       "      <td>13.0</td>\n",
       "      <td>EXXON MOBIL CORPORATION IS A MANUFACTURER AND ...</td>\n",
       "      <td>ENERGY</td>\n",
       "      <td>Oil&amp;Gas-Integrated</td>\n",
       "      <td>US30231G1022</td>\n",
       "      <td>NaN</td>\n",
       "      <td>NaN</td>\n",
       "      <td>No (NYSE, XOM)</td>\n",
       "      <td>FRANKFURT</td>\n",
       "      <td>GERMANY</td>\n",
       "    </tr>\n",
       "  </tbody>\n",
       "</table>\n",
       "</div>"
      ],
      "text/plain": [
       "    symbol               name  sector  price  price_chg  price__chg  vol_rate  \\\n",
       "3  XONA.DE  Exxon Mobil (Fra)  Energy   73.2        0.0         0.0    -100.0   \n",
       "\n",
       "   avg_dly__vol_000  mkt_val_mil_usd  pe_ratio  \\\n",
       "3               322           435010      13.0   \n",
       "\n",
       "                                 company_description industry_sector  \\\n",
       "3  EXXON MOBIL CORPORATION IS A MANUFACTURER AND ...          ENERGY   \n",
       "\n",
       "       industry_group          isin major_industry headquarters  \\\n",
       "3  Oil&Gas-Integrated  US30231G1022            NaN          NaN   \n",
       "\n",
       "  exchange_primary_listing   exchange trading_country  \n",
       "3           No (NYSE, XOM)  FRANKFURT         GERMANY  "
      ]
     },
     "execution_count": 135,
     "metadata": {},
     "output_type": "execute_result"
    }
   ],
   "source": [
    "# select the single row dataframe\n",
    "df.loc[[3]]"
   ]
  },
  {
   "cell_type": "markdown",
   "metadata": {},
   "source": [
    "### select the last row of the data frame - input: integer - output: series"
   ]
  },
  {
   "cell_type": "code",
   "execution_count": 138,
   "metadata": {},
   "outputs": [
    {
     "data": {
      "text/plain": [
       "symbol                                                                DEUT.IT\n",
       "name                                                   Deutsche Telekom (Mil)\n",
       "sector                                                             Technology\n",
       "price                                                                    12.4\n",
       "price_chg                                                               -0.17\n",
       "price__chg                                                          -1.352426\n",
       "vol_rate                                                           -42.570255\n",
       "avg_dly__vol_000                                                          193\n",
       "mkt_val_mil_usd                                                         75071\n",
       "pe_ratio                                                                 23.0\n",
       "company_description         DEUTSCHE TELEKOM AG IS A GERMANY-BASED INTEGRA...\n",
       "industry_sector                                                       TELECOM\n",
       "industry_group                                        Telecom Svcs-Integrated\n",
       "isin                                                             DE0005557508\n",
       "major_industry                                        Telecommunication Equip\n",
       "headquarters                                                              NaN\n",
       "exchange_primary_listing                                  No (XETRA, DTEX.DE)\n",
       "exchange                                                                MILAN\n",
       "trading_country                                                         ITALY\n",
       "Name: 498, dtype: object"
      ]
     },
     "execution_count": 138,
     "metadata": {},
     "output_type": "execute_result"
    }
   ],
   "source": [
    "df.iloc[-1]"
   ]
  },
  {
   "cell_type": "code",
   "execution_count": 139,
   "metadata": {},
   "outputs": [
    {
     "data": {
      "text/html": [
       "<div>\n",
       "<style scoped>\n",
       "    .dataframe tbody tr th:only-of-type {\n",
       "        vertical-align: middle;\n",
       "    }\n",
       "\n",
       "    .dataframe tbody tr th {\n",
       "        vertical-align: top;\n",
       "    }\n",
       "\n",
       "    .dataframe thead th {\n",
       "        text-align: right;\n",
       "    }\n",
       "</style>\n",
       "<table border=\"1\" class=\"dataframe\">\n",
       "  <thead>\n",
       "    <tr style=\"text-align: right;\">\n",
       "      <th></th>\n",
       "      <th>symbol</th>\n",
       "      <th>name</th>\n",
       "      <th>sector</th>\n",
       "      <th>price</th>\n",
       "      <th>price_chg</th>\n",
       "      <th>price__chg</th>\n",
       "      <th>vol_rate</th>\n",
       "      <th>avg_dly__vol_000</th>\n",
       "      <th>mkt_val_mil_usd</th>\n",
       "      <th>pe_ratio</th>\n",
       "      <th>company_description</th>\n",
       "      <th>industry_sector</th>\n",
       "      <th>industry_group</th>\n",
       "      <th>isin</th>\n",
       "      <th>major_industry</th>\n",
       "      <th>headquarters</th>\n",
       "      <th>exchange_primary_listing</th>\n",
       "      <th>exchange</th>\n",
       "      <th>trading_country</th>\n",
       "    </tr>\n",
       "  </thead>\n",
       "  <tbody>\n",
       "    <tr>\n",
       "      <th>498</th>\n",
       "      <td>DEUT.IT</td>\n",
       "      <td>Deutsche Telekom (Mil)</td>\n",
       "      <td>Technology</td>\n",
       "      <td>12.4</td>\n",
       "      <td>-0.17</td>\n",
       "      <td>-1.352426</td>\n",
       "      <td>-42.570255</td>\n",
       "      <td>193</td>\n",
       "      <td>75071</td>\n",
       "      <td>23.0</td>\n",
       "      <td>DEUTSCHE TELEKOM AG IS A GERMANY-BASED INTEGRA...</td>\n",
       "      <td>TELECOM</td>\n",
       "      <td>Telecom Svcs-Integrated</td>\n",
       "      <td>DE0005557508</td>\n",
       "      <td>Telecommunication Equip</td>\n",
       "      <td>NaN</td>\n",
       "      <td>No (XETRA, DTEX.DE)</td>\n",
       "      <td>MILAN</td>\n",
       "      <td>ITALY</td>\n",
       "    </tr>\n",
       "  </tbody>\n",
       "</table>\n",
       "</div>"
      ],
      "text/plain": [
       "      symbol                    name      sector  price  price_chg  \\\n",
       "498  DEUT.IT  Deutsche Telekom (Mil)  Technology   12.4      -0.17   \n",
       "\n",
       "     price__chg   vol_rate  avg_dly__vol_000  mkt_val_mil_usd  pe_ratio  \\\n",
       "498   -1.352426 -42.570255               193            75071      23.0   \n",
       "\n",
       "                                   company_description industry_sector  \\\n",
       "498  DEUTSCHE TELEKOM AG IS A GERMANY-BASED INTEGRA...         TELECOM   \n",
       "\n",
       "              industry_group          isin           major_industry  \\\n",
       "498  Telecom Svcs-Integrated  DE0005557508  Telecommunication Equip   \n",
       "\n",
       "    headquarters exchange_primary_listing exchange trading_country  \n",
       "498          NaN      No (XETRA, DTEX.DE)    MILAN           ITALY  "
      ]
     },
     "execution_count": 139,
     "metadata": {},
     "output_type": "execute_result"
    }
   ],
   "source": [
    "# select the last row of the data frame - input: list - output: data frame\n",
    "df.iloc[[-1]]"
   ]
  },
  {
   "cell_type": "markdown",
   "metadata": {},
   "source": [
    "# Selecting multiple rows by position\n",
    "To extract multiple rows by position, we pass either a list or a slice object to the .iloc[] indexer.\n",
    "\n",
    "#### df.loc[row_labels, column_labels]\n",
    "\n",
    "#### df.iloc[row_positions, column_positions]\n"
   ]
  },
  {
   "cell_type": "markdown",
   "metadata": {},
   "source": [
    "By integer slices, acting similar to numpy/Python:"
   ]
  },
  {
   "cell_type": "code",
   "execution_count": 153,
   "metadata": {},
   "outputs": [
    {
     "data": {
      "text/html": [
       "<div>\n",
       "<style scoped>\n",
       "    .dataframe tbody tr th:only-of-type {\n",
       "        vertical-align: middle;\n",
       "    }\n",
       "\n",
       "    .dataframe tbody tr th {\n",
       "        vertical-align: top;\n",
       "    }\n",
       "\n",
       "    .dataframe thead th {\n",
       "        text-align: right;\n",
       "    }\n",
       "</style>\n",
       "<table border=\"1\" class=\"dataframe\">\n",
       "  <thead>\n",
       "    <tr style=\"text-align: right;\">\n",
       "      <th></th>\n",
       "      <th>symbol</th>\n",
       "      <th>name</th>\n",
       "      <th>sector</th>\n",
       "      <th>price</th>\n",
       "      <th>price_chg</th>\n",
       "      <th>price__chg</th>\n",
       "      <th>vol_rate</th>\n",
       "      <th>avg_dly__vol_000</th>\n",
       "      <th>mkt_val_mil_usd</th>\n",
       "      <th>pe_ratio</th>\n",
       "      <th>company_description</th>\n",
       "      <th>industry_sector</th>\n",
       "      <th>industry_group</th>\n",
       "      <th>isin</th>\n",
       "      <th>major_industry</th>\n",
       "      <th>headquarters</th>\n",
       "      <th>exchange_primary_listing</th>\n",
       "      <th>exchange</th>\n",
       "      <th>trading_country</th>\n",
       "    </tr>\n",
       "  </thead>\n",
       "  <tbody>\n",
       "    <tr>\n",
       "      <th>22</th>\n",
       "      <td>NSRGY</td>\n",
       "      <td>Nestle S A Adr Spon</td>\n",
       "      <td>Consumer Staple</td>\n",
       "      <td>74.78</td>\n",
       "      <td>1.250</td>\n",
       "      <td>1.699986</td>\n",
       "      <td>-11.522471</td>\n",
       "      <td>37140</td>\n",
       "      <td>272947</td>\n",
       "      <td>21.0</td>\n",
       "      <td>MANUFACTURES BEVERAGES, MILK PRODUCTS, ICE CRE...</td>\n",
       "      <td>FOOD/BEV</td>\n",
       "      <td>Food-Packaged</td>\n",
       "      <td>US6410694060</td>\n",
       "      <td>Food</td>\n",
       "      <td>SWITZERLAND</td>\n",
       "      <td>Yes</td>\n",
       "      <td>OTC</td>\n",
       "      <td>UNITED STATES</td>\n",
       "    </tr>\n",
       "    <tr>\n",
       "      <th>45</th>\n",
       "      <td>CVX</td>\n",
       "      <td>Chevron Corp</td>\n",
       "      <td>Energy</td>\n",
       "      <td>118.83</td>\n",
       "      <td>-0.350</td>\n",
       "      <td>-0.293673</td>\n",
       "      <td>-12.169090</td>\n",
       "      <td>681149</td>\n",
       "      <td>228530</td>\n",
       "      <td>10.0</td>\n",
       "      <td>ENGAGED IN EXPLORATION, PRODUCTION, REFINING A...</td>\n",
       "      <td>ENERGY</td>\n",
       "      <td>Oil&amp;Gas-Integrated</td>\n",
       "      <td>US1667641005</td>\n",
       "      <td>Oil&amp;Gas-Integrated</td>\n",
       "      <td>San Ramon, CA</td>\n",
       "      <td>Yes</td>\n",
       "      <td>NYSE</td>\n",
       "      <td>UNITED STATES</td>\n",
       "    </tr>\n",
       "    <tr>\n",
       "      <th>66</th>\n",
       "      <td>TYT.GB</td>\n",
       "      <td>Toyota Motor (Xsq)</td>\n",
       "      <td>Consumer Cyclical</td>\n",
       "      <td>6285.66</td>\n",
       "      <td>53.785</td>\n",
       "      <td>0.863062</td>\n",
       "      <td>-89.918662</td>\n",
       "      <td>1097351</td>\n",
       "      <td>207913</td>\n",
       "      <td>14.0</td>\n",
       "      <td>TOYOTA MOTOR CORPORATION IS A JAPAN-BASED COMP...</td>\n",
       "      <td>AUTO</td>\n",
       "      <td>Auto Manufacturers</td>\n",
       "      <td>JP3633400001</td>\n",
       "      <td>Automobile</td>\n",
       "      <td>Aichi</td>\n",
       "      <td>No (TOKYO, TYMO.JP)</td>\n",
       "      <td>SEAQ INTERNATION</td>\n",
       "      <td>UNITED KINGDOM</td>\n",
       "    </tr>\n",
       "    <tr>\n",
       "      <th>234</th>\n",
       "      <td>SCLX.DE</td>\n",
       "      <td>Schlumberger (Xet)</td>\n",
       "      <td>Energy</td>\n",
       "      <td>64.10</td>\n",
       "      <td>-0.850</td>\n",
       "      <td>-1.308699</td>\n",
       "      <td>-92.407809</td>\n",
       "      <td>30</td>\n",
       "      <td>114821</td>\n",
       "      <td>18.0</td>\n",
       "      <td>SCHLUMBERGER LIMITED (SCHLUMBERGER N.V.) IS TH...</td>\n",
       "      <td>ENERGY</td>\n",
       "      <td>Oil&amp;Gas-Field Services</td>\n",
       "      <td>AN8068571086</td>\n",
       "      <td>Oil&amp;Gas-Equipment &amp; Svc</td>\n",
       "      <td>NaN</td>\n",
       "      <td>No (NYSE, SLB)</td>\n",
       "      <td>XETRA</td>\n",
       "      <td>GERMANY</td>\n",
       "    </tr>\n",
       "  </tbody>\n",
       "</table>\n",
       "</div>"
      ],
      "text/plain": [
       "      symbol                 name             sector    price  price_chg  \\\n",
       "22     NSRGY  Nestle S A Adr Spon    Consumer Staple    74.78      1.250   \n",
       "45       CVX         Chevron Corp             Energy   118.83     -0.350   \n",
       "66    TYT.GB   Toyota Motor (Xsq)  Consumer Cyclical  6285.66     53.785   \n",
       "234  SCLX.DE   Schlumberger (Xet)             Energy    64.10     -0.850   \n",
       "\n",
       "     price__chg   vol_rate  avg_dly__vol_000  mkt_val_mil_usd  pe_ratio  \\\n",
       "22     1.699986 -11.522471             37140           272947      21.0   \n",
       "45    -0.293673 -12.169090            681149           228530      10.0   \n",
       "66     0.863062 -89.918662           1097351           207913      14.0   \n",
       "234   -1.308699 -92.407809                30           114821      18.0   \n",
       "\n",
       "                                   company_description industry_sector  \\\n",
       "22   MANUFACTURES BEVERAGES, MILK PRODUCTS, ICE CRE...        FOOD/BEV   \n",
       "45   ENGAGED IN EXPLORATION, PRODUCTION, REFINING A...          ENERGY   \n",
       "66   TOYOTA MOTOR CORPORATION IS A JAPAN-BASED COMP...            AUTO   \n",
       "234  SCHLUMBERGER LIMITED (SCHLUMBERGER N.V.) IS TH...          ENERGY   \n",
       "\n",
       "             industry_group          isin           major_industry  \\\n",
       "22            Food-Packaged  US6410694060                     Food   \n",
       "45       Oil&Gas-Integrated  US1667641005       Oil&Gas-Integrated   \n",
       "66       Auto Manufacturers  JP3633400001               Automobile   \n",
       "234  Oil&Gas-Field Services  AN8068571086  Oil&Gas-Equipment & Svc   \n",
       "\n",
       "      headquarters exchange_primary_listing          exchange trading_country  \n",
       "22     SWITZERLAND                      Yes               OTC   UNITED STATES  \n",
       "45   San Ramon, CA                      Yes              NYSE   UNITED STATES  \n",
       "66           Aichi      No (TOKYO, TYMO.JP)  SEAQ INTERNATION  UNITED KINGDOM  \n",
       "234            NaN           No (NYSE, SLB)             XETRA         GERMANY  "
      ]
     },
     "execution_count": 153,
     "metadata": {},
     "output_type": "execute_result"
    }
   ],
   "source": [
    "# Selecting rows and columns simultaneously\n",
    "rows_to_select = [22, 45, 66, 234]\n",
    "\n",
    "# using loc\n",
    "df.loc[rows_to_select]"
   ]
  },
  {
   "cell_type": "code",
   "execution_count": 154,
   "metadata": {},
   "outputs": [
    {
     "data": {
      "text/plain": [
       "22       NSRGY\n",
       "45         CVX\n",
       "66      TYT.GB\n",
       "234    SCLX.DE\n",
       "Name: symbol, dtype: object"
      ]
     },
     "execution_count": 154,
     "metadata": {},
     "output_type": "execute_result"
    }
   ],
   "source": [
    "# we can select \n",
    "df['symbol'].loc[rows_to_select]"
   ]
  },
  {
   "cell_type": "code",
   "execution_count": 155,
   "metadata": {},
   "outputs": [
    {
     "data": {
      "text/html": [
       "<div>\n",
       "<style scoped>\n",
       "    .dataframe tbody tr th:only-of-type {\n",
       "        vertical-align: middle;\n",
       "    }\n",
       "\n",
       "    .dataframe tbody tr th {\n",
       "        vertical-align: top;\n",
       "    }\n",
       "\n",
       "    .dataframe thead th {\n",
       "        text-align: right;\n",
       "    }\n",
       "</style>\n",
       "<table border=\"1\" class=\"dataframe\">\n",
       "  <thead>\n",
       "    <tr style=\"text-align: right;\">\n",
       "      <th></th>\n",
       "      <th>symbol</th>\n",
       "      <th>name</th>\n",
       "      <th>sector</th>\n",
       "      <th>price</th>\n",
       "      <th>price_chg</th>\n",
       "      <th>price__chg</th>\n",
       "      <th>vol_rate</th>\n",
       "      <th>avg_dly__vol_000</th>\n",
       "      <th>mkt_val_mil_usd</th>\n",
       "      <th>pe_ratio</th>\n",
       "      <th>company_description</th>\n",
       "      <th>industry_sector</th>\n",
       "      <th>industry_group</th>\n",
       "      <th>isin</th>\n",
       "      <th>major_industry</th>\n",
       "      <th>headquarters</th>\n",
       "      <th>exchange_primary_listing</th>\n",
       "      <th>exchange</th>\n",
       "      <th>trading_country</th>\n",
       "    </tr>\n",
       "  </thead>\n",
       "  <tbody>\n",
       "    <tr>\n",
       "      <th>22</th>\n",
       "      <td>NSRGY</td>\n",
       "      <td>Nestle S A Adr Spon</td>\n",
       "      <td>Consumer Staple</td>\n",
       "      <td>74.78</td>\n",
       "      <td>1.250</td>\n",
       "      <td>1.699986</td>\n",
       "      <td>-11.522471</td>\n",
       "      <td>37140</td>\n",
       "      <td>272947</td>\n",
       "      <td>21.0</td>\n",
       "      <td>MANUFACTURES BEVERAGES, MILK PRODUCTS, ICE CRE...</td>\n",
       "      <td>FOOD/BEV</td>\n",
       "      <td>Food-Packaged</td>\n",
       "      <td>US6410694060</td>\n",
       "      <td>Food</td>\n",
       "      <td>SWITZERLAND</td>\n",
       "      <td>Yes</td>\n",
       "      <td>OTC</td>\n",
       "      <td>UNITED STATES</td>\n",
       "    </tr>\n",
       "    <tr>\n",
       "      <th>45</th>\n",
       "      <td>CVX</td>\n",
       "      <td>Chevron Corp</td>\n",
       "      <td>Energy</td>\n",
       "      <td>118.83</td>\n",
       "      <td>-0.350</td>\n",
       "      <td>-0.293673</td>\n",
       "      <td>-12.169090</td>\n",
       "      <td>681149</td>\n",
       "      <td>228530</td>\n",
       "      <td>10.0</td>\n",
       "      <td>ENGAGED IN EXPLORATION, PRODUCTION, REFINING A...</td>\n",
       "      <td>ENERGY</td>\n",
       "      <td>Oil&amp;Gas-Integrated</td>\n",
       "      <td>US1667641005</td>\n",
       "      <td>Oil&amp;Gas-Integrated</td>\n",
       "      <td>San Ramon, CA</td>\n",
       "      <td>Yes</td>\n",
       "      <td>NYSE</td>\n",
       "      <td>UNITED STATES</td>\n",
       "    </tr>\n",
       "    <tr>\n",
       "      <th>66</th>\n",
       "      <td>TYT.GB</td>\n",
       "      <td>Toyota Motor (Xsq)</td>\n",
       "      <td>Consumer Cyclical</td>\n",
       "      <td>6285.66</td>\n",
       "      <td>53.785</td>\n",
       "      <td>0.863062</td>\n",
       "      <td>-89.918662</td>\n",
       "      <td>1097351</td>\n",
       "      <td>207913</td>\n",
       "      <td>14.0</td>\n",
       "      <td>TOYOTA MOTOR CORPORATION IS A JAPAN-BASED COMP...</td>\n",
       "      <td>AUTO</td>\n",
       "      <td>Auto Manufacturers</td>\n",
       "      <td>JP3633400001</td>\n",
       "      <td>Automobile</td>\n",
       "      <td>Aichi</td>\n",
       "      <td>No (TOKYO, TYMO.JP)</td>\n",
       "      <td>SEAQ INTERNATION</td>\n",
       "      <td>UNITED KINGDOM</td>\n",
       "    </tr>\n",
       "    <tr>\n",
       "      <th>234</th>\n",
       "      <td>SCLX.DE</td>\n",
       "      <td>Schlumberger (Xet)</td>\n",
       "      <td>Energy</td>\n",
       "      <td>64.10</td>\n",
       "      <td>-0.850</td>\n",
       "      <td>-1.308699</td>\n",
       "      <td>-92.407809</td>\n",
       "      <td>30</td>\n",
       "      <td>114821</td>\n",
       "      <td>18.0</td>\n",
       "      <td>SCHLUMBERGER LIMITED (SCHLUMBERGER N.V.) IS TH...</td>\n",
       "      <td>ENERGY</td>\n",
       "      <td>Oil&amp;Gas-Field Services</td>\n",
       "      <td>AN8068571086</td>\n",
       "      <td>Oil&amp;Gas-Equipment &amp; Svc</td>\n",
       "      <td>NaN</td>\n",
       "      <td>No (NYSE, SLB)</td>\n",
       "      <td>XETRA</td>\n",
       "      <td>GERMANY</td>\n",
       "    </tr>\n",
       "  </tbody>\n",
       "</table>\n",
       "</div>"
      ],
      "text/plain": [
       "      symbol                 name             sector    price  price_chg  \\\n",
       "22     NSRGY  Nestle S A Adr Spon    Consumer Staple    74.78      1.250   \n",
       "45       CVX         Chevron Corp             Energy   118.83     -0.350   \n",
       "66    TYT.GB   Toyota Motor (Xsq)  Consumer Cyclical  6285.66     53.785   \n",
       "234  SCLX.DE   Schlumberger (Xet)             Energy    64.10     -0.850   \n",
       "\n",
       "     price__chg   vol_rate  avg_dly__vol_000  mkt_val_mil_usd  pe_ratio  \\\n",
       "22     1.699986 -11.522471             37140           272947      21.0   \n",
       "45    -0.293673 -12.169090            681149           228530      10.0   \n",
       "66     0.863062 -89.918662           1097351           207913      14.0   \n",
       "234   -1.308699 -92.407809                30           114821      18.0   \n",
       "\n",
       "                                   company_description industry_sector  \\\n",
       "22   MANUFACTURES BEVERAGES, MILK PRODUCTS, ICE CRE...        FOOD/BEV   \n",
       "45   ENGAGED IN EXPLORATION, PRODUCTION, REFINING A...          ENERGY   \n",
       "66   TOYOTA MOTOR CORPORATION IS A JAPAN-BASED COMP...            AUTO   \n",
       "234  SCHLUMBERGER LIMITED (SCHLUMBERGER N.V.) IS TH...          ENERGY   \n",
       "\n",
       "             industry_group          isin           major_industry  \\\n",
       "22            Food-Packaged  US6410694060                     Food   \n",
       "45       Oil&Gas-Integrated  US1667641005       Oil&Gas-Integrated   \n",
       "66       Auto Manufacturers  JP3633400001               Automobile   \n",
       "234  Oil&Gas-Field Services  AN8068571086  Oil&Gas-Equipment & Svc   \n",
       "\n",
       "      headquarters exchange_primary_listing          exchange trading_country  \n",
       "22     SWITZERLAND                      Yes               OTC   UNITED STATES  \n",
       "45   San Ramon, CA                      Yes              NYSE   UNITED STATES  \n",
       "66           Aichi      No (TOKYO, TYMO.JP)  SEAQ INTERNATION  UNITED KINGDOM  \n",
       "234            NaN           No (NYSE, SLB)             XETRA         GERMANY  "
      ]
     },
     "execution_count": 155,
     "metadata": {},
     "output_type": "execute_result"
    }
   ],
   "source": [
    "# using iloc method\n",
    "df.iloc[rows_to_select]"
   ]
  },
  {
   "cell_type": "code",
   "execution_count": null,
   "metadata": {},
   "outputs": [],
   "source": [
    "# select the first five rows of the dataframe using slice notation\n",
    "df.iloc[0:5]"
   ]
  },
  {
   "cell_type": "code",
   "execution_count": null,
   "metadata": {},
   "outputs": [],
   "source": [
    "# Selecting a single row and multiple columns\n",
    "# select the name, surname, and salary of the employee with id number 478 by position\n",
    "df.iloc[1, [0, 1, 3]]\n",
    "\n",
    "# select the name, surname, and salary of the employee with id number 478 by label\n",
    "df.loc['478', ['name', 'surname', 'salary']]\n"
   ]
  },
  {
   "cell_type": "code",
   "execution_count": null,
   "metadata": {},
   "outputs": [],
   "source": []
  },
  {
   "cell_type": "code",
   "execution_count": null,
   "metadata": {},
   "outputs": [],
   "source": []
  },
  {
   "cell_type": "code",
   "execution_count": null,
   "metadata": {},
   "outputs": [],
   "source": []
  },
  {
   "cell_type": "markdown",
   "metadata": {},
   "source": [
    "### For getting a value (cell) explicitly:\n"
   ]
  },
  {
   "cell_type": "code",
   "execution_count": 140,
   "metadata": {},
   "outputs": [
    {
     "data": {
      "text/plain": [
       "'Apple Inc'"
      ]
     },
     "execution_count": 140,
     "metadata": {},
     "output_type": "execute_result"
    }
   ],
   "source": [
    "df.iloc[2, 1]"
   ]
  },
  {
   "cell_type": "markdown",
   "metadata": {},
   "source": [
    "For getting fast access to a scalar (equivalent to the prior method):"
   ]
  },
  {
   "cell_type": "code",
   "execution_count": 143,
   "metadata": {},
   "outputs": [
    {
     "data": {
      "text/plain": [
       "'Apple Inc'"
      ]
     },
     "execution_count": 143,
     "metadata": {},
     "output_type": "execute_result"
    }
   ],
   "source": [
    "df.iat[2, 1]"
   ]
  },
  {
   "cell_type": "markdown",
   "metadata": {},
   "source": []
  },
  {
   "cell_type": "code",
   "execution_count": null,
   "metadata": {},
   "outputs": [],
   "source": []
  },
  {
   "cell_type": "code",
   "execution_count": null,
   "metadata": {},
   "outputs": [],
   "source": []
  },
  {
   "cell_type": "code",
   "execution_count": null,
   "metadata": {},
   "outputs": [],
   "source": [
    "# For slicing rows explicitly:\n",
    "df.iloc[1:3, :]"
   ]
  },
  {
   "cell_type": "code",
   "execution_count": 95,
   "metadata": {},
   "outputs": [
    {
     "data": {
      "text/plain": [
       "22       NSRGY\n",
       "45         CVX\n",
       "66      TYT.GB\n",
       "234    SCLX.DE\n",
       "Name: symbol, dtype: object"
      ]
     },
     "execution_count": 95,
     "metadata": {},
     "output_type": "execute_result"
    }
   ],
   "source": []
  },
  {
   "cell_type": "code",
   "execution_count": 105,
   "metadata": {},
   "outputs": [
    {
     "data": {
      "text/plain": [
       "symbol                                                                   AAPL\n",
       "name                                                                Apple Inc\n",
       "sector                                                             Technology\n",
       "price                                                                  554.25\n",
       "price_chg                                                               -3.11\n",
       "price__chg                                                          -0.557987\n",
       "vol_rate                                                           -25.368715\n",
       "avg_dly__vol_000                                                      6099413\n",
       "mkt_val_mil_usd                                                        494697\n",
       "pe_ratio                                                                 14.0\n",
       "company_description         MANUFACTURES PERSONAL COMPUTERS, MOBILE COMMUN...\n",
       "industry_sector                                                      COMPUTER\n",
       "industry_group                                        Computer-Hardware/Perip\n",
       "isin                                                             US0378331005\n",
       "major_industry                                          Computer Data Storage\n",
       "headquarters                                                    Cupertino, CA\n",
       "exchange_primary_listing                                                  Yes\n",
       "exchange                                                               NASDAQ\n",
       "trading_country                                                 UNITED STATES\n",
       "Name: 2, dtype: object"
      ]
     },
     "execution_count": 105,
     "metadata": {},
     "output_type": "execute_result"
    }
   ],
   "source": [
    "# The .iloc[] indexer is used to index a data frame by position.\n",
    "df.iloc[2]"
   ]
  },
  {
   "cell_type": "code",
   "execution_count": 106,
   "metadata": {},
   "outputs": [
    {
     "data": {
      "text/html": [
       "<div>\n",
       "<style scoped>\n",
       "    .dataframe tbody tr th:only-of-type {\n",
       "        vertical-align: middle;\n",
       "    }\n",
       "\n",
       "    .dataframe tbody tr th {\n",
       "        vertical-align: top;\n",
       "    }\n",
       "\n",
       "    .dataframe thead th {\n",
       "        text-align: right;\n",
       "    }\n",
       "</style>\n",
       "<table border=\"1\" class=\"dataframe\">\n",
       "  <thead>\n",
       "    <tr style=\"text-align: right;\">\n",
       "      <th></th>\n",
       "      <th>symbol</th>\n",
       "      <th>name</th>\n",
       "      <th>sector</th>\n",
       "      <th>price</th>\n",
       "      <th>price_chg</th>\n",
       "      <th>price__chg</th>\n",
       "      <th>vol_rate</th>\n",
       "      <th>avg_dly__vol_000</th>\n",
       "      <th>mkt_val_mil_usd</th>\n",
       "      <th>pe_ratio</th>\n",
       "      <th>company_description</th>\n",
       "      <th>industry_sector</th>\n",
       "      <th>industry_group</th>\n",
       "      <th>isin</th>\n",
       "      <th>major_industry</th>\n",
       "      <th>headquarters</th>\n",
       "      <th>exchange_primary_listing</th>\n",
       "      <th>exchange</th>\n",
       "      <th>trading_country</th>\n",
       "    </tr>\n",
       "  </thead>\n",
       "  <tbody>\n",
       "    <tr>\n",
       "      <th>2</th>\n",
       "      <td>AAPL</td>\n",
       "      <td>Apple Inc</td>\n",
       "      <td>Technology</td>\n",
       "      <td>554.25</td>\n",
       "      <td>-3.11</td>\n",
       "      <td>-0.557987</td>\n",
       "      <td>-25.368715</td>\n",
       "      <td>6099413</td>\n",
       "      <td>494697</td>\n",
       "      <td>14.0</td>\n",
       "      <td>MANUFACTURES PERSONAL COMPUTERS, MOBILE COMMUN...</td>\n",
       "      <td>COMPUTER</td>\n",
       "      <td>Computer-Hardware/Perip</td>\n",
       "      <td>US0378331005</td>\n",
       "      <td>Computer Data Storage</td>\n",
       "      <td>Cupertino, CA</td>\n",
       "      <td>Yes</td>\n",
       "      <td>NASDAQ</td>\n",
       "      <td>UNITED STATES</td>\n",
       "    </tr>\n",
       "  </tbody>\n",
       "</table>\n",
       "</div>"
      ],
      "text/plain": [
       "  symbol       name      sector   price  price_chg  price__chg   vol_rate  \\\n",
       "2   AAPL  Apple Inc  Technology  554.25      -3.11   -0.557987 -25.368715   \n",
       "\n",
       "   avg_dly__vol_000  mkt_val_mil_usd  pe_ratio  \\\n",
       "2           6099413           494697      14.0   \n",
       "\n",
       "                                 company_description industry_sector  \\\n",
       "2  MANUFACTURES PERSONAL COMPUTERS, MOBILE COMMUN...        COMPUTER   \n",
       "\n",
       "            industry_group          isin         major_industry  \\\n",
       "2  Computer-Hardware/Perip  US0378331005  Computer Data Storage   \n",
       "\n",
       "    headquarters exchange_primary_listing exchange trading_country  \n",
       "2  Cupertino, CA                      Yes   NASDAQ   UNITED STATES  "
      ]
     },
     "execution_count": 106,
     "metadata": {},
     "output_type": "execute_result"
    }
   ],
   "source": [
    "# To extract multiple rows by position, we pass either a list or a slice object to the .iloc[] indexer.\n",
    "df.iloc[[2]]"
   ]
  },
  {
   "cell_type": "code",
   "execution_count": 107,
   "metadata": {},
   "outputs": [
    {
     "data": {
      "text/html": [
       "<div>\n",
       "<style scoped>\n",
       "    .dataframe tbody tr th:only-of-type {\n",
       "        vertical-align: middle;\n",
       "    }\n",
       "\n",
       "    .dataframe tbody tr th {\n",
       "        vertical-align: top;\n",
       "    }\n",
       "\n",
       "    .dataframe thead th {\n",
       "        text-align: right;\n",
       "    }\n",
       "</style>\n",
       "<table border=\"1\" class=\"dataframe\">\n",
       "  <thead>\n",
       "    <tr style=\"text-align: right;\">\n",
       "      <th></th>\n",
       "      <th>symbol</th>\n",
       "      <th>name</th>\n",
       "      <th>sector</th>\n",
       "      <th>price</th>\n",
       "      <th>price_chg</th>\n",
       "      <th>price__chg</th>\n",
       "      <th>vol_rate</th>\n",
       "      <th>avg_dly__vol_000</th>\n",
       "      <th>mkt_val_mil_usd</th>\n",
       "      <th>pe_ratio</th>\n",
       "      <th>company_description</th>\n",
       "      <th>industry_sector</th>\n",
       "      <th>industry_group</th>\n",
       "      <th>isin</th>\n",
       "      <th>major_industry</th>\n",
       "      <th>headquarters</th>\n",
       "      <th>exchange_primary_listing</th>\n",
       "      <th>exchange</th>\n",
       "      <th>trading_country</th>\n",
       "    </tr>\n",
       "  </thead>\n",
       "  <tbody>\n",
       "    <tr>\n",
       "      <th>22</th>\n",
       "      <td>NSRGY</td>\n",
       "      <td>Nestle S A Adr Spon</td>\n",
       "      <td>Consumer Staple</td>\n",
       "      <td>74.78</td>\n",
       "      <td>1.250</td>\n",
       "      <td>1.699986</td>\n",
       "      <td>-11.522471</td>\n",
       "      <td>37140</td>\n",
       "      <td>272947</td>\n",
       "      <td>21.0</td>\n",
       "      <td>MANUFACTURES BEVERAGES, MILK PRODUCTS, ICE CRE...</td>\n",
       "      <td>FOOD/BEV</td>\n",
       "      <td>Food-Packaged</td>\n",
       "      <td>US6410694060</td>\n",
       "      <td>Food</td>\n",
       "      <td>SWITZERLAND</td>\n",
       "      <td>Yes</td>\n",
       "      <td>OTC</td>\n",
       "      <td>UNITED STATES</td>\n",
       "    </tr>\n",
       "    <tr>\n",
       "      <th>45</th>\n",
       "      <td>CVX</td>\n",
       "      <td>Chevron Corp</td>\n",
       "      <td>Energy</td>\n",
       "      <td>118.83</td>\n",
       "      <td>-0.350</td>\n",
       "      <td>-0.293673</td>\n",
       "      <td>-12.169090</td>\n",
       "      <td>681149</td>\n",
       "      <td>228530</td>\n",
       "      <td>10.0</td>\n",
       "      <td>ENGAGED IN EXPLORATION, PRODUCTION, REFINING A...</td>\n",
       "      <td>ENERGY</td>\n",
       "      <td>Oil&amp;Gas-Integrated</td>\n",
       "      <td>US1667641005</td>\n",
       "      <td>Oil&amp;Gas-Integrated</td>\n",
       "      <td>San Ramon, CA</td>\n",
       "      <td>Yes</td>\n",
       "      <td>NYSE</td>\n",
       "      <td>UNITED STATES</td>\n",
       "    </tr>\n",
       "    <tr>\n",
       "      <th>66</th>\n",
       "      <td>TYT.GB</td>\n",
       "      <td>Toyota Motor (Xsq)</td>\n",
       "      <td>Consumer Cyclical</td>\n",
       "      <td>6285.66</td>\n",
       "      <td>53.785</td>\n",
       "      <td>0.863062</td>\n",
       "      <td>-89.918662</td>\n",
       "      <td>1097351</td>\n",
       "      <td>207913</td>\n",
       "      <td>14.0</td>\n",
       "      <td>TOYOTA MOTOR CORPORATION IS A JAPAN-BASED COMP...</td>\n",
       "      <td>AUTO</td>\n",
       "      <td>Auto Manufacturers</td>\n",
       "      <td>JP3633400001</td>\n",
       "      <td>Automobile</td>\n",
       "      <td>Aichi</td>\n",
       "      <td>No (TOKYO, TYMO.JP)</td>\n",
       "      <td>SEAQ INTERNATION</td>\n",
       "      <td>UNITED KINGDOM</td>\n",
       "    </tr>\n",
       "    <tr>\n",
       "      <th>234</th>\n",
       "      <td>SCLX.DE</td>\n",
       "      <td>Schlumberger (Xet)</td>\n",
       "      <td>Energy</td>\n",
       "      <td>64.10</td>\n",
       "      <td>-0.850</td>\n",
       "      <td>-1.308699</td>\n",
       "      <td>-92.407809</td>\n",
       "      <td>30</td>\n",
       "      <td>114821</td>\n",
       "      <td>18.0</td>\n",
       "      <td>SCHLUMBERGER LIMITED (SCHLUMBERGER N.V.) IS TH...</td>\n",
       "      <td>ENERGY</td>\n",
       "      <td>Oil&amp;Gas-Field Services</td>\n",
       "      <td>AN8068571086</td>\n",
       "      <td>Oil&amp;Gas-Equipment &amp; Svc</td>\n",
       "      <td>NaN</td>\n",
       "      <td>No (NYSE, SLB)</td>\n",
       "      <td>XETRA</td>\n",
       "      <td>GERMANY</td>\n",
       "    </tr>\n",
       "  </tbody>\n",
       "</table>\n",
       "</div>"
      ],
      "text/plain": [
       "      symbol                 name             sector    price  price_chg  \\\n",
       "22     NSRGY  Nestle S A Adr Spon    Consumer Staple    74.78      1.250   \n",
       "45       CVX         Chevron Corp             Energy   118.83     -0.350   \n",
       "66    TYT.GB   Toyota Motor (Xsq)  Consumer Cyclical  6285.66     53.785   \n",
       "234  SCLX.DE   Schlumberger (Xet)             Energy    64.10     -0.850   \n",
       "\n",
       "     price__chg   vol_rate  avg_dly__vol_000  mkt_val_mil_usd  pe_ratio  \\\n",
       "22     1.699986 -11.522471             37140           272947      21.0   \n",
       "45    -0.293673 -12.169090            681149           228530      10.0   \n",
       "66     0.863062 -89.918662           1097351           207913      14.0   \n",
       "234   -1.308699 -92.407809                30           114821      18.0   \n",
       "\n",
       "                                   company_description industry_sector  \\\n",
       "22   MANUFACTURES BEVERAGES, MILK PRODUCTS, ICE CRE...        FOOD/BEV   \n",
       "45   ENGAGED IN EXPLORATION, PRODUCTION, REFINING A...          ENERGY   \n",
       "66   TOYOTA MOTOR CORPORATION IS A JAPAN-BASED COMP...            AUTO   \n",
       "234  SCHLUMBERGER LIMITED (SCHLUMBERGER N.V.) IS TH...          ENERGY   \n",
       "\n",
       "             industry_group          isin           major_industry  \\\n",
       "22            Food-Packaged  US6410694060                     Food   \n",
       "45       Oil&Gas-Integrated  US1667641005       Oil&Gas-Integrated   \n",
       "66       Auto Manufacturers  JP3633400001               Automobile   \n",
       "234  Oil&Gas-Field Services  AN8068571086  Oil&Gas-Equipment & Svc   \n",
       "\n",
       "      headquarters exchange_primary_listing          exchange trading_country  \n",
       "22     SWITZERLAND                      Yes               OTC   UNITED STATES  \n",
       "45   San Ramon, CA                      Yes              NYSE   UNITED STATES  \n",
       "66           Aichi      No (TOKYO, TYMO.JP)  SEAQ INTERNATION  UNITED KINGDOM  \n",
       "234            NaN           No (NYSE, SLB)             XETRA         GERMANY  "
      ]
     },
     "execution_count": 107,
     "metadata": {},
     "output_type": "execute_result"
    }
   ],
   "source": [
    "df.iloc[rows_to_select]"
   ]
  },
  {
   "cell_type": "code",
   "execution_count": 99,
   "metadata": {},
   "outputs": [
    {
     "data": {
      "text/plain": [
       "\"APPLE INC. (APPLE) DESIGNS, MANUFACTURES AND MARKETS MOBILE COMMUNICATION AND MEDIA DEVICES, PERSONAL COMPUTERS, AND PORTABLE DIGITAL MUSIC PLAYERS, AND SELLS A VARIETY OF RELATED SOFTWARE, SERVICES, PERIPHERALS, NETWORKING SOLUTIONS, AND THIRD-PARTY DIGITAL CONTENT AND APPLICATIONS. THE COMPANY'S PRODUCTS AND SERVICES INCLUDE IPHONE, IPAD, MAC, IPOD, APPLE TV, A PORTFOLIO OF CONSUMER AND PROFESSIONAL SOFTWARE APPLICATIONS, THE IOS AND OS X OPERATING SYSTEMS, ICLOUD, AND A VARIETY OF ACCESSORY, SERVICE AND SUPPORT OFFERINGS. IN MARCH 2013, THE COMPANY ACQUIRED A SILICON VALLEY STARTUP, WIFISLAM, WHICH MAKES MAPPING APPLICATIONS FOR SMART PHONES. EFFECTIVE JULY 19, 2013, APPLE ACQUIRED LOCATIONARY INC. EFFECTIVE JULY 20, 2013, APPLE ACQUIRED HOPSTOP.COM INC. EFFECTIVE AUGUST 28, 2013, APPLE ACQUIRED ALGOTRIM AB, A MALMO-BASED DEVELOPER OF PREPACKAGED SOFTWARE. IN NOVEMBER 2013, APPLE BOUGHT PRIMESE\""
      ]
     },
     "execution_count": 99,
     "metadata": {},
     "output_type": "execute_result"
    }
   ],
   "source": [
    "# Getting a single value\n",
    "df.loc[1,'company_description']"
   ]
  },
  {
   "cell_type": "code",
   "execution_count": null,
   "metadata": {},
   "outputs": [],
   "source": [
    "See more at Selection by Label.\n",
    "\n",
    "* df.iloc is primarily integer position based (from 0 to length-1 of the axis), but may also be used with a boolean array. .iloc will raise IndexError if a requested indexer is out-of-bounds, except slice indexers which allow out-of-bounds indexing. (this conforms with Python/NumPy slice semantics). Allowed inputs are:\n",
    "\n",
    "    * An integer e.g. 5.\n",
    "\n",
    "    * A list or array of integers [4, 3, 0].\n",
    "\n",
    "    * A slice object with ints 1:7.\n",
    "\n",
    "    * A boolean array (any NA values will be treated as False).\n",
    "\n",
    "    * A callable function with one argument (the calling Series or DataFrame) and that returns valid output for indexing (one of the above)."
   ]
  },
  {
   "cell_type": "code",
   "execution_count": null,
   "metadata": {},
   "outputs": [],
   "source": []
  },
  {
   "cell_type": "markdown",
   "metadata": {},
   "source": [
    "It is also possible to select by position using the *iloc* method"
   ]
  },
  {
   "cell_type": "markdown",
   "metadata": {},
   "source": [
    "## Describe data quick statistical summary"
   ]
  },
  {
   "cell_type": "code",
   "execution_count": null,
   "metadata": {
    "collapsed": false,
    "jupyter": {
     "outputs_hidden": false
    },
    "pycharm": {
     "name": "#%%\n"
    }
   },
   "outputs": [],
   "source": [
    "df.describe()"
   ]
  },
  {
   "cell_type": "markdown",
   "metadata": {},
   "source": [
    "## Transpose your data"
   ]
  },
  {
   "cell_type": "code",
   "execution_count": null,
   "metadata": {
    "collapsed": false,
    "jupyter": {
     "outputs_hidden": false
    },
    "pycharm": {
     "name": "#%%\n"
    }
   },
   "outputs": [],
   "source": [
    "df.T"
   ]
  },
  {
   "cell_type": "markdown",
   "metadata": {},
   "source": [
    "## Answering simple questions about a dataset"
   ]
  },
  {
   "cell_type": "markdown",
   "metadata": {},
   "source": [
    "### How many companies are there by Sector?"
   ]
  },
  {
   "cell_type": "code",
   "execution_count": 74,
   "metadata": {},
   "outputs": [
    {
     "data": {
      "text/plain": [
       "Financial            116\n",
       "Technology            89\n",
       "Energy                75\n",
       "Health Care           63\n",
       "Consumer Staple       52\n",
       "Capital Equipment     32\n",
       "Consumer Cyclical     28\n",
       "Retail                21\n",
       "Basic Material        20\n",
       "Transportation         3\n",
       "Name: sector, dtype: int64"
      ]
     },
     "execution_count": 74,
     "metadata": {},
     "output_type": "execute_result"
    }
   ],
   "source": [
    "df['sector'].value_counts()"
   ]
  },
  {
   "cell_type": "markdown",
   "metadata": {},
   "source": [
    "### What is the average Market Capitalization?"
   ]
  },
  {
   "cell_type": "code",
   "execution_count": 75,
   "metadata": {},
   "outputs": [
    {
     "data": {
      "text/plain": [
       "137938.5651302605"
      ]
     },
     "execution_count": 75,
     "metadata": {},
     "output_type": "execute_result"
    }
   ],
   "source": [
    "df['mkt_val_mil_usd'].mean()"
   ]
  },
  {
   "cell_type": "markdown",
   "metadata": {},
   "source": [
    "### What is the most frequent sector?"
   ]
  },
  {
   "cell_type": "code",
   "execution_count": 76,
   "metadata": {},
   "outputs": [
    {
     "data": {
      "text/plain": [
       "count           499\n",
       "unique           10\n",
       "top       Financial\n",
       "freq            116\n",
       "Name: sector, dtype: object"
      ]
     },
     "execution_count": 76,
     "metadata": {},
     "output_type": "execute_result"
    }
   ],
   "source": [
    "df['sector'].describe()"
   ]
  },
  {
   "cell_type": "markdown",
   "metadata": {},
   "source": [
    "## Who are the 5 largest companies?"
   ]
  },
  {
   "cell_type": "code",
   "execution_count": 77,
   "metadata": {},
   "outputs": [
    {
     "data": {
      "text/html": [
       "<div>\n",
       "<style scoped>\n",
       "    .dataframe tbody tr th:only-of-type {\n",
       "        vertical-align: middle;\n",
       "    }\n",
       "\n",
       "    .dataframe tbody tr th {\n",
       "        vertical-align: top;\n",
       "    }\n",
       "\n",
       "    .dataframe thead th {\n",
       "        text-align: right;\n",
       "    }\n",
       "</style>\n",
       "<table border=\"1\" class=\"dataframe\">\n",
       "  <thead>\n",
       "    <tr style=\"text-align: right;\">\n",
       "      <th></th>\n",
       "      <th>Unnamed: 0</th>\n",
       "      <th>symbol</th>\n",
       "      <th>name</th>\n",
       "      <th>sector</th>\n",
       "      <th>price</th>\n",
       "      <th>price_chg</th>\n",
       "      <th>price__chg</th>\n",
       "      <th>vol_rate</th>\n",
       "      <th>avg_dly__vol_000</th>\n",
       "      <th>mkt_val_mil_usd</th>\n",
       "      <th>pe_ratio</th>\n",
       "      <th>company_description</th>\n",
       "      <th>industry_sector</th>\n",
       "      <th>industry_group</th>\n",
       "      <th>isin</th>\n",
       "      <th>major_industry</th>\n",
       "      <th>headquarters</th>\n",
       "      <th>exchange_primary_listing</th>\n",
       "      <th>exchange</th>\n",
       "      <th>trading_country</th>\n",
       "    </tr>\n",
       "  </thead>\n",
       "  <tbody>\n",
       "    <tr>\n",
       "      <th>0</th>\n",
       "      <td>0</td>\n",
       "      <td>APC.DE</td>\n",
       "      <td>Apple (Fra)</td>\n",
       "      <td>Technology</td>\n",
       "      <td>410.00</td>\n",
       "      <td>0.00</td>\n",
       "      <td>0.000000</td>\n",
       "      <td>-100.000000</td>\n",
       "      <td>1765</td>\n",
       "      <td>497751</td>\n",
       "      <td>14.0</td>\n",
       "      <td>APPLE INC. (APPLE) DESIGNS, MANUFACTURES AND M...</td>\n",
       "      <td>COMPUTER</td>\n",
       "      <td>Computer-Hardware/Perip</td>\n",
       "      <td>US0378331005</td>\n",
       "      <td>NaN</td>\n",
       "      <td>NaN</td>\n",
       "      <td>No (NASDAQ, AAPL)</td>\n",
       "      <td>FRANKFURT</td>\n",
       "      <td>GERMANY</td>\n",
       "    </tr>\n",
       "    <tr>\n",
       "      <th>1</th>\n",
       "      <td>1</td>\n",
       "      <td>APCX.DE</td>\n",
       "      <td>Apple (Xet)</td>\n",
       "      <td>Technology</td>\n",
       "      <td>408.50</td>\n",
       "      <td>-2.00</td>\n",
       "      <td>-0.487211</td>\n",
       "      <td>-38.011541</td>\n",
       "      <td>6159</td>\n",
       "      <td>495930</td>\n",
       "      <td>14.0</td>\n",
       "      <td>APPLE INC. (APPLE) DESIGNS, MANUFACTURES AND M...</td>\n",
       "      <td>COMPUTER</td>\n",
       "      <td>Computer-Hardware/Perip</td>\n",
       "      <td>US0378331005</td>\n",
       "      <td>NaN</td>\n",
       "      <td>NaN</td>\n",
       "      <td>No (NASDAQ, AAPL)</td>\n",
       "      <td>XETRA</td>\n",
       "      <td>GERMANY</td>\n",
       "    </tr>\n",
       "    <tr>\n",
       "      <th>2</th>\n",
       "      <td>2</td>\n",
       "      <td>AAPL</td>\n",
       "      <td>Apple Inc</td>\n",
       "      <td>Technology</td>\n",
       "      <td>554.25</td>\n",
       "      <td>-3.11</td>\n",
       "      <td>-0.557987</td>\n",
       "      <td>-25.368715</td>\n",
       "      <td>6099413</td>\n",
       "      <td>494697</td>\n",
       "      <td>14.0</td>\n",
       "      <td>MANUFACTURES PERSONAL COMPUTERS, MOBILE COMMUN...</td>\n",
       "      <td>COMPUTER</td>\n",
       "      <td>Computer-Hardware/Perip</td>\n",
       "      <td>US0378331005</td>\n",
       "      <td>Computer Data Storage</td>\n",
       "      <td>Cupertino, CA</td>\n",
       "      <td>Yes</td>\n",
       "      <td>NASDAQ</td>\n",
       "      <td>UNITED STATES</td>\n",
       "    </tr>\n",
       "    <tr>\n",
       "      <th>3</th>\n",
       "      <td>3</td>\n",
       "      <td>XONA.DE</td>\n",
       "      <td>Exxon Mobil (Fra)</td>\n",
       "      <td>Energy</td>\n",
       "      <td>73.20</td>\n",
       "      <td>0.00</td>\n",
       "      <td>0.000000</td>\n",
       "      <td>-100.000000</td>\n",
       "      <td>322</td>\n",
       "      <td>435010</td>\n",
       "      <td>13.0</td>\n",
       "      <td>EXXON MOBIL CORPORATION IS A MANUFACTURER AND ...</td>\n",
       "      <td>ENERGY</td>\n",
       "      <td>Oil&amp;Gas-Integrated</td>\n",
       "      <td>US30231G1022</td>\n",
       "      <td>NaN</td>\n",
       "      <td>NaN</td>\n",
       "      <td>No (NYSE, XOM)</td>\n",
       "      <td>FRANKFURT</td>\n",
       "      <td>GERMANY</td>\n",
       "    </tr>\n",
       "    <tr>\n",
       "      <th>4</th>\n",
       "      <td>4</td>\n",
       "      <td>WBK</td>\n",
       "      <td>Westpac Banking Corp Adr</td>\n",
       "      <td>Financial</td>\n",
       "      <td>27.99</td>\n",
       "      <td>-0.37</td>\n",
       "      <td>-1.304654</td>\n",
       "      <td>-8.477119</td>\n",
       "      <td>3780</td>\n",
       "      <td>432467</td>\n",
       "      <td>14.0</td>\n",
       "      <td>AUSTRALIAN BANK PROVIDING BANKING/RELATED FINA...</td>\n",
       "      <td>BANKS</td>\n",
       "      <td>Banks-Foreign</td>\n",
       "      <td>US9612143019</td>\n",
       "      <td>Bank-Money Center</td>\n",
       "      <td>AUSTRALIA</td>\n",
       "      <td>Yes</td>\n",
       "      <td>NYSE</td>\n",
       "      <td>UNITED STATES</td>\n",
       "    </tr>\n",
       "  </tbody>\n",
       "</table>\n",
       "</div>"
      ],
      "text/plain": [
       "   Unnamed: 0   symbol                      name      sector   price  \\\n",
       "0           0   APC.DE               Apple (Fra)  Technology  410.00   \n",
       "1           1  APCX.DE               Apple (Xet)  Technology  408.50   \n",
       "2           2     AAPL                 Apple Inc  Technology  554.25   \n",
       "3           3  XONA.DE         Exxon Mobil (Fra)      Energy   73.20   \n",
       "4           4      WBK  Westpac Banking Corp Adr   Financial   27.99   \n",
       "\n",
       "   price_chg  price__chg    vol_rate  avg_dly__vol_000  mkt_val_mil_usd  \\\n",
       "0       0.00    0.000000 -100.000000              1765           497751   \n",
       "1      -2.00   -0.487211  -38.011541              6159           495930   \n",
       "2      -3.11   -0.557987  -25.368715           6099413           494697   \n",
       "3       0.00    0.000000 -100.000000               322           435010   \n",
       "4      -0.37   -1.304654   -8.477119              3780           432467   \n",
       "\n",
       "   pe_ratio                                company_description  \\\n",
       "0      14.0  APPLE INC. (APPLE) DESIGNS, MANUFACTURES AND M...   \n",
       "1      14.0  APPLE INC. (APPLE) DESIGNS, MANUFACTURES AND M...   \n",
       "2      14.0  MANUFACTURES PERSONAL COMPUTERS, MOBILE COMMUN...   \n",
       "3      13.0  EXXON MOBIL CORPORATION IS A MANUFACTURER AND ...   \n",
       "4      14.0  AUSTRALIAN BANK PROVIDING BANKING/RELATED FINA...   \n",
       "\n",
       "  industry_sector           industry_group          isin  \\\n",
       "0        COMPUTER  Computer-Hardware/Perip  US0378331005   \n",
       "1        COMPUTER  Computer-Hardware/Perip  US0378331005   \n",
       "2        COMPUTER  Computer-Hardware/Perip  US0378331005   \n",
       "3          ENERGY       Oil&Gas-Integrated  US30231G1022   \n",
       "4           BANKS            Banks-Foreign  US9612143019   \n",
       "\n",
       "          major_industry   headquarters exchange_primary_listing   exchange  \\\n",
       "0                    NaN            NaN        No (NASDAQ, AAPL)  FRANKFURT   \n",
       "1                    NaN            NaN        No (NASDAQ, AAPL)      XETRA   \n",
       "2  Computer Data Storage  Cupertino, CA                      Yes     NASDAQ   \n",
       "3                    NaN            NaN           No (NYSE, XOM)  FRANKFURT   \n",
       "4      Bank-Money Center      AUSTRALIA                      Yes       NYSE   \n",
       "\n",
       "  trading_country  \n",
       "0         GERMANY  \n",
       "1         GERMANY  \n",
       "2   UNITED STATES  \n",
       "3         GERMANY  \n",
       "4   UNITED STATES  "
      ]
     },
     "execution_count": 77,
     "metadata": {},
     "output_type": "execute_result"
    }
   ],
   "source": [
    "df.sort_values('mkt_val_mil_usd', ascending=False)[:5]"
   ]
  },
  {
   "cell_type": "markdown",
   "metadata": {},
   "source": [
    "# Boolean Indexing\n",
    "Boolean indexing\n",
    "Another common operation is the use of boolean vectors to filter the data. The operators are: | for or, & for and, and ~ for not.\n",
    "These must be grouped by using parentheses, since by default Python will evaluate an expression such as df['A'] > 2 & df['B'] < 3 as df['A'] > (2 & df['B']) < 3, while the desired evaluation order is (df['A'] > 2) & (df['B'] < 3)."
   ]
  },
  {
   "cell_type": "code",
   "execution_count": 83,
   "metadata": {},
   "outputs": [
    {
     "data": {
      "text/html": [
       "<div>\n",
       "<style scoped>\n",
       "    .dataframe tbody tr th:only-of-type {\n",
       "        vertical-align: middle;\n",
       "    }\n",
       "\n",
       "    .dataframe tbody tr th {\n",
       "        vertical-align: top;\n",
       "    }\n",
       "\n",
       "    .dataframe thead th {\n",
       "        text-align: right;\n",
       "    }\n",
       "</style>\n",
       "<table border=\"1\" class=\"dataframe\">\n",
       "  <thead>\n",
       "    <tr style=\"text-align: right;\">\n",
       "      <th></th>\n",
       "      <th>Unnamed: 0</th>\n",
       "      <th>symbol</th>\n",
       "      <th>name</th>\n",
       "      <th>sector</th>\n",
       "      <th>price</th>\n",
       "      <th>price_chg</th>\n",
       "      <th>price__chg</th>\n",
       "      <th>vol_rate</th>\n",
       "      <th>avg_dly__vol_000</th>\n",
       "      <th>mkt_val_mil_usd</th>\n",
       "      <th>pe_ratio</th>\n",
       "      <th>company_description</th>\n",
       "      <th>industry_sector</th>\n",
       "      <th>industry_group</th>\n",
       "      <th>isin</th>\n",
       "      <th>major_industry</th>\n",
       "      <th>headquarters</th>\n",
       "      <th>exchange_primary_listing</th>\n",
       "      <th>exchange</th>\n",
       "      <th>trading_country</th>\n",
       "    </tr>\n",
       "  </thead>\n",
       "  <tbody>\n",
       "    <tr>\n",
       "      <th>0</th>\n",
       "      <td>0</td>\n",
       "      <td>APC.DE</td>\n",
       "      <td>Apple (Fra)</td>\n",
       "      <td>Technology</td>\n",
       "      <td>410.00</td>\n",
       "      <td>0.00</td>\n",
       "      <td>0.000000</td>\n",
       "      <td>-100.000000</td>\n",
       "      <td>1765</td>\n",
       "      <td>497751</td>\n",
       "      <td>14.0</td>\n",
       "      <td>APPLE INC. (APPLE) DESIGNS, MANUFACTURES AND M...</td>\n",
       "      <td>COMPUTER</td>\n",
       "      <td>Computer-Hardware/Perip</td>\n",
       "      <td>US0378331005</td>\n",
       "      <td>NaN</td>\n",
       "      <td>NaN</td>\n",
       "      <td>No (NASDAQ, AAPL)</td>\n",
       "      <td>FRANKFURT</td>\n",
       "      <td>GERMANY</td>\n",
       "    </tr>\n",
       "    <tr>\n",
       "      <th>1</th>\n",
       "      <td>1</td>\n",
       "      <td>APCX.DE</td>\n",
       "      <td>Apple (Xet)</td>\n",
       "      <td>Technology</td>\n",
       "      <td>408.50</td>\n",
       "      <td>-2.00</td>\n",
       "      <td>-0.487211</td>\n",
       "      <td>-38.011541</td>\n",
       "      <td>6159</td>\n",
       "      <td>495930</td>\n",
       "      <td>14.0</td>\n",
       "      <td>APPLE INC. (APPLE) DESIGNS, MANUFACTURES AND M...</td>\n",
       "      <td>COMPUTER</td>\n",
       "      <td>Computer-Hardware/Perip</td>\n",
       "      <td>US0378331005</td>\n",
       "      <td>NaN</td>\n",
       "      <td>NaN</td>\n",
       "      <td>No (NASDAQ, AAPL)</td>\n",
       "      <td>XETRA</td>\n",
       "      <td>GERMANY</td>\n",
       "    </tr>\n",
       "    <tr>\n",
       "      <th>2</th>\n",
       "      <td>2</td>\n",
       "      <td>AAPL</td>\n",
       "      <td>Apple Inc</td>\n",
       "      <td>Technology</td>\n",
       "      <td>554.25</td>\n",
       "      <td>-3.11</td>\n",
       "      <td>-0.557987</td>\n",
       "      <td>-25.368715</td>\n",
       "      <td>6099413</td>\n",
       "      <td>494697</td>\n",
       "      <td>14.0</td>\n",
       "      <td>MANUFACTURES PERSONAL COMPUTERS, MOBILE COMMUN...</td>\n",
       "      <td>COMPUTER</td>\n",
       "      <td>Computer-Hardware/Perip</td>\n",
       "      <td>US0378331005</td>\n",
       "      <td>Computer Data Storage</td>\n",
       "      <td>Cupertino, CA</td>\n",
       "      <td>Yes</td>\n",
       "      <td>NASDAQ</td>\n",
       "      <td>UNITED STATES</td>\n",
       "    </tr>\n",
       "    <tr>\n",
       "      <th>3</th>\n",
       "      <td>3</td>\n",
       "      <td>XONA.DE</td>\n",
       "      <td>Exxon Mobil (Fra)</td>\n",
       "      <td>Energy</td>\n",
       "      <td>73.20</td>\n",
       "      <td>0.00</td>\n",
       "      <td>0.000000</td>\n",
       "      <td>-100.000000</td>\n",
       "      <td>322</td>\n",
       "      <td>435010</td>\n",
       "      <td>13.0</td>\n",
       "      <td>EXXON MOBIL CORPORATION IS A MANUFACTURER AND ...</td>\n",
       "      <td>ENERGY</td>\n",
       "      <td>Oil&amp;Gas-Integrated</td>\n",
       "      <td>US30231G1022</td>\n",
       "      <td>NaN</td>\n",
       "      <td>NaN</td>\n",
       "      <td>No (NYSE, XOM)</td>\n",
       "      <td>FRANKFURT</td>\n",
       "      <td>GERMANY</td>\n",
       "    </tr>\n",
       "    <tr>\n",
       "      <th>4</th>\n",
       "      <td>4</td>\n",
       "      <td>WBK</td>\n",
       "      <td>Westpac Banking Corp Adr</td>\n",
       "      <td>Financial</td>\n",
       "      <td>27.99</td>\n",
       "      <td>-0.37</td>\n",
       "      <td>-1.304654</td>\n",
       "      <td>-8.477119</td>\n",
       "      <td>3780</td>\n",
       "      <td>432467</td>\n",
       "      <td>14.0</td>\n",
       "      <td>AUSTRALIAN BANK PROVIDING BANKING/RELATED FINA...</td>\n",
       "      <td>BANKS</td>\n",
       "      <td>Banks-Foreign</td>\n",
       "      <td>US9612143019</td>\n",
       "      <td>Bank-Money Center</td>\n",
       "      <td>AUSTRALIA</td>\n",
       "      <td>Yes</td>\n",
       "      <td>NYSE</td>\n",
       "      <td>UNITED STATES</td>\n",
       "    </tr>\n",
       "    <tr>\n",
       "      <th>5</th>\n",
       "      <td>5</td>\n",
       "      <td>XOM</td>\n",
       "      <td>Exxon Mobil Corp</td>\n",
       "      <td>Energy</td>\n",
       "      <td>98.94</td>\n",
       "      <td>0.16</td>\n",
       "      <td>0.161976</td>\n",
       "      <td>-22.553492</td>\n",
       "      <td>1201688</td>\n",
       "      <td>432220</td>\n",
       "      <td>13.0</td>\n",
       "      <td>ENGAGED IN THE EXPLORATION, PRODUCTION, TRANSP...</td>\n",
       "      <td>ENERGY</td>\n",
       "      <td>Oil&amp;Gas-Integrated</td>\n",
       "      <td>US30231G1022</td>\n",
       "      <td>Oil&amp;Gas-Integrated</td>\n",
       "      <td>Irving, TX</td>\n",
       "      <td>Yes</td>\n",
       "      <td>NYSE</td>\n",
       "      <td>UNITED STATES</td>\n",
       "    </tr>\n",
       "    <tr>\n",
       "      <th>6</th>\n",
       "      <td>6</td>\n",
       "      <td>XOAX.DE</td>\n",
       "      <td>Exxon Mobil (Xet)</td>\n",
       "      <td>Energy</td>\n",
       "      <td>72.32</td>\n",
       "      <td>-0.39</td>\n",
       "      <td>-0.536377</td>\n",
       "      <td>-63.128791</td>\n",
       "      <td>405</td>\n",
       "      <td>429768</td>\n",
       "      <td>13.0</td>\n",
       "      <td>EXXON MOBIL CORPORATION IS A MANUFACTURER AND ...</td>\n",
       "      <td>ENERGY</td>\n",
       "      <td>Oil&amp;Gas-Integrated</td>\n",
       "      <td>US30231G1022</td>\n",
       "      <td>NaN</td>\n",
       "      <td>NaN</td>\n",
       "      <td>No (NYSE, XOM)</td>\n",
       "      <td>XETRA</td>\n",
       "      <td>GERMANY</td>\n",
       "    </tr>\n",
       "  </tbody>\n",
       "</table>\n",
       "</div>"
      ],
      "text/plain": [
       "   Unnamed: 0   symbol                      name      sector   price  \\\n",
       "0           0   APC.DE               Apple (Fra)  Technology  410.00   \n",
       "1           1  APCX.DE               Apple (Xet)  Technology  408.50   \n",
       "2           2     AAPL                 Apple Inc  Technology  554.25   \n",
       "3           3  XONA.DE         Exxon Mobil (Fra)      Energy   73.20   \n",
       "4           4      WBK  Westpac Banking Corp Adr   Financial   27.99   \n",
       "5           5      XOM          Exxon Mobil Corp      Energy   98.94   \n",
       "6           6  XOAX.DE         Exxon Mobil (Xet)      Energy   72.32   \n",
       "\n",
       "   price_chg  price__chg    vol_rate  avg_dly__vol_000  mkt_val_mil_usd  \\\n",
       "0       0.00    0.000000 -100.000000              1765           497751   \n",
       "1      -2.00   -0.487211  -38.011541              6159           495930   \n",
       "2      -3.11   -0.557987  -25.368715           6099413           494697   \n",
       "3       0.00    0.000000 -100.000000               322           435010   \n",
       "4      -0.37   -1.304654   -8.477119              3780           432467   \n",
       "5       0.16    0.161976  -22.553492           1201688           432220   \n",
       "6      -0.39   -0.536377  -63.128791               405           429768   \n",
       "\n",
       "   pe_ratio                                company_description  \\\n",
       "0      14.0  APPLE INC. (APPLE) DESIGNS, MANUFACTURES AND M...   \n",
       "1      14.0  APPLE INC. (APPLE) DESIGNS, MANUFACTURES AND M...   \n",
       "2      14.0  MANUFACTURES PERSONAL COMPUTERS, MOBILE COMMUN...   \n",
       "3      13.0  EXXON MOBIL CORPORATION IS A MANUFACTURER AND ...   \n",
       "4      14.0  AUSTRALIAN BANK PROVIDING BANKING/RELATED FINA...   \n",
       "5      13.0  ENGAGED IN THE EXPLORATION, PRODUCTION, TRANSP...   \n",
       "6      13.0  EXXON MOBIL CORPORATION IS A MANUFACTURER AND ...   \n",
       "\n",
       "  industry_sector           industry_group          isin  \\\n",
       "0        COMPUTER  Computer-Hardware/Perip  US0378331005   \n",
       "1        COMPUTER  Computer-Hardware/Perip  US0378331005   \n",
       "2        COMPUTER  Computer-Hardware/Perip  US0378331005   \n",
       "3          ENERGY       Oil&Gas-Integrated  US30231G1022   \n",
       "4           BANKS            Banks-Foreign  US9612143019   \n",
       "5          ENERGY       Oil&Gas-Integrated  US30231G1022   \n",
       "6          ENERGY       Oil&Gas-Integrated  US30231G1022   \n",
       "\n",
       "          major_industry   headquarters exchange_primary_listing   exchange  \\\n",
       "0                    NaN            NaN        No (NASDAQ, AAPL)  FRANKFURT   \n",
       "1                    NaN            NaN        No (NASDAQ, AAPL)      XETRA   \n",
       "2  Computer Data Storage  Cupertino, CA                      Yes     NASDAQ   \n",
       "3                    NaN            NaN           No (NYSE, XOM)  FRANKFURT   \n",
       "4      Bank-Money Center      AUSTRALIA                      Yes       NYSE   \n",
       "5     Oil&Gas-Integrated     Irving, TX                      Yes       NYSE   \n",
       "6                    NaN            NaN           No (NYSE, XOM)      XETRA   \n",
       "\n",
       "  trading_country  \n",
       "0         GERMANY  \n",
       "1         GERMANY  \n",
       "2   UNITED STATES  \n",
       "3         GERMANY  \n",
       "4   UNITED STATES  \n",
       "5   UNITED STATES  \n",
       "6         GERMANY  "
      ]
     },
     "execution_count": 83,
     "metadata": {},
     "output_type": "execute_result"
    }
   ],
   "source": [
    "df[df.mkt_val_mil_usd > 425010]"
   ]
  },
  {
   "cell_type": "code",
   "execution_count": null,
   "metadata": {
    "pycharm": {
     "name": "#%%\n"
    }
   },
   "outputs": [],
   "source": [
    "df[~(df.industry_sector < 0)]"
   ]
  },
  {
   "cell_type": "markdown",
   "metadata": {},
   "source": [
    "Indexing with isin\n"
   ]
  },
  {
   "cell_type": "code",
   "execution_count": 85,
   "metadata": {
    "pycharm": {
     "name": "#%%\n"
    }
   },
   "outputs": [
    {
     "data": {
      "text/plain": [
       "0       APC.DE\n",
       "1      APCX.DE\n",
       "2         AAPL\n",
       "3      XONA.DE\n",
       "4          WBK\n",
       "        ...   \n",
       "494    DTEX.DE\n",
       "495      BG.GB\n",
       "496       FOXA\n",
       "497     ANZ.AU\n",
       "498    DEUT.IT\n",
       "Name: symbol, Length: 499, dtype: object"
      ]
     },
     "execution_count": 85,
     "metadata": {},
     "output_type": "execute_result"
    }
   ],
   "source": [
    "df.symbol"
   ]
  },
  {
   "cell_type": "code",
   "execution_count": 88,
   "metadata": {
    "pycharm": {
     "name": "#%%\n"
    }
   },
   "outputs": [
    {
     "data": {
      "text/plain": [
       "0      False\n",
       "1      False\n",
       "2       True\n",
       "3      False\n",
       "4       True\n",
       "       ...  \n",
       "494     True\n",
       "495    False\n",
       "496     True\n",
       "497    False\n",
       "498    False\n",
       "Name: symbol, Length: 499, dtype: bool"
      ]
     },
     "execution_count": 88,
     "metadata": {},
     "output_type": "execute_result"
    }
   ],
   "source": [
    "df.symbol.isin([\"AAPL\", \"FB\", \"WBK\", \"DTEX.DE\", \"FOXA\", \"MSFT\"])"
   ]
  },
  {
   "cell_type": "code",
   "execution_count": 89,
   "metadata": {
    "pycharm": {
     "name": "#%%\n"
    }
   },
   "outputs": [
    {
     "data": {
      "text/html": [
       "<div>\n",
       "<style scoped>\n",
       "    .dataframe tbody tr th:only-of-type {\n",
       "        vertical-align: middle;\n",
       "    }\n",
       "\n",
       "    .dataframe tbody tr th {\n",
       "        vertical-align: top;\n",
       "    }\n",
       "\n",
       "    .dataframe thead th {\n",
       "        text-align: right;\n",
       "    }\n",
       "</style>\n",
       "<table border=\"1\" class=\"dataframe\">\n",
       "  <thead>\n",
       "    <tr style=\"text-align: right;\">\n",
       "      <th></th>\n",
       "      <th>Unnamed: 0</th>\n",
       "      <th>symbol</th>\n",
       "      <th>name</th>\n",
       "      <th>sector</th>\n",
       "      <th>price</th>\n",
       "      <th>price_chg</th>\n",
       "      <th>price__chg</th>\n",
       "      <th>vol_rate</th>\n",
       "      <th>avg_dly__vol_000</th>\n",
       "      <th>mkt_val_mil_usd</th>\n",
       "      <th>pe_ratio</th>\n",
       "      <th>company_description</th>\n",
       "      <th>industry_sector</th>\n",
       "      <th>industry_group</th>\n",
       "      <th>isin</th>\n",
       "      <th>major_industry</th>\n",
       "      <th>headquarters</th>\n",
       "      <th>exchange_primary_listing</th>\n",
       "      <th>exchange</th>\n",
       "      <th>trading_country</th>\n",
       "    </tr>\n",
       "  </thead>\n",
       "  <tbody>\n",
       "    <tr>\n",
       "      <th>2</th>\n",
       "      <td>2</td>\n",
       "      <td>AAPL</td>\n",
       "      <td>Apple Inc</td>\n",
       "      <td>Technology</td>\n",
       "      <td>554.25</td>\n",
       "      <td>-3.110</td>\n",
       "      <td>-0.557987</td>\n",
       "      <td>-25.368715</td>\n",
       "      <td>6099413</td>\n",
       "      <td>494697</td>\n",
       "      <td>14.0</td>\n",
       "      <td>MANUFACTURES PERSONAL COMPUTERS, MOBILE COMMUN...</td>\n",
       "      <td>COMPUTER</td>\n",
       "      <td>Computer-Hardware/Perip</td>\n",
       "      <td>US0378331005</td>\n",
       "      <td>Computer Data Storage</td>\n",
       "      <td>Cupertino, CA</td>\n",
       "      <td>Yes</td>\n",
       "      <td>NASDAQ</td>\n",
       "      <td>UNITED STATES</td>\n",
       "    </tr>\n",
       "    <tr>\n",
       "      <th>4</th>\n",
       "      <td>4</td>\n",
       "      <td>WBK</td>\n",
       "      <td>Westpac Banking Corp Adr</td>\n",
       "      <td>Financial</td>\n",
       "      <td>27.99</td>\n",
       "      <td>-0.370</td>\n",
       "      <td>-1.304654</td>\n",
       "      <td>-8.477119</td>\n",
       "      <td>3780</td>\n",
       "      <td>432467</td>\n",
       "      <td>14.0</td>\n",
       "      <td>AUSTRALIAN BANK PROVIDING BANKING/RELATED FINA...</td>\n",
       "      <td>BANKS</td>\n",
       "      <td>Banks-Foreign</td>\n",
       "      <td>US9612143019</td>\n",
       "      <td>Bank-Money Center</td>\n",
       "      <td>AUSTRALIA</td>\n",
       "      <td>Yes</td>\n",
       "      <td>NYSE</td>\n",
       "      <td>UNITED STATES</td>\n",
       "    </tr>\n",
       "    <tr>\n",
       "      <th>11</th>\n",
       "      <td>11</td>\n",
       "      <td>MSFT</td>\n",
       "      <td>Microsoft Corp</td>\n",
       "      <td>Technology</td>\n",
       "      <td>36.89</td>\n",
       "      <td>0.130</td>\n",
       "      <td>0.353645</td>\n",
       "      <td>-4.880698</td>\n",
       "      <td>1468683</td>\n",
       "      <td>307956</td>\n",
       "      <td>13.0</td>\n",
       "      <td>DEVELOPS OPERATING SYSTEMS, BUSINESS SOFTWARE,...</td>\n",
       "      <td>SOFTWARE</td>\n",
       "      <td>Computer Sftwr-Desktop</td>\n",
       "      <td>US5949181045</td>\n",
       "      <td>Computer-Software</td>\n",
       "      <td>Redmond, WA</td>\n",
       "      <td>Yes</td>\n",
       "      <td>NASDAQ</td>\n",
       "      <td>UNITED STATES</td>\n",
       "    </tr>\n",
       "    <tr>\n",
       "      <th>160</th>\n",
       "      <td>160</td>\n",
       "      <td>FB</td>\n",
       "      <td>Facebook Inc Cl A</td>\n",
       "      <td>Technology</td>\n",
       "      <td>57.19</td>\n",
       "      <td>-0.410</td>\n",
       "      <td>-0.711805</td>\n",
       "      <td>-48.250630</td>\n",
       "      <td>3840670</td>\n",
       "      <td>145274</td>\n",
       "      <td>79.0</td>\n",
       "      <td>PROVIDES A SOCIAL NETWORKING PLATFORM ENABLING...</td>\n",
       "      <td>INTERNET</td>\n",
       "      <td>Internet-Content</td>\n",
       "      <td>US30303M1027</td>\n",
       "      <td>Internet</td>\n",
       "      <td>Menlo Park, CA</td>\n",
       "      <td>Yes</td>\n",
       "      <td>NASDAQ</td>\n",
       "      <td>UNITED STATES</td>\n",
       "    </tr>\n",
       "    <tr>\n",
       "      <th>494</th>\n",
       "      <td>494</td>\n",
       "      <td>DTEX.DE</td>\n",
       "      <td>Deutsche Telekom (Xet)</td>\n",
       "      <td>Technology</td>\n",
       "      <td>12.45</td>\n",
       "      <td>-0.195</td>\n",
       "      <td>-1.542722</td>\n",
       "      <td>4.413403</td>\n",
       "      <td>124042</td>\n",
       "      <td>75343</td>\n",
       "      <td>23.0</td>\n",
       "      <td>DEUTSCHE TELEKOM AG IS A GERMANY-BASED INTEGRA...</td>\n",
       "      <td>TELECOM</td>\n",
       "      <td>Telecom Svcs-Integrated</td>\n",
       "      <td>DE0005557508</td>\n",
       "      <td>Telecommunication Equip</td>\n",
       "      <td>NaN</td>\n",
       "      <td>Yes</td>\n",
       "      <td>XETRA</td>\n",
       "      <td>GERMANY</td>\n",
       "    </tr>\n",
       "    <tr>\n",
       "      <th>496</th>\n",
       "      <td>496</td>\n",
       "      <td>FOXA</td>\n",
       "      <td>Twenty-First Cen Fx Cl A</td>\n",
       "      <td>Consumer Cyclical</td>\n",
       "      <td>32.47</td>\n",
       "      <td>-0.140</td>\n",
       "      <td>-0.429316</td>\n",
       "      <td>-26.565262</td>\n",
       "      <td>354171</td>\n",
       "      <td>75153</td>\n",
       "      <td>25.0</td>\n",
       "      <td>GLOBAL MEDIA AND ENTERTAINMENT COMPANY ENGAGED...</td>\n",
       "      <td>MEDIA</td>\n",
       "      <td>Media-Diversified</td>\n",
       "      <td>US90130A1016</td>\n",
       "      <td>Media - Radio/Tv</td>\n",
       "      <td>New York, NY</td>\n",
       "      <td>Yes</td>\n",
       "      <td>NASDAQ</td>\n",
       "      <td>UNITED STATES</td>\n",
       "    </tr>\n",
       "  </tbody>\n",
       "</table>\n",
       "</div>"
      ],
      "text/plain": [
       "     Unnamed: 0   symbol                      name             sector   price  \\\n",
       "2             2     AAPL                 Apple Inc         Technology  554.25   \n",
       "4             4      WBK  Westpac Banking Corp Adr          Financial   27.99   \n",
       "11           11     MSFT            Microsoft Corp         Technology   36.89   \n",
       "160         160       FB         Facebook Inc Cl A         Technology   57.19   \n",
       "494         494  DTEX.DE    Deutsche Telekom (Xet)         Technology   12.45   \n",
       "496         496     FOXA  Twenty-First Cen Fx Cl A  Consumer Cyclical   32.47   \n",
       "\n",
       "     price_chg  price__chg   vol_rate  avg_dly__vol_000  mkt_val_mil_usd  \\\n",
       "2       -3.110   -0.557987 -25.368715           6099413           494697   \n",
       "4       -0.370   -1.304654  -8.477119              3780           432467   \n",
       "11       0.130    0.353645  -4.880698           1468683           307956   \n",
       "160     -0.410   -0.711805 -48.250630           3840670           145274   \n",
       "494     -0.195   -1.542722   4.413403            124042            75343   \n",
       "496     -0.140   -0.429316 -26.565262            354171            75153   \n",
       "\n",
       "     pe_ratio                                company_description  \\\n",
       "2        14.0  MANUFACTURES PERSONAL COMPUTERS, MOBILE COMMUN...   \n",
       "4        14.0  AUSTRALIAN BANK PROVIDING BANKING/RELATED FINA...   \n",
       "11       13.0  DEVELOPS OPERATING SYSTEMS, BUSINESS SOFTWARE,...   \n",
       "160      79.0  PROVIDES A SOCIAL NETWORKING PLATFORM ENABLING...   \n",
       "494      23.0  DEUTSCHE TELEKOM AG IS A GERMANY-BASED INTEGRA...   \n",
       "496      25.0  GLOBAL MEDIA AND ENTERTAINMENT COMPANY ENGAGED...   \n",
       "\n",
       "    industry_sector           industry_group          isin  \\\n",
       "2          COMPUTER  Computer-Hardware/Perip  US0378331005   \n",
       "4             BANKS            Banks-Foreign  US9612143019   \n",
       "11         SOFTWARE   Computer Sftwr-Desktop  US5949181045   \n",
       "160        INTERNET         Internet-Content  US30303M1027   \n",
       "494         TELECOM  Telecom Svcs-Integrated  DE0005557508   \n",
       "496           MEDIA        Media-Diversified  US90130A1016   \n",
       "\n",
       "              major_industry    headquarters exchange_primary_listing  \\\n",
       "2      Computer Data Storage   Cupertino, CA                      Yes   \n",
       "4          Bank-Money Center       AUSTRALIA                      Yes   \n",
       "11         Computer-Software     Redmond, WA                      Yes   \n",
       "160                 Internet  Menlo Park, CA                      Yes   \n",
       "494  Telecommunication Equip             NaN                      Yes   \n",
       "496         Media - Radio/Tv    New York, NY                      Yes   \n",
       "\n",
       "    exchange trading_country  \n",
       "2     NASDAQ   UNITED STATES  \n",
       "4       NYSE   UNITED STATES  \n",
       "11    NASDAQ   UNITED STATES  \n",
       "160   NASDAQ   UNITED STATES  \n",
       "494    XETRA         GERMANY  \n",
       "496   NASDAQ   UNITED STATES  "
      ]
     },
     "execution_count": 89,
     "metadata": {},
     "output_type": "execute_result"
    }
   ],
   "source": [
    "df[df.symbol.isin([\"AAPL\", \"FB\", \"WBK\", \"DTEX.DE\", \"FOXA\", \"MSFT\"])]"
   ]
  },
  {
   "cell_type": "code",
   "execution_count": null,
   "metadata": {
    "pycharm": {
     "name": "#%%\n"
    }
   },
   "outputs": [],
   "source": []
  },
  {
   "cell_type": "code",
   "execution_count": null,
   "metadata": {},
   "outputs": [],
   "source": []
  },
  {
   "cell_type": "markdown",
   "metadata": {},
   "source": [
    "## Further questions"
   ]
  },
  {
   "cell_type": "code",
   "execution_count": 87,
   "metadata": {},
   "outputs": [
    {
     "output_type": "unknown"
    }
   ],
   "source": [
    "df.columns"
   ]
  },
  {
   "cell_type": "markdown",
   "metadata": {},
   "source": [
    "### Give me the list of the companies in the Technology Sector"
   ]
  },
  {
   "cell_type": "code",
   "execution_count": 83,
   "metadata": {},
   "outputs": [
    {
     "output_type": "unknown"
    }
   ],
   "source": [
    "df['Sector'] == 'Technology'"
   ]
  },
  {
   "cell_type": "markdown",
   "metadata": {},
   "source": [
    "We can use a boolean series to index a Series or a DataFrame, this is called \"Masking\" or boolean indexing."
   ]
  },
  {
   "cell_type": "code",
   "execution_count": 86,
   "metadata": {},
   "outputs": [
    {
     "output_type": "unknown"
    }
   ],
   "source": [
    "df.loc[df['Sector'] == 'Technology']"
   ]
  },
  {
   "cell_type": "markdown",
   "metadata": {},
   "source": [
    "### Give me the list of the companies in the Technology Sector and United States"
   ]
  },
  {
   "cell_type": "code",
   "execution_count": 89,
   "metadata": {},
   "outputs": [
    {
     "output_type": "unknown"
    }
   ],
   "source": [
    "df.loc[(df['Sector'] == 'Technology') & (df['Trading Country'] == 'UNITED STATES')]"
   ]
  },
  {
   "cell_type": "markdown",
   "metadata": {},
   "source": [
    "**Grouping operations**: Split-Apply-Combine operation.\n",
    "\n",
    "By **gourping** or **group by** operations we are referring to a process involving one or more of the following steps:\n",
    "\n",
    "- **Splitting** the data into groups based on some criteria\n",
    "- **Applying** a function to each group independently\n",
    "- **Combining** the results into a data structure"
   ]
  },
  {
   "cell_type": "markdown",
   "metadata": {},
   "source": [
    "\n",
    "<img src=\"img/split_apply_combine.png\">\n",
    "\n",
    "<b>Step1 (Split): </b> The <i>groupby</i> operation <b><i>splits</b></i> the dataframe into a group of dataframes based on some criteria. Note that the grouped object is <i>not</i> a dataframe. It is a GroupBy object. It has a dictionary-like structure and is also iterable.\n",
    "\n",
    "<b>Step 2 (Analyze):</b> Once we have a grouped object we can <b><i>apply</b></i> functions or run analysis to each group, set of groups, or the entire group.\n",
    "\n",
    "<b>Step 3 (Combine):</b> We can also <b><i>combine</b></i> the results of the analysis into a new data structure(s)."
   ]
  },
  {
   "cell_type": "markdown",
   "metadata": {},
   "source": [
    "Since we are only interested in the employees with \"Low\" and \"Very High\" JobSatisfaction levels, let's create a new DataFrame containing only those observations."
   ]
  },
  {
   "cell_type": "code",
   "execution_count": 113,
   "metadata": {},
   "outputs": [
    {
     "output_type": "unknown"
    }
   ],
   "source": [
    "subset_of_interest = df.loc[(df['Sector'] == \"Technology\") | (df['Sector'] == \"Energy\")]\n",
    "\n",
    "subset_of_interest.shape"
   ]
  },
  {
   "cell_type": "markdown",
   "metadata": {},
   "source": [
    "Since our JobSatisfaction variable had 4 categories, this categories have stayed in the series of this new DataFrame:"
   ]
  },
  {
   "cell_type": "code",
   "execution_count": 114,
   "metadata": {},
   "outputs": [
    {
     "output_type": "unknown"
    }
   ],
   "source": [
    "subset_of_interest['Sector'].value_counts()"
   ]
  },
  {
   "cell_type": "markdown",
   "metadata": {},
   "source": [
    "Let's remove those categories we won't be using:"
   ]
  },
  {
   "cell_type": "code",
   "execution_count": null,
   "metadata": {},
   "outputs": [],
   "source": []
  },
  {
   "cell_type": "code",
   "execution_count": 116,
   "metadata": {},
   "outputs": [
    {
     "output_type": "unknown"
    }
   ],
   "source": [
    "subset_of_interest['Sector'].value_counts()"
   ]
  },
  {
   "cell_type": "markdown",
   "metadata": {},
   "source": [
    "Now we have only the employees we are interested in, we can now compare accross the variables we wanted. First let's split our new DataFrame into groups."
   ]
  },
  {
   "cell_type": "code",
   "execution_count": 117,
   "metadata": {},
   "outputs": [],
   "source": [
    "grouped = subset_of_interest.groupby('Sector')"
   ]
  },
  {
   "cell_type": "code",
   "execution_count": 118,
   "metadata": {},
   "outputs": [
    {
     "output_type": "unknown"
    }
   ],
   "source": [
    "grouped.groups"
   ]
  },
  {
   "cell_type": "code",
   "execution_count": 120,
   "metadata": {},
   "outputs": [
    {
     "output_type": "unknown"
    }
   ],
   "source": [
    "grouped.get_group('Energy').head()"
   ]
  },
  {
   "cell_type": "markdown",
   "metadata": {},
   "source": [
    "#### Age"
   ]
  },
  {
   "cell_type": "code",
   "execution_count": 121,
   "metadata": {},
   "outputs": [
    {
     "output_type": "unknown"
    }
   ],
   "source": [
    "grouped['P/E Ratio']"
   ]
  },
  {
   "cell_type": "code",
   "execution_count": 122,
   "metadata": {},
   "outputs": [
    {
     "output_type": "unknown"
    }
   ],
   "source": [
    "grouped['P/E Ratio'].mean()"
   ]
  },
  {
   "cell_type": "code",
   "execution_count": 123,
   "metadata": {},
   "outputs": [
    {
     "output_type": "unknown"
    }
   ],
   "source": [
    "grouped['P/E Ratio'].describe()"
   ]
  },
  {
   "cell_type": "code",
   "execution_count": 124,
   "metadata": {},
   "outputs": [
    {
     "output_type": "unknown"
    }
   ],
   "source": [
    "grouped['P/E Ratio'].describe().unstack()"
   ]
  },
  {
   "cell_type": "markdown",
   "metadata": {},
   "source": [
    "#### Department"
   ]
  },
  {
   "cell_type": "code",
   "execution_count": 125,
   "metadata": {},
   "outputs": [
    {
     "output_type": "unknown"
    }
   ],
   "source": [
    "grouped['Industry Group'].value_counts().unstack()"
   ]
  },
  {
   "cell_type": "code",
   "execution_count": 126,
   "metadata": {},
   "outputs": [
    {
     "output_type": "unknown"
    }
   ],
   "source": [
    "100 * grouped['Industry Group'].value_counts(normalize=True).unstack()"
   ]
  },
  {
   "cell_type": "markdown",
   "metadata": {},
   "source": [
    "#### DistanceFromHome"
   ]
  },
  {
   "cell_type": "code",
   "execution_count": 127,
   "metadata": {},
   "outputs": [
    {
     "output_type": "unknown"
    }
   ],
   "source": [
    "grouped['Trading Country'].describe().unstack()"
   ]
  },
  {
   "cell_type": "markdown",
   "metadata": {},
   "source": [
    "#### HourlyRate"
   ]
  },
  {
   "cell_type": "code",
   "execution_count": 128,
   "metadata": {},
   "outputs": [
    {
     "output_type": "unknown"
    }
   ],
   "source": [
    "grouped['P/E Ratio'].describe().unstack()"
   ]
  },
  {
   "cell_type": "markdown",
   "metadata": {},
   "source": [
    "#### MonthlyIncome"
   ]
  },
  {
   "cell_type": "code",
   "execution_count": 129,
   "metadata": {},
   "outputs": [
    {
     "output_type": "unknown"
    }
   ],
   "source": [
    "grouped['Mkt Val (Mil), USD'].describe().unstack()"
   ]
  },
  {
   "cell_type": "markdown",
   "metadata": {},
   "source": [
    "#### YearsAtCompany"
   ]
  },
  {
   "cell_type": "code",
   "execution_count": 130,
   "metadata": {},
   "outputs": [
    {
     "output_type": "unknown"
    }
   ],
   "source": [
    "grouped['Avg Dly $ Vol (000)'].describe().unstack()"
   ]
  },
  {
   "cell_type": "markdown",
   "metadata": {},
   "source": [
    "### Comparing the means across all numerical variables"
   ]
  },
  {
   "cell_type": "markdown",
   "metadata": {},
   "source": [
    "Although we we asked for just some specific columns, to give the HR director a better picture of how these groups compare across different variables, let's create a DataFrame that contains the mean for every numeric variable in our dataset."
   ]
  },
  {
   "cell_type": "code",
   "execution_count": null,
   "metadata": {},
   "outputs": [],
   "source": [
    "# Getting the numerical columns\n",
    "numeric_cols = subset_of_interest.select_dtypes(include=[np.number]).columns"
   ]
  },
  {
   "cell_type": "code",
   "execution_count": null,
   "metadata": {
    "scrolled": true
   },
   "outputs": [],
   "source": [
    "# Creating an empty DataFrame\n",
    "mean_comparison_df = pd.DataFrame(columns=numeric_cols, index=['Low', 'Very High'])\n",
    "mean_comparison_df"
   ]
  },
  {
   "cell_type": "code",
   "execution_count": null,
   "metadata": {},
   "outputs": [],
   "source": [
    "grouped['Age'].mean()"
   ]
  },
  {
   "cell_type": "code",
   "execution_count": null,
   "metadata": {},
   "outputs": [],
   "source": [
    "# Filling the DataFrame\n",
    "for var in numeric_cols:\n",
    "    mean_comparison_df[var] = grouped[var].mean()"
   ]
  },
  {
   "cell_type": "code",
   "execution_count": null,
   "metadata": {},
   "outputs": [],
   "source": [
    "mean_comparison_df"
   ]
  },
  {
   "cell_type": "code",
   "execution_count": null,
   "metadata": {},
   "outputs": [],
   "source": [
    "mean_comparison_df = mean_comparison_df.transpose()\n",
    "mean_comparison_df"
   ]
  },
  {
   "cell_type": "markdown",
   "metadata": {},
   "source": [
    "### Let's do a visualization"
   ]
  },
  {
   "cell_type": "code",
   "execution_count": null,
   "metadata": {},
   "outputs": [],
   "source": [
    "mean_comparison_df.plot(kind='bar', figsize=(13,4),\n",
    "                                   title=\"Comparison of Means\");"
   ]
  },
  {
   "cell_type": "code",
   "execution_count": null,
   "metadata": {
    "collapsed": true,
    "jupyter": {
     "outputs_hidden": true
    }
   },
   "outputs": [],
   "source": [
    "overal_means = df.mean()\n",
    "normalized_mean_comparison_df = mean_comparison_df.copy()"
   ]
  },
  {
   "cell_type": "code",
   "execution_count": null,
   "metadata": {},
   "outputs": [],
   "source": [
    "overal_means = df.mean()\n",
    "normalized_mean_comparison_df['Low'] = mean_comparison_df['Low'] / overal_means\n",
    "normalized_mean_comparison_df['Very High'] = mean_comparison_df['Very High'] / overal_means"
   ]
  },
  {
   "cell_type": "code",
   "execution_count": null,
   "metadata": {},
   "outputs": [],
   "source": [
    "normalized_mean_comparison_df.plot(kind='bar', figsize=(13,4),\n",
    "                                   title=\"Comparison of Normalized Means\")\n",
    "plt.legend(loc='lower left', bbox_to_anchor=(0.16, 1.0))\n",
    "plt.text(x=-0.2, y = 1.2, s=\"JobSatisfaction:\", fontdict={'size':14});\n",
    "\n"
   ]
  },
  {
   "cell_type": "code",
   "execution_count": null,
   "metadata": {
    "collapsed": true,
    "jupyter": {
     "outputs_hidden": true
    }
   },
   "outputs": [],
   "source": []
  }
 ],
 "metadata": {
  "kernelspec": {
   "display_name": "Python 3",
   "language": "python",
   "name": "python3"
  },
  "language_info": {
   "codemirror_mode": {
    "name": "ipython",
    "version": 3
   },
   "file_extension": ".py",
   "mimetype": "text/x-python",
   "name": "python",
   "nbconvert_exporter": "python",
   "pygments_lexer": "ipython3",
   "version": "3.8.3"
  },
  "toc": {
   "colors": {
    "hover_highlight": "#DAA520",
    "running_highlight": "#FF0000",
    "selected_highlight": "#FFD700"
   },
   "moveMenuLeft": true,
   "nav_menu": {
    "height": "210px",
    "width": "252px"
   },
   "navigate_menu": true,
   "number_sections": true,
   "sideBar": true,
   "threshold": 4,
   "toc_cell": false,
   "toc_section_display": "block",
   "toc_window_display": false
  }
 },
 "nbformat": 4,
 "nbformat_minor": 4
}

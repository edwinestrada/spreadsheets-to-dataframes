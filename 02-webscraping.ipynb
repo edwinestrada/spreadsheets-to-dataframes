{
 "cells": [
  {
   "cell_type": "code",
   "execution_count": null,
   "metadata": {
    "pycharm": {
     "name": "#%%\n"
    }
   },
   "outputs": [],
   "source": [
    "import ipywidgets"
   ]
  },
  {
   "cell_type": "markdown",
   "metadata": {},
   "source": [
    "# HTML refresher and GET requests\n",
    "\n",
    "Before we can scrape HTML Pages, we need to learn little bit about the DOM (Document Object Model)"
   ]
  },
  {
   "cell_type": "code",
   "execution_count": null,
   "metadata": {
    "pycharm": {
     "name": "#%%\n"
    }
   },
   "outputs": [],
   "source": [
    "url = \"https://www.computerhope.com/jargon/d/dom1.jpg\"\n",
    "iframe = '<iframe src=' + url + ' width=700 height=400></iframe>'\n",
    "ipywidgets.HTML(iframe)"
   ]
  },
  {
   "cell_type": "markdown",
   "metadata": {},
   "source": [
    "## First, an HTML refresher\n",
    "HTML is the basic language used to create a web page. \n",
    "\n",
    "It tells the web browser what text/media to display, where to display it, and how to display it (style)\n",
    "\n",
    "HTML is very structured/hirarchical. \n",
    "\n",
    "Every page is made up of discrete \"elements.\"\n",
    "\n",
    "Elements are labeled with \"tags.\"\n",
    "\n",
    "For example:\n",
    "\n",
    "    <p>You are beginning to learn HTML.</p>\n",
    "\n",
    "A start tag also often contains \"attributes\" with info about the element.\n",
    "\n",
    "Attributes usually have a name and value.\n",
    "\n",
    "Example:\n",
    "\n",
    "    <p class=\"my_red_sentences\">You are beginning to learn HTML.</p>\n",
    "\n",
    "We can make a table in HTML: we use the ```<tr>``` tag for table each table row, and the ```<td>``` for each column\n",
    "\n",
    "```\n",
    "<table id=\"mycats\">\n",
    "    <tbody>\n",
    "        <tr>\n",
    "            <th>name</th><th>color</th>\n",
    "        </tr>\n",
    "        <tr>\n",
    "            <td>Button</td><td>white</td>\n",
    "        </tr>\n",
    "        <tr>\n",
    "            <td>Peanut</td><td>Calico</td>\n",
    "        </tr>\n",
    "    </tbody>\n",
    "</table>\n",
    "```\n",
    "<table id=\"mycats\" width=\"50%\">\n",
    "<tbody>\n",
    "<tr>\n",
    "<th>name</th><th>color</th>\n",
    "</tr>\n",
    "<tr>\n",
    "<td>Button</td><td>white</td>\n",
    "</tr>\n",
    "<tr>\n",
    "<td>Peanut</td><td>Calico</td>\n",
    "</tr>\n",
    "</tbody>\n",
    "</table>\n",
    "\n",
    "A full HTML document has a structure more like this:\n",
    "\n",
    "```\n",
    "<html> \n",
    "  <head> </head>\n",
    "  <body>\n",
    "     <p class=\"red\">You are beginning to learn HTML.</p>\n",
    "     <h1> This is a header </h1>\n",
    "     <a href=\"www.google.com\"> Some link </a>\n",
    "  </body>\n",
    "</html>\n",
    "```"
   ]
  },
  {
   "cell_type": "markdown",
   "metadata": {},
   "source": [
    "Let's explore some live HTML!\n",
    "\n",
    "Go to ```http://www.boxofficemojo.com/alltime/adjusted.htm``` in your browser,\n",
    "right click and select Inspect Element. Point your cursor to the different elements on the page, what happens?\n",
    "Also try right clicking and select view page source."
   ]
  },
  {
   "cell_type": "markdown",
   "metadata": {},
   "source": [
    "## Fetch a page with the GET request"
   ]
  },
  {
   "cell_type": "markdown",
   "metadata": {},
   "source": [
    "When you open your browser, type an URL into the address bar, and hit Enter, the browser sends a \"GET\" request to the HTTP server. If the server responds \"yeah, ok, I see you are requesting this page, let me send it to you\", we get the data back (in HTML), and Viola! we see the content the of the page."
   ]
  },
  {
   "cell_type": "markdown",
   "metadata": {},
   "source": [
    "Doing this programatically in Python is super easy. There's a library for that: **Requests: HTTP for Humans**  \n",
    "You can read more about the documentation [here](http://docs.python-requests.org/en/master/)\n"
   ]
  },
  {
   "cell_type": "markdown",
   "metadata": {},
   "source": []
  },
  {
   "cell_type": "code",
   "execution_count": null,
   "metadata": {
    "pycharm": {
     "name": "#%%\n"
    }
   },
   "outputs": [],
   "source": [
    "# if needed: \n",
    "# !conda install requests -y\n",
    "import requests\n",
    "\n",
    "url = 'http://www.google.com/'\n",
    "response = requests.get(url)\n",
    "# various\n",
    "print(response)\n",
    "print(response.status_code)\n",
    "print(response.url)\n",
    "print(response.headers)\n",
    "print(response.content)\n",
    "print(response.text)\n",
    "print(response.json())"
   ]
  },
  {
   "cell_type": "code",
   "execution_count": null,
   "metadata": {
    "pycharm": {
     "name": "#%%\n"
    }
   },
   "outputs": [],
   "source": [
    "response.status_code"
   ]
  },
  {
   "cell_type": "markdown",
   "metadata": {},
   "source": [
    "For information on HTTP status codes, see:  https://en.wikipedia.org/wiki/List_of_HTTP_status_codes"
   ]
  },
  {
   "cell_type": "code",
   "execution_count": null,
   "metadata": {
    "pycharm": {
     "name": "#%%\n"
    }
   },
   "outputs": [],
   "source": [
    "print(response.text)"
   ]
  },
  {
   "cell_type": "markdown",
   "metadata": {},
   "source": []
  },
  {
   "cell_type": "markdown",
   "source": [
    "# Linkedin Industries\n",
    "### Request Webpage and extract data from HTML Table\n",
    "### Save to CSV"
   ],
   "metadata": {
    "collapsed": false,
    "pycharm": {
     "name": "#%% md\n"
    }
   }
  },
  {
   "cell_type": "code",
   "execution_count": null,
   "outputs": [],
   "source": [
    "import csv\n",
    "import requests\n",
    "import lxml.html\n",
    "from bs4 import BeautifulSoup\n",
    "from datetime import datetime\n",
    "\n",
    "industry_url = r'https://developer.linkedin.com/docs/reference/industry-codes'\n",
    "\n",
    "table_xpath = r'//*[@id=\"content\"]/div[2]/div/section/div/div/div[2]/div[2]/table'\n",
    "\n",
    "req = requests.get(industry_url)\n",
    "\n",
    "lxml_html = lxml.html.fromstring(req.content)\n",
    "root = lxml_html.getroottree()\n",
    "table = root.xpath(table_xpath)\n",
    "raw_table_html_bytes = lxml.html.tostring(table[0])\n",
    "html_table = raw_table_html_bytes.decode('utf-8')"
   ],
   "metadata": {
    "collapsed": false,
    "pycharm": {
     "name": "#%%\n"
    }
   }
  },
  {
   "cell_type": "code",
   "execution_count": null,
   "outputs": [],
   "source": [
    "now_time = datetime.utcnow().strftime('%Y%m%dT%H%M%S')\n",
    "\n",
    "with open(r'data\\\\linkedin_industries.csv', 'w') as csvFile:\n",
    "    writer = csv.writer(csvFile)\n",
    "    soup = BeautifulSoup(html_table, 'lxml')\n",
    "    for i, row in enumerate(soup.findAll('tr')):\n",
    "        table_row = [now_time]\n",
    "        print(row)\n",
    "        for cell in row.findAll('td'):\n",
    "            table_row.append(f\"{cell.get_text()}\")\n",
    "        writer.writerow(table_row + ['\\n'])"
   ],
   "metadata": {
    "collapsed": false,
    "pycharm": {
     "name": "#%%\n"
    }
   }
  },
  {
   "cell_type": "markdown",
   "source": [
    "# Reading data from an API\n",
    "\n",
    "### Download data for set of Stock Tickers\n"
   ],
   "metadata": {
    "collapsed": false
   }
  },
  {
   "cell_type": "code",
   "execution_count": 3,
   "metadata": {
    "pycharm": {
     "is_executing": false,
     "name": "#%%\n"
    }
   },
   "outputs": [
    {
     "name": "stdout",
     "output_type": "stream",
     "text": [
      "Requesting Data for GOOG\n",
      "Saving GOOG Data\n",
      "Requesting Data for MSFT\n",
      "Saving MSFT Data\n",
      "Requesting Data for IBM\n",
      "Saving IBM Data\n",
      "Requesting Data for TSLA\n",
      "Saving TSLA Data\n"
     ]
    }
   ],
   "source": [
    "# CSV\n",
    "import os\n",
    "import time\n",
    "from datetime import datetime\n",
    "\n",
    "import requests\n",
    "\n",
    "tickers = \"GOOG MSFT IBM TSLA\".split()\n",
    "\n",
    "today_date = datetime.today().strftime('%Y-%m-%d')\n",
    "\n",
    "# download prices for each stock in portfolio\n",
    "# as csv file\n",
    "for ticker in tickers:\n",
    "    print(f\"Requesting Data for {ticker}\")\n",
    "    req = requests.get(f\"https://www.alphavantage.co/query?function=TIME_SERIES_DAILY_ADJUSTED&symbol={ticker}&apikey=537201H9R203WT4C&datatype=csv\")\n",
    "    print(f\"Saving {ticker} Data\")\n",
    "    \n",
    "    # create filepath with date string\n",
    "    output_filepath = os.path.join(\"data\", f\"{ticker}_PRICES_DAILY_{today_date}.csv\")\n",
    "    \n",
    "    with open(output_filepath, 'w') as f:\n",
    "        f.write(req.text)\n",
    "\n",
    "    time.sleep(1) # sleep in-between requests"
   ]
  },
  {
   "cell_type": "code",
   "execution_count": 4,
   "metadata": {
    "scrolled": true,
    "pycharm": {
     "name": "#%%\n"
    }
   },
   "outputs": [
    {
     "data": {
      "text/plain": [
       "'timestamp,open,high,low,close,adjusted_close,volume,dividend_amount,split_coefficient\\r\\n2019-11-04,314.8000,321.9400,309.2600,317.4700,317.4700,8780129,0.0000,1.0000\\r\\n2019-11-01,316.3200,316.4800,309.8000,313.3100,313.3100,6380900,0.0000,1.0000\\r\\n2019-10-31,313.1000,319.0000,313.0000,314.9200,314.9200,5059900,0.0000,1.0000\\r\\n2019-10-30,313.0000,318.7900,309.9700,315.0100,315.0100,9637000,0.0000,1.0000\\r\\n2019-10-29,319.9900,324.3000,314.7500,316.2200,316.2200,12673300,0.0000,1.0000\\r\\n2019-10-28,327.5400,340.8400,322.6000,327.7100,327.7100,18870300,0.0000,1.0000\\r\\n2019-10-25,297.7200,330.0000,296.1100,328.1300,328.1300,29982400,0.0000,1.0000\\r\\n2019-10-24,298.3700,304.9300,289.2000,299.6800,299.6800,29720900,0.0000,1.0000\\r\\n2019-10-23,254.5000,256.1400,251.3500,254.6800,254.6800,5261100,0.0000,1.0000\\r\\n2019-10-22,254.3200,258.3300,250.8500,255.5800,255.5800,4600800,0.0000,1.0000\\r\\n2019-10-21,258.3300,259.5000,250.1800,253.5000,253.5000,5020300,0.0000,1.0000\\r\\n2019-10-18,260.7000,262.8000,255.1000,256.9500,256.9500,5749800,0.0000,1.0000\\r\\n2019-10-17,262.5000,264.7800,260.1700,261.9700,261.9700,4769300,0.0000,1.0000\\r\\n2019-10-16,257.3900,262.1000,256.9200,259.7500,259.7500,6684100,0.0000,1.0000\\r\\n2019-10-15,257.7000,260.0000,254.1200,257.8900,257.8900,6432800,0.0000,1.0000\\r\\n2019-10-14,247.9000,258.5500,247.1300,256.9600,256.9600,10205000,0.0000,1.0000\\r\\n2019-10-11,247.1500,251.0800,246.8100,247.8900,247.8900,8475400,0.0000,1.0000\\r\\n2019-10-10,245.2800,249.2800,241.5800,244.7400,244.7400,6283300,0.0000,1.0000\\r\\n2019-10-09,241.3200,247.3000,240.6500,244.5300,244.5300,6894400,0.0000,1.0000\\r\\n2019-10-08,235.8700,243.9400,234.5000,240.0500,240.0500,8678200,0.0000,1.0000\\r\\n2019-10-07,229.8000,238.5600,228.5500,237.7200,237.7200,8064200,0.0000,1.0000\\r\\n2019-10-04,231.6100,234.7800,228.0700,231.4300,231.4300,7995000,0.0000,1.0000\\r\\n2019-10-03,231.8600,234.4800,224.2800,233.0300,233.0300,15084500,0.0000,1.0000\\r\\n2019-10-02,243.2900,244.6500,239.4300,243.1300,243.1300,5631400,0.0000,1.0000\\r\\n2019-10-01,241.5000,245.9500,239.1300,244.6900,244.6900,6162600,0.0000,1.0000\\r\\n2019-09-30,243.0000,243.9800,236.1100,240.8700,240.8700,5879800,0.0000,1.0000\\r\\n2019-09-27,242.2000,248.7100,238.7300,242.1300,242.1300,11116400,0.0000,1.0000\\r\\n2019-09-26,230.6600,243.3100,227.4000,242.5600,242.5600,11884500,0.0000,1.0000\\r\\n2019-09-25,224.5600,228.9800,218.3600,228.7000,228.7000,9427100,0.0000,1.0000\\r\\n2019-09-24,241.5200,241.9900,222.6100,223.2100,223.2100,12891500,0.0000,1.0000\\r\\n2019-09-23,240.0000,245.1800,239.2200,241.2300,241.2300,4340200,0.0000,1.0000\\r\\n2019-09-20,246.4900,246.9500,238.1600,240.6200,240.6200,6353000,0.0000,1.0000\\r\\n2019-09-19,246.0000,247.9400,244.8400,246.6000,246.6000,4795800,0.0000,1.0000\\r\\n2019-09-18,245.0000,248.1700,242.3700,243.4900,243.4900,4170200,0.0000,1.0000\\r\\n2019-09-17,242.4700,245.6000,240.3700,244.7900,244.7900,3865400,0.0000,1.0000\\r\\n2019-09-16,246.0000,247.4300,241.1700,242.8100,242.8100,4728100,0.0000,1.0000\\r\\n2019-09-13,246.9600,248.4500,244.8700,245.2000,245.2000,5313100,0.0000,1.0000\\r\\n2019-09-12,247.7000,253.5000,244.4000,245.8700,245.8700,8581200,0.0000,1.0000\\r\\n2019-09-11,237.3800,248.1700,236.0000,247.1000,247.1000,10042800,0.0000,1.0000\\r\\n2019-09-10,230.8000,235.5400,228.9400,235.5400,235.5400,4883700,0.0000,1.0000\\r\\n2019-09-09,230.0000,233.7600,229.2300,231.7900,231.7900,4802700,0.0000,1.0000\\r\\n2019-09-06,227.2000,229.6400,225.1700,227.4500,227.4500,4189400,0.0000,1.0000\\r\\n2019-09-05,222.5000,229.8000,220.8500,229.5800,229.5800,7395300,0.0000,1.0000\\r\\n2019-09-04,226.8900,228.4600,219.2100,220.6800,220.6800,5761000,0.0000,1.0000\\r\\n2019-09-03,224.0800,228.9500,223.1600,225.0100,225.0100,5354100,0.0000,1.0000\\r\\n2019-08-30,229.1500,232.4400,224.2100,225.6100,225.6100,9320600,0.0000,1.0000\\r\\n2019-08-29,219.0000,223.4000,218.0000,221.7100,221.7100,5179500,0.0000,1.0000\\r\\n2019-08-28,213.6900,217.2500,212.3100,215.5900,215.5900,3225500,0.0000,1.0000\\r\\n2019-08-27,215.7400,218.8000,212.0300,214.0800,214.0800,5416200,0.0000,1.0000\\r\\n2019-08-26,213.6000,215.0200,211.5400,215.0000,215.0000,5051900,0.0000,1.0000\\r\\n2019-08-23,219.9700,221.1700,211.0000,211.4000,211.4000,8538600,0.0000,1.0000\\r\\n2019-08-22,222.8000,225.4000,218.2200,222.1500,222.1500,6559000,0.0000,1.0000\\r\\n2019-08-21,222.0100,223.2200,217.6000,220.8300,220.8300,7794300,0.0000,1.0000\\r\\n2019-08-20,227.6200,229.0900,224.5400,225.8600,225.8600,4125200,0.0000,1.0000\\r\\n2019-08-19,224.2100,227.8300,221.7000,226.8300,226.8300,5309600,0.0000,1.0000\\r\\n2019-08-16,216.6600,222.2400,216.0200,219.9400,219.9400,5098500,0.0000,1.0000\\r\\n2019-08-15,220.8600,221.5600,211.5500,215.6400,215.6400,8159600,0.0000,1.0000\\r\\n2019-08-14,231.2100,231.4700,219.5200,219.6200,219.6200,9562600,0.0000,1.0000\\r\\n2019-08-13,228.8100,236.0000,227.5500,235.0000,235.0000,4848100,0.0000,1.0000\\r\\n2019-08-12,232.9900,235.7700,228.7500,229.0100,229.0100,4663900,0.0000,1.0000\\r\\n2019-08-09,236.0540,238.9600,233.8100,235.0100,235.0100,3898200,0.0000,1.0000\\r\\n2019-08-08,234.4500,239.8000,232.6500,238.3000,238.3000,5274300,0.0000,1.0000\\r\\n2019-08-07,226.5000,233.5690,225.8000,233.4200,233.4200,4776500,0.0000,1.0000\\r\\n2019-08-06,231.8800,232.5000,225.7500,230.7500,230.7500,5564200,0.0000,1.0000\\r\\n2019-08-05,229.6000,231.3700,225.7800,228.3200,228.3200,7028300,0.0000,1.0000\\r\\n2019-08-02,231.3500,236.2700,229.2300,234.3400,234.3400,6136500,0.0000,1.0000\\r\\n2019-08-01,242.6500,244.5100,231.7700,233.8500,233.8500,8259500,0.0000,1.0000\\r\\n2019-07-31,243.0024,246.6800,236.6500,241.6100,241.6100,9178200,0.0000,1.0000\\r\\n2019-07-30,232.9000,243.3600,232.1800,242.2600,242.2600,8109000,0.0000,1.0000\\r\\n2019-07-29,227.0900,235.9400,226.0051,235.7700,235.7700,9273300,0.0000,1.0000\\r\\n2019-07-26,226.9200,230.2600,222.2500,228.0400,228.0400,10027700,0.0000,1.0000\\r\\n2019-07-25,233.5000,234.5000,225.5500,228.8200,228.8200,22418300,0.0000,1.0000\\r\\n2019-07-24,259.1700,266.0700,258.1600,264.8800,264.8800,11072800,0.0000,1.0000\\r\\n2019-07-23,256.7100,260.4800,254.5000,260.1700,260.1700,5023100,0.0000,1.0000\\r\\n2019-07-22,258.7500,262.1448,254.1900,255.6800,255.6800,6842400,0.0000,1.0000\\r\\n2019-07-19,255.6900,259.9600,254.6200,258.1800,258.1800,7048400,0.0000,1.0000\\r\\n2019-07-18,255.0500,255.7500,251.8900,253.5400,253.5400,4758600,0.0000,1.0000\\r\\n2019-07-17,255.6700,258.3100,253.3503,254.8600,254.8600,9764700,0.0000,1.0000\\r\\n2019-07-16,249.3000,253.5300,247.9300,252.3800,252.3800,8149000,0.0000,1.0000\\r\\n2019-07-15,248.0000,254.4200,244.8569,253.5000,253.5000,11000100,0.0000,1.0000\\r\\n2019-07-12,239.7500,245.3800,239.7100,245.0800,245.0800,9200500,0.0000,1.0000\\r\\n2019-07-11,238.1400,241.4827,235.8000,238.6000,238.6000,7514400,0.0000,1.0000\\r\\n2019-07-10,234.1500,238.9400,233.1400,238.9200,238.9200,9145700,0.0000,1.0000\\r\\n2019-07-09,228.9700,231.0000,227.2800,230.0600,230.0600,6190800,0.0000,1.0000\\r\\n2019-07-08,231.2400,232.2500,228.6583,230.3400,230.3400,5880500,0.0000,1.0000\\r\\n2019-07-05,234.5700,235.4500,230.8000,233.1000,233.1000,7065700,0.0000,1.0000\\r\\n2019-07-03,239.3900,241.5700,234.5100,234.9000,234.9000,14201100,0.0000,1.0000\\r\\n2019-07-02,228.8900,229.1500,222.2200,224.5500,224.5500,9259000,0.0000,1.0000\\r\\n2019-07-01,230.2100,233.1145,226.2800,227.1700,227.1700,8213400,0.0000,1.0000\\r\\n2019-06-28,220.9900,225.1700,220.8000,223.4600,223.4600,6851400,0.0000,1.0000\\r\\n2019-06-27,219.4500,222.9000,217.3500,222.8400,222.8400,6339700,0.0000,1.0000\\r\\n2019-06-26,220.3068,227.2300,218.1000,219.2700,219.2700,8507200,0.0000,1.0000\\r\\n2019-06-25,224.3900,225.3400,219.4900,219.7600,219.7600,6182100,0.0000,1.0000\\r\\n2019-06-24,223.2400,225.8600,221.0200,223.6400,223.6400,5750800,0.0000,1.0000\\r\\n2019-06-21,216.2200,222.1800,215.5000,221.8600,221.8600,8202100,0.0000,1.0000\\r\\n2019-06-20,223.0000,226.9000,216.3500,219.6200,219.6200,11863500,0.0000,1.0000\\r\\n2019-06-19,225.1100,227.7700,221.0600,226.4300,226.4300,6575100,0.0000,1.0000\\r\\n2019-06-18,228.7200,234.7400,222.5600,224.7400,224.7400,12715800,0.0000,1.0000\\r\\n2019-06-17,215.4800,227.0000,214.2700,225.0300,225.0300,12316800,0.0000,1.0000\\r\\n2019-06-14,211.2500,216.6500,210.4000,214.9200,214.9200,7433400,0.0000,1.0000\\r\\n'"
      ]
     },
     "execution_count": 4,
     "metadata": {},
     "output_type": "execute_result"
    }
   ],
   "source": [
    "# JSON\n",
    "import csv\n",
    "\n",
    "# download prices for each stock in portfolio\n",
    "# but this time json\n",
    "for ticker in tickers:\n",
    "    print(f\"Requesting Data for {ticker}\")\n",
    "    req = requests.get(f\"https://www.alphavantage.co/query?function=TIME_SERIES_DAILY_ADJUSTED&symbol={ticker}&apikey=537201H9R203WT4C&datatype=json\")\n",
    "    print(f\"Saving {ticker} Data\")\n",
    "\n",
    "    # create filepath with date string\n",
    "    output_filepath = os.path.join(\"data\", f\"{ticker}_PRICES_DAILY_{today_date}.json\")\n",
    "    with open(output_filepath, 'w') as f:\n",
    "        f.write(req.text)\n",
    "\n",
    "    time.sleep(1) # sleep in-between requests\n",
    "\n",
    "\n",
    "\n",
    "\n"
   ]
  }
 ],
 "metadata": {
  "kernelspec": {
   "display_name": "Python 3",
   "language": "python",
   "name": "python3"
  },
  "language_info": {
   "codemirror_mode": {
    "name": "ipython",
    "version": 3
   },
   "file_extension": ".py",
   "mimetype": "text/x-python",
   "name": "python",
   "nbconvert_exporter": "python",
   "pygments_lexer": "ipython3",
   "version": "3.7.4"
  },
  "pycharm": {
   "stem_cell": {
    "cell_type": "raw",
    "source": [],
    "metadata": {
     "collapsed": false
    }
   }
  }
 },
 "nbformat": 4,
 "nbformat_minor": 1
}

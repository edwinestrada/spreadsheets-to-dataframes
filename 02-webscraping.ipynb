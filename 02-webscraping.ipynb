{
 "cells": [
  {
   "cell_type": "code",
   "execution_count": 1,
   "metadata": {
    "pycharm": {
     "name": "#%%\n"
    }
   },
   "outputs": [],
   "source": [
    "import ipywidgets"
   ]
  },
  {
   "cell_type": "markdown",
   "metadata": {},
   "source": [
    "# HTML refresher and GET requests\n",
    "\n",
    "Before we can scrape HTML Pages, we need to learn little bit about the DOM (Document Object Model)"
   ]
  },
  {
   "cell_type": "code",
   "execution_count": 2,
   "metadata": {
    "pycharm": {
     "name": "#%%\n"
    }
   },
   "outputs": [
    {
     "data": {
      "application/vnd.jupyter.widget-view+json": {
       "model_id": "3f7efa64474c4dd6ac021cdbb473d4b9",
       "version_major": 2,
       "version_minor": 0
      },
      "text/plain": [
       "HTML(value='<iframe src=https://www.computerhope.com/jargon/d/dom1.jpg width=700 height=400></iframe>')"
      ]
     },
     "metadata": {},
     "output_type": "display_data"
    }
   ],
   "source": [
    "url = \"https://www.computerhope.com/jargon/d/dom1.jpg\"\n",
    "iframe = '<iframe src=' + url + ' width=700 height=400></iframe>'\n",
    "ipywidgets.HTML(iframe)"
   ]
  },
  {
   "cell_type": "markdown",
   "metadata": {},
   "source": [
    "## First, an HTML refresher\n",
    "HTML is the basic language used to create a web page.\n",
    "\n",
    "It tells the web browser what text/media to display, where to display it, and how to display it (style)\n",
    "\n",
    "HTML is very structured/hirarchical.\n",
    "\n",
    "Every page is made up of discrete \"elements.\"\n",
    "\n",
    "Elements are labeled with \"tags.\"\n",
    "\n",
    "For example:\n",
    "\n",
    "    <p>You are beginning to learn HTML.</p>\n",
    "\n",
    "A start tag also often contains \"attributes\" with info about the element.\n",
    "\n",
    "Attributes usually have a name and value.\n",
    "\n",
    "Example:\n",
    "\n",
    "    <p class=\"my_red_sentences\">You are beginning to learn HTML.</p>\n",
    "\n",
    "We can make a table in HTML: we use the ```<tr>``` tag for table each table row, and the ```<td>``` for each column\n",
    "\n",
    "```\n",
    "<table id=\"mycats\">\n",
    "    <tbody>\n",
    "        <tr>\n",
    "            <th>name</th><th>color</th>\n",
    "        </tr>\n",
    "        <tr>\n",
    "            <td>Button</td><td>white</td>\n",
    "        </tr>\n",
    "        <tr>\n",
    "            <td>Peanut</td><td>Calico</td>\n",
    "        </tr>\n",
    "    </tbody>\n",
    "</table>\n",
    "```\n",
    "<table id=\"mycats\" width=\"50%\">\n",
    "<tbody>\n",
    "<tr>\n",
    "<th>name</th><th>color</th>\n",
    "</tr>\n",
    "<tr>\n",
    "<td>Button</td><td>white</td>\n",
    "</tr>\n",
    "<tr>\n",
    "<td>Peanut</td><td>Calico</td>\n",
    "</tr>\n",
    "</tbody>\n",
    "</table>\n",
    "\n",
    "A full HTML document has a structure more like this:\n",
    "\n",
    "```\n",
    "<html>\n",
    "  <head> </head>\n",
    "  <body>\n",
    "     <p class=\"red\">You are beginning to learn HTML.</p>\n",
    "     <h1> This is a header </h1>\n",
    "     <a href=\"www.google.com\"> Some link </a>\n",
    "  </body>\n",
    "</html>\n",
    "```"
   ]
  },
  {
   "cell_type": "markdown",
   "metadata": {},
   "source": [
    "Let's explore some live HTML!\n",
    "\n",
    "Go to ```http://www.boxofficemojo.com/alltime/adjusted.htm``` in your browser,\n",
    "right click and select Inspect Element. Point your cursor to the different elements on the page, what happens?\n",
    "Also try right clicking and select view page source."
   ]
  },
  {
   "cell_type": "markdown",
   "metadata": {},
   "source": [
    "## Fetch a page with the GET request"
   ]
  },
  {
   "cell_type": "markdown",
   "metadata": {},
   "source": [
    "When you open your browser, type an URL into the address bar, and hit Enter, the browser sends a \"GET\" request to the HTTP server. If the server responds \"yeah, ok, I see you are requesting this page, let me send it to you\", we get the data back (in HTML), and Viola! we see the content the of the page."
   ]
  },
  {
   "cell_type": "markdown",
   "metadata": {},
   "source": [
    "Doing this programatically in Python is super easy. There's a library for that: **Requests: HTTP for Humans**\n",
    "You can read more about the documentation [here](http://docs.python-requests.org/en/master/)\n"
   ]
  },
  {
   "cell_type": "markdown",
   "metadata": {},
   "source": []
  },
  {
   "cell_type": "code",
   "execution_count": 3,
   "metadata": {
    "pycharm": {
     "name": "#%%\n"
    }
   },
   "outputs": [
    {
     "name": "stdout",
     "output_type": "stream",
     "text": [
      "<Response [200]>\n",
      "200\n",
      "http://www.google.com/\n",
      "{'Date': 'Thu, 14 May 2020 19:47:23 GMT', 'Expires': '-1', 'Cache-Control': 'private, max-age=0', 'Content-Type': 'text/html; charset=ISO-8859-1', 'P3P': 'CP=\"This is not a P3P policy! See g.co/p3phelp for more info.\"', 'Content-Encoding': 'gzip', 'Server': 'gws', 'Content-Length': '5263', 'X-XSS-Protection': '0', 'X-Frame-Options': 'SAMEORIGIN', 'Set-Cookie': '1P_JAR=2020-05-14-19; expires=Sat, 13-Jun-2020 19:47:23 GMT; path=/; domain=.google.com; Secure, NID=204=GQSjM1Fb8gimHqyiQ1XEfJLBrl0THcQUyUjSaqiiTXlI9jDGySO3jWREyMo56mJXYz8X1zQn6-2_lBr8tsuD9Zep46WG19JTzvxHAXL_2baSDhCG105ZLO41wnRfNIZ3pgh-e2xedCHcpLUDM_5Ys0g1QmUbzJdKJbyKzfxNFuA; expires=Fri, 13-Nov-2020 19:47:23 GMT; path=/; domain=.google.com; HttpOnly'}\n",
      "b'<!doctype html><html itemscope=\"\" itemtype=\"http://schema.org/WebPage\" lang=\"en\"><head><meta content=\"Search the world\\'s information, including webpages, images, videos and more. Google has many special features to help you find exactly what you\\'re looking for.\" name=\"description\"><meta content=\"noodp\" name=\"robots\"><meta content=\"text/html; charset=UTF-8\" http-equiv=\"Content-Type\"><meta content=\"/images/branding/googleg/1x/googleg_standard_color_128dp.png\" itemprop=\"image\"><title>Google</title><script nonce=\"yRjJ7Q4HLfK98MCEJ3CdTA==\">(function(){window.google={kEI:\\'S6C9XtSgBtK9ggf4naOQCg\\',kEXPI:\\'0,202123,3,4,1151616,5663,730,224,756,4348,207,3204,10,1051,175,364,926,193,380,576,210,31,383,246,5,830,30,494,196,472,14,13,118,225,656,1217,406,413,3,149,12,1123872,1197793,98,258,78,329040,1294,12383,4855,32692,15247,867,17444,11240,9188,8384,4858,1362,9291,3025,4742,2648,8385,1808,4020,978,4788,1,3142,5297,2054,920,873,1217,2975,6430,1142,6290,3874,3222,235,4284,2777,518,399,2277,8,87,2709,1593,1165,114,2212,241,291,147,1103,840,517,1137,278,51,56,4258,108,204,1135,1,3,2669,789,1050,184,1920,377,1947,1030,1,1178,114,327,1284,16,2927,2246,474,1339,29,1253,505,3227,773,2072,7,5599,469,8078,2452,210,642,2450,2458,1226,1603,2,3791,1275,108,1710,1697,908,2,971,942,122,1520,2132,265,2896,2523,225,691,305,830,1,839,1337,666,432,3,1546,865,1,372,3545,706,149,189,3313,502,1,239,1300,46,400,28,130,1,1227,866,1991,464,143,1344,1074,66,651,4,1528,17,544,73,2,2,1,3,2,297,354,1009,1236,271,84,477,29,284,385,2,18,12,30,749,468,204,6,392,946,1148,185,146,504,42,239,190,783,786,169,382,56,75,205,219,366,117,56,921,43,826,4,434,36,212,138,362,640,1905,279,156,587,92,77,123,818,98,1,264,11,104,663,35,25,40,3,132,84,68,1557,529,373,98,1695,16,332,196,47,218,175,3,628,226,134,21,234,5813547,1874,1436,1802584,4194805,2801217,549,333,444,1,2,80,1,900,896,1,8,1,2,2551,1,748,141,59,736,563,1,4265,1,1,1,1,137,1,1193,1401,3,767,9,25,13,5,11,9,14,24,1,10,11,3,4,23962094,2682732\\',kBL:\\'914T\\'};google.sn=\\'webhp\\';google.kHL=\\'en\\';})();(function(){google.lc=[];google.li=0;google.getEI=function(a){for(var c;a&&(!a.getAttribute||!(c=a.getAttribute(\"eid\")));)a=a.parentNode;return c||google.kEI};google.getLEI=function(a){for(var c=null;a&&(!a.getAttribute||!(c=a.getAttribute(\"leid\")));)a=a.parentNode;return c};google.ml=function(){return null};google.time=function(){return Date.now()};google.log=function(a,c,b,d,g){if(b=google.logUrl(a,c,b,d,g)){a=new Image;var e=google.lc,f=google.li;e[f]=a;a.onerror=a.onload=a.onabort=function(){delete e[f]};google.vel&&google.vel.lu&&google.vel.lu(b);a.src=b;google.li=f+1}};google.logUrl=function(a,c,b,d,g){var e=\"\",f=google.ls||\"\";b||-1!=c.search(\"&ei=\")||(e=\"&ei=\"+google.getEI(d),-1==c.search(\"&lei=\")&&(d=google.getLEI(d))&&(e+=\"&lei=\"+d));d=\"\";!b&&google.cshid&&-1==c.search(\"&cshid=\")&&\"slh\"!=a&&(d=\"&cshid=\"+google.cshid);b=b||\"/\"+(g||\"gen_204\")+\"?atyp=i&ct=\"+a+\"&cad=\"+c+e+f+\"&zx=\"+google.time()+d;/^http:/i.test(b)&&\"https:\"==window.location.protocol&&(google.ml(Error(\"a\"),!1,{src:b,glmm:1}),b=\"\");return b};}).call(this);(function(){google.y={};google.x=function(a,b){if(a)var c=a.id;else{do c=Math.random();while(google.y[c])}google.y[c]=[a,b];return!1};google.lm=[];google.plm=function(a){google.lm.push.apply(google.lm,a)};google.lq=[];google.load=function(a,b,c){google.lq.push([[a],b,c])};google.loadAll=function(a,b){google.lq.push([a,b])};}).call(this);google.f={};(function(){\\ndocument.documentElement.addEventListener(\"submit\",function(b){var a;if(a=b.target){var c=a.getAttribute(\"data-submitfalse\");a=\"1\"==c||\"q\"==c&&!a.elements.q.value?!0:!1}else a=!1;a&&(b.preventDefault(),b.stopPropagation())},!0);document.documentElement.addEventListener(\"click\",function(b){var a;a:{for(a=b.target;a&&a!=document.documentElement;a=a.parentElement)if(\"A\"==a.tagName){a=\"1\"==a.getAttribute(\"data-nohref\");break a}a=!1}a&&b.preventDefault()},!0);}).call(this);\\nvar a=window.location,b=a.href.indexOf(\"#\");if(0<=b){var c=a.href.substring(b+1);/(^|&)q=/.test(c)&&-1==c.indexOf(\"#\")&&a.replace(\"/search?\"+c.replace(/(^|&)fp=[^&]*/g,\"\")+\"&cad=h\")};</script><style>#gbar,#guser{font-size:13px;padding-top:1px !important;}#gbar{height:22px}#guser{padding-bottom:7px !important;text-align:right}.gbh,.gbd{border-top:1px solid #c9d7f1;font-size:1px}.gbh{height:0;position:absolute;top:24px;width:100%}@media all{.gb1{height:22px;margin-right:.5em;vertical-align:top}#gbar{float:left}}a.gb1,a.gb4{text-decoration:underline !important}a.gb1,a.gb4{color:#00c !important}.gbi .gb4{color:#dd8e27 !important}.gbf .gb4{color:#900 !important}\\n</style><style>body,td,a,p,.h{font-family:arial,sans-serif}body{margin:0;overflow-y:scroll}#gog{padding:3px 8px 0}td{line-height:.8em}.gac_m td{line-height:17px}form{margin-bottom:20px}.h{color:#36c}.q{color:#00c}.ts td{padding:0}.ts{border-collapse:collapse}em{font-weight:bold;font-style:normal}.lst{height:25px;width:496px}.gsfi,.lst{font:18px arial,sans-serif}.gsfs{font:17px arial,sans-serif}.ds{display:inline-box;display:inline-block;margin:3px 0 4px;margin-left:4px}input{font-family:inherit}body{background:#fff;color:#000}a{color:#11c;text-decoration:none}a:hover,a:active{text-decoration:underline}.fl a{color:#36c}a:visited{color:#551a8b}.sblc{padding-top:5px}.sblc a{display:block;margin:2px 0;margin-left:13px;font-size:11px}.lsbb{background:#eee;border:solid 1px;border-color:#ccc #999 #999 #ccc;height:30px}.lsbb{display:block}.ftl,#fll a{display:inline-block;margin:0 12px}.lsb{background:url(/images/nav_logo229.png) 0 -261px repeat-x;border:none;color:#000;cursor:pointer;height:30px;margin:0;outline:0;font:15px arial,sans-serif;vertical-align:top}.lsb:active{background:#ccc}.lst:focus{outline:none}</style><script nonce=\"yRjJ7Q4HLfK98MCEJ3CdTA==\"></script></head><body bgcolor=\"#fff\"><script nonce=\"yRjJ7Q4HLfK98MCEJ3CdTA==\">(function(){var src=\\'/images/nav_logo229.png\\';var iesg=false;document.body.onload = function(){window.n && window.n();if (document.images){new Image().src=src;}\\nif (!iesg){document.f&&document.f.q.focus();document.gbqf&&document.gbqf.q.focus();}\\n}\\n})();</script><div id=\"mngb\"> <div id=gbar><nobr><b class=gb1>Search</b> <a class=gb1 href=\"http://www.google.com/imghp?hl=en&tab=wi\">Images</a> <a class=gb1 href=\"http://maps.google.com/maps?hl=en&tab=wl\">Maps</a> <a class=gb1 href=\"https://play.google.com/?hl=en&tab=w8\">Play</a> <a class=gb1 href=\"http://www.youtube.com/?gl=US&tab=w1\">YouTube</a> <a class=gb1 href=\"http://news.google.com/nwshp?hl=en&tab=wn\">News</a> <a class=gb1 href=\"https://mail.google.com/mail/?tab=wm\">Gmail</a> <a class=gb1 href=\"https://drive.google.com/?tab=wo\">Drive</a> <a class=gb1 style=\"text-decoration:none\" href=\"https://www.google.com/intl/en/about/products?tab=wh\"><u>More</u> &raquo;</a></nobr></div><div id=guser width=100%><nobr><span id=gbn class=gbi></span><span id=gbf class=gbf></span><span id=gbe></span><a href=\"http://www.google.com/history/optout?hl=en\" class=gb4>Web History</a> | <a  href=\"/preferences?hl=en\" class=gb4>Settings</a> | <a target=_top id=gb_70 href=\"https://accounts.google.com/ServiceLogin?hl=en&passive=true&continue=http://www.google.com/\" class=gb4>Sign in</a></nobr></div><div class=gbh style=left:0></div><div class=gbh style=right:0></div> </div><center><br clear=\"all\" id=\"lgpd\"><div id=\"lga\"><img alt=\"Google\" height=\"92\" src=\"/images/branding/googlelogo/1x/googlelogo_white_background_color_272x92dp.png\" style=\"padding:28px 0 14px\" width=\"272\" id=\"hplogo\"><br><br></div><form action=\"/search\" name=\"f\"><table cellpadding=\"0\" cellspacing=\"0\"><tr valign=\"top\"><td width=\"25%\">&nbsp;</td><td align=\"center\" nowrap=\"\"><input name=\"ie\" value=\"ISO-8859-1\" type=\"hidden\"><input value=\"en\" name=\"hl\" type=\"hidden\"><input name=\"source\" type=\"hidden\" value=\"hp\"><input name=\"biw\" type=\"hidden\"><input name=\"bih\" type=\"hidden\"><div class=\"ds\" style=\"height:32px;margin:4px 0\"><input class=\"lst\" style=\"margin:0;padding:5px 8px 0 6px;vertical-align:top;color:#000\" autocomplete=\"off\" value=\"\" title=\"Google Search\" maxlength=\"2048\" name=\"q\" size=\"57\"></div><br style=\"line-height:0\"><span class=\"ds\"><span class=\"lsbb\"><input class=\"lsb\" value=\"Google Search\" name=\"btnG\" type=\"submit\"></span></span><span class=\"ds\"><span class=\"lsbb\"><input class=\"lsb\" id=\"tsuid1\" value=\"I\\'m Feeling Lucky\" name=\"btnI\" type=\"submit\"><script nonce=\"yRjJ7Q4HLfK98MCEJ3CdTA==\">(function(){var id=\\'tsuid1\\';document.getElementById(id).onclick = function(){if (this.form.q.value){this.checked = 1;if (this.form.iflsig)this.form.iflsig.disabled = false;}\\nelse top.location=\\'/doodles/\\';};})();</script><input value=\"AINFCbYAAAAAXr2uW7vQb8YeDWz3LiI3dNJroyF6pu4_\" name=\"iflsig\" type=\"hidden\"></span></span></td><td class=\"fl sblc\" align=\"left\" nowrap=\"\" width=\"25%\"><a href=\"/advanced_search?hl=en&amp;authuser=0\">Advanced search</a></td></tr></table><input id=\"gbv\" name=\"gbv\" type=\"hidden\" value=\"1\"><script nonce=\"yRjJ7Q4HLfK98MCEJ3CdTA==\">(function(){var a,b=\"1\";if(document&&document.getElementById)if(\"undefined\"!=typeof XMLHttpRequest)b=\"2\";else if(\"undefined\"!=typeof ActiveXObject){var c,d,e=[\"MSXML2.XMLHTTP.6.0\",\"MSXML2.XMLHTTP.3.0\",\"MSXML2.XMLHTTP\",\"Microsoft.XMLHTTP\"];for(c=0;d=e[c++];)try{new ActiveXObject(d),b=\"2\"}catch(h){}}a=b;if(\"2\"==a&&-1==location.search.indexOf(\"&gbv=2\")){var f=google.gbvu,g=document.getElementById(\"gbv\");g&&(g.value=a);f&&window.setTimeout(function(){location.href=f},0)};}).call(this);</script></form><div id=\"gac_scont\"></div><div style=\"font-size:83%;min-height:3.5em\"><br></div><span id=\"footer\"><div style=\"font-size:10pt\"><div style=\"margin:19px auto;text-align:center\" id=\"fll\"><a href=\"/intl/en/ads/\">Advertising\\xa0Programs</a><a href=\"/services/\">Business Solutions</a><a href=\"/intl/en/about.html\">About Google</a></div></div><p style=\"font-size:8pt;color:#767676\">&copy; 2020 - <a href=\"/intl/en/policies/privacy/\">Privacy</a> - <a href=\"/intl/en/policies/terms/\">Terms</a></p></span></center><script nonce=\"yRjJ7Q4HLfK98MCEJ3CdTA==\">(function(){window.google.cdo={height:0,width:0};(function(){var a=window.innerWidth,b=window.innerHeight;if(!a||!b){var c=window.document,d=\"CSS1Compat\"==c.compatMode?c.documentElement:c.body;a=d.clientWidth;b=d.clientHeight}a&&b&&(a!=google.cdo.width||b!=google.cdo.height)&&google.log(\"\",\"\",\"/client_204?&atyp=i&biw=\"+a+\"&bih=\"+b+\"&ei=\"+google.kEI);}).call(this);})();(function(){var u=\\'/xjs/_/js/k\\\\x3dxjs.hp.en_US.BFh6FclUBdk.O/m\\\\x3dsb_he,d/am\\\\x3dAF8IbA4/d\\\\x3d1/rs\\\\x3dACT90oGiVxJGojv1t-F_mbddSoDMwlgRrA\\';\\nsetTimeout(function(){var b=document;var a=\"SCRIPT\";\"application/xhtml+xml\"===b.contentType&&(a=a.toLowerCase());a=b.createElement(a);a.src=u;google.timers&&google.timers.load&&google.tick&&google.tick(\"load\",\"xjsls\");document.body.appendChild(a)},0);})();(function(){window.google.xjsu=\\'/xjs/_/js/k\\\\x3dxjs.hp.en_US.BFh6FclUBdk.O/m\\\\x3dsb_he,d/am\\\\x3dAF8IbA4/d\\\\x3d1/rs\\\\x3dACT90oGiVxJGojv1t-F_mbddSoDMwlgRrA\\';})();function _DumpException(e){throw e;}\\nfunction _F_installCss(c){}\\n(function(){google.jl={em:[],emw:false,lls:\\'default\\',pdt:0,snet:true,up:false,uwp:true};})();(function(){var pmc=\\'{\\\\x22d\\\\x22:{},\\\\x22sb_he\\\\x22:{\\\\x22agen\\\\x22:true,\\\\x22cgen\\\\x22:true,\\\\x22client\\\\x22:\\\\x22heirloom-hp\\\\x22,\\\\x22dh\\\\x22:true,\\\\x22dhqt\\\\x22:true,\\\\x22ds\\\\x22:\\\\x22\\\\x22,\\\\x22ffql\\\\x22:\\\\x22en\\\\x22,\\\\x22fl\\\\x22:true,\\\\x22host\\\\x22:\\\\x22google.com\\\\x22,\\\\x22isbh\\\\x22:28,\\\\x22jsonp\\\\x22:true,\\\\x22msgs\\\\x22:{\\\\x22cibl\\\\x22:\\\\x22Clear Search\\\\x22,\\\\x22dym\\\\x22:\\\\x22Did you mean:\\\\x22,\\\\x22lcky\\\\x22:\\\\x22I\\\\\\\\u0026#39;m Feeling Lucky\\\\x22,\\\\x22lml\\\\x22:\\\\x22Learn more\\\\x22,\\\\x22oskt\\\\x22:\\\\x22Input tools\\\\x22,\\\\x22psrc\\\\x22:\\\\x22This search was removed from your \\\\\\\\u003Ca href\\\\x3d\\\\\\\\\\\\x22/history\\\\\\\\\\\\x22\\\\\\\\u003EWeb History\\\\\\\\u003C/a\\\\\\\\u003E\\\\x22,\\\\x22psrl\\\\x22:\\\\x22Remove\\\\x22,\\\\x22sbit\\\\x22:\\\\x22Search by image\\\\x22,\\\\x22srch\\\\x22:\\\\x22Google Search\\\\x22},\\\\x22ovr\\\\x22:{},\\\\x22pq\\\\x22:\\\\x22\\\\x22,\\\\x22refpd\\\\x22:true,\\\\x22rfs\\\\x22:[],\\\\x22sbpl\\\\x22:16,\\\\x22sbpr\\\\x22:16,\\\\x22scd\\\\x22:10,\\\\x22stok\\\\x22:\\\\x22AdiM1gPKpHNAlno59_XPfuoR7_M\\\\x22,\\\\x22uhde\\\\x22:false}}\\';google.pmc=JSON.parse(pmc);})();</script>        </body></html>'\n",
      "<!doctype html><html itemscope=\"\" itemtype=\"http://schema.org/WebPage\" lang=\"en\"><head><meta content=\"Search the world's information, including webpages, images, videos and more. Google has many special features to help you find exactly what you're looking for.\" name=\"description\"><meta content=\"noodp\" name=\"robots\"><meta content=\"text/html; charset=UTF-8\" http-equiv=\"Content-Type\"><meta content=\"/images/branding/googleg/1x/googleg_standard_color_128dp.png\" itemprop=\"image\"><title>Google</title><script nonce=\"yRjJ7Q4HLfK98MCEJ3CdTA==\">(function(){window.google={kEI:'S6C9XtSgBtK9ggf4naOQCg',kEXPI:'0,202123,3,4,1151616,5663,730,224,756,4348,207,3204,10,1051,175,364,926,193,380,576,210,31,383,246,5,830,30,494,196,472,14,13,118,225,656,1217,406,413,3,149,12,1123872,1197793,98,258,78,329040,1294,12383,4855,32692,15247,867,17444,11240,9188,8384,4858,1362,9291,3025,4742,2648,8385,1808,4020,978,4788,1,3142,5297,2054,920,873,1217,2975,6430,1142,6290,3874,3222,235,4284,2777,518,399,2277,8,87,2709,1593,1165,114,2212,241,291,147,1103,840,517,1137,278,51,56,4258,108,204,1135,1,3,2669,789,1050,184,1920,377,1947,1030,1,1178,114,327,1284,16,2927,2246,474,1339,29,1253,505,3227,773,2072,7,5599,469,8078,2452,210,642,2450,2458,1226,1603,2,3791,1275,108,1710,1697,908,2,971,942,122,1520,2132,265,2896,2523,225,691,305,830,1,839,1337,666,432,3,1546,865,1,372,3545,706,149,189,3313,502,1,239,1300,46,400,28,130,1,1227,866,1991,464,143,1344,1074,66,651,4,1528,17,544,73,2,2,1,3,2,297,354,1009,1236,271,84,477,29,284,385,2,18,12,30,749,468,204,6,392,946,1148,185,146,504,42,239,190,783,786,169,382,56,75,205,219,366,117,56,921,43,826,4,434,36,212,138,362,640,1905,279,156,587,92,77,123,818,98,1,264,11,104,663,35,25,40,3,132,84,68,1557,529,373,98,1695,16,332,196,47,218,175,3,628,226,134,21,234,5813547,1874,1436,1802584,4194805,2801217,549,333,444,1,2,80,1,900,896,1,8,1,2,2551,1,748,141,59,736,563,1,4265,1,1,1,1,137,1,1193,1401,3,767,9,25,13,5,11,9,14,24,1,10,11,3,4,23962094,2682732',kBL:'914T'};google.sn='webhp';google.kHL='en';})();(function(){google.lc=[];google.li=0;google.getEI=function(a){for(var c;a&&(!a.getAttribute||!(c=a.getAttribute(\"eid\")));)a=a.parentNode;return c||google.kEI};google.getLEI=function(a){for(var c=null;a&&(!a.getAttribute||!(c=a.getAttribute(\"leid\")));)a=a.parentNode;return c};google.ml=function(){return null};google.time=function(){return Date.now()};google.log=function(a,c,b,d,g){if(b=google.logUrl(a,c,b,d,g)){a=new Image;var e=google.lc,f=google.li;e[f]=a;a.onerror=a.onload=a.onabort=function(){delete e[f]};google.vel&&google.vel.lu&&google.vel.lu(b);a.src=b;google.li=f+1}};google.logUrl=function(a,c,b,d,g){var e=\"\",f=google.ls||\"\";b||-1!=c.search(\"&ei=\")||(e=\"&ei=\"+google.getEI(d),-1==c.search(\"&lei=\")&&(d=google.getLEI(d))&&(e+=\"&lei=\"+d));d=\"\";!b&&google.cshid&&-1==c.search(\"&cshid=\")&&\"slh\"!=a&&(d=\"&cshid=\"+google.cshid);b=b||\"/\"+(g||\"gen_204\")+\"?atyp=i&ct=\"+a+\"&cad=\"+c+e+f+\"&zx=\"+google.time()+d;/^http:/i.test(b)&&\"https:\"==window.location.protocol&&(google.ml(Error(\"a\"),!1,{src:b,glmm:1}),b=\"\");return b};}).call(this);(function(){google.y={};google.x=function(a,b){if(a)var c=a.id;else{do c=Math.random();while(google.y[c])}google.y[c]=[a,b];return!1};google.lm=[];google.plm=function(a){google.lm.push.apply(google.lm,a)};google.lq=[];google.load=function(a,b,c){google.lq.push([[a],b,c])};google.loadAll=function(a,b){google.lq.push([a,b])};}).call(this);google.f={};(function(){\n",
      "document.documentElement.addEventListener(\"submit\",function(b){var a;if(a=b.target){var c=a.getAttribute(\"data-submitfalse\");a=\"1\"==c||\"q\"==c&&!a.elements.q.value?!0:!1}else a=!1;a&&(b.preventDefault(),b.stopPropagation())},!0);document.documentElement.addEventListener(\"click\",function(b){var a;a:{for(a=b.target;a&&a!=document.documentElement;a=a.parentElement)if(\"A\"==a.tagName){a=\"1\"==a.getAttribute(\"data-nohref\");break a}a=!1}a&&b.preventDefault()},!0);}).call(this);\n",
      "var a=window.location,b=a.href.indexOf(\"#\");if(0<=b){var c=a.href.substring(b+1);/(^|&)q=/.test(c)&&-1==c.indexOf(\"#\")&&a.replace(\"/search?\"+c.replace(/(^|&)fp=[^&]*/g,\"\")+\"&cad=h\")};</script><style>#gbar,#guser{font-size:13px;padding-top:1px !important;}#gbar{height:22px}#guser{padding-bottom:7px !important;text-align:right}.gbh,.gbd{border-top:1px solid #c9d7f1;font-size:1px}.gbh{height:0;position:absolute;top:24px;width:100%}@media all{.gb1{height:22px;margin-right:.5em;vertical-align:top}#gbar{float:left}}a.gb1,a.gb4{text-decoration:underline !important}a.gb1,a.gb4{color:#00c !important}.gbi .gb4{color:#dd8e27 !important}.gbf .gb4{color:#900 !important}\n",
      "</style><style>body,td,a,p,.h{font-family:arial,sans-serif}body{margin:0;overflow-y:scroll}#gog{padding:3px 8px 0}td{line-height:.8em}.gac_m td{line-height:17px}form{margin-bottom:20px}.h{color:#36c}.q{color:#00c}.ts td{padding:0}.ts{border-collapse:collapse}em{font-weight:bold;font-style:normal}.lst{height:25px;width:496px}.gsfi,.lst{font:18px arial,sans-serif}.gsfs{font:17px arial,sans-serif}.ds{display:inline-box;display:inline-block;margin:3px 0 4px;margin-left:4px}input{font-family:inherit}body{background:#fff;color:#000}a{color:#11c;text-decoration:none}a:hover,a:active{text-decoration:underline}.fl a{color:#36c}a:visited{color:#551a8b}.sblc{padding-top:5px}.sblc a{display:block;margin:2px 0;margin-left:13px;font-size:11px}.lsbb{background:#eee;border:solid 1px;border-color:#ccc #999 #999 #ccc;height:30px}.lsbb{display:block}.ftl,#fll a{display:inline-block;margin:0 12px}.lsb{background:url(/images/nav_logo229.png) 0 -261px repeat-x;border:none;color:#000;cursor:pointer;height:30px;margin:0;outline:0;font:15px arial,sans-serif;vertical-align:top}.lsb:active{background:#ccc}.lst:focus{outline:none}</style><script nonce=\"yRjJ7Q4HLfK98MCEJ3CdTA==\"></script></head><body bgcolor=\"#fff\"><script nonce=\"yRjJ7Q4HLfK98MCEJ3CdTA==\">(function(){var src='/images/nav_logo229.png';var iesg=false;document.body.onload = function(){window.n && window.n();if (document.images){new Image().src=src;}\n",
      "if (!iesg){document.f&&document.f.q.focus();document.gbqf&&document.gbqf.q.focus();}\n",
      "}\n",
      "})();</script><div id=\"mngb\"> <div id=gbar><nobr><b class=gb1>Search</b> <a class=gb1 href=\"http://www.google.com/imghp?hl=en&tab=wi\">Images</a> <a class=gb1 href=\"http://maps.google.com/maps?hl=en&tab=wl\">Maps</a> <a class=gb1 href=\"https://play.google.com/?hl=en&tab=w8\">Play</a> <a class=gb1 href=\"http://www.youtube.com/?gl=US&tab=w1\">YouTube</a> <a class=gb1 href=\"http://news.google.com/nwshp?hl=en&tab=wn\">News</a> <a class=gb1 href=\"https://mail.google.com/mail/?tab=wm\">Gmail</a> <a class=gb1 href=\"https://drive.google.com/?tab=wo\">Drive</a> <a class=gb1 style=\"text-decoration:none\" href=\"https://www.google.com/intl/en/about/products?tab=wh\"><u>More</u> &raquo;</a></nobr></div><div id=guser width=100%><nobr><span id=gbn class=gbi></span><span id=gbf class=gbf></span><span id=gbe></span><a href=\"http://www.google.com/history/optout?hl=en\" class=gb4>Web History</a> | <a  href=\"/preferences?hl=en\" class=gb4>Settings</a> | <a target=_top id=gb_70 href=\"https://accounts.google.com/ServiceLogin?hl=en&passive=true&continue=http://www.google.com/\" class=gb4>Sign in</a></nobr></div><div class=gbh style=left:0></div><div class=gbh style=right:0></div> </div><center><br clear=\"all\" id=\"lgpd\"><div id=\"lga\"><img alt=\"Google\" height=\"92\" src=\"/images/branding/googlelogo/1x/googlelogo_white_background_color_272x92dp.png\" style=\"padding:28px 0 14px\" width=\"272\" id=\"hplogo\"><br><br></div><form action=\"/search\" name=\"f\"><table cellpadding=\"0\" cellspacing=\"0\"><tr valign=\"top\"><td width=\"25%\">&nbsp;</td><td align=\"center\" nowrap=\"\"><input name=\"ie\" value=\"ISO-8859-1\" type=\"hidden\"><input value=\"en\" name=\"hl\" type=\"hidden\"><input name=\"source\" type=\"hidden\" value=\"hp\"><input name=\"biw\" type=\"hidden\"><input name=\"bih\" type=\"hidden\"><div class=\"ds\" style=\"height:32px;margin:4px 0\"><input class=\"lst\" style=\"margin:0;padding:5px 8px 0 6px;vertical-align:top;color:#000\" autocomplete=\"off\" value=\"\" title=\"Google Search\" maxlength=\"2048\" name=\"q\" size=\"57\"></div><br style=\"line-height:0\"><span class=\"ds\"><span class=\"lsbb\"><input class=\"lsb\" value=\"Google Search\" name=\"btnG\" type=\"submit\"></span></span><span class=\"ds\"><span class=\"lsbb\"><input class=\"lsb\" id=\"tsuid1\" value=\"I'm Feeling Lucky\" name=\"btnI\" type=\"submit\"><script nonce=\"yRjJ7Q4HLfK98MCEJ3CdTA==\">(function(){var id='tsuid1';document.getElementById(id).onclick = function(){if (this.form.q.value){this.checked = 1;if (this.form.iflsig)this.form.iflsig.disabled = false;}\n",
      "else top.location='/doodles/';};})();</script><input value=\"AINFCbYAAAAAXr2uW7vQb8YeDWz3LiI3dNJroyF6pu4_\" name=\"iflsig\" type=\"hidden\"></span></span></td><td class=\"fl sblc\" align=\"left\" nowrap=\"\" width=\"25%\"><a href=\"/advanced_search?hl=en&amp;authuser=0\">Advanced search</a></td></tr></table><input id=\"gbv\" name=\"gbv\" type=\"hidden\" value=\"1\"><script nonce=\"yRjJ7Q4HLfK98MCEJ3CdTA==\">(function(){var a,b=\"1\";if(document&&document.getElementById)if(\"undefined\"!=typeof XMLHttpRequest)b=\"2\";else if(\"undefined\"!=typeof ActiveXObject){var c,d,e=[\"MSXML2.XMLHTTP.6.0\",\"MSXML2.XMLHTTP.3.0\",\"MSXML2.XMLHTTP\",\"Microsoft.XMLHTTP\"];for(c=0;d=e[c++];)try{new ActiveXObject(d),b=\"2\"}catch(h){}}a=b;if(\"2\"==a&&-1==location.search.indexOf(\"&gbv=2\")){var f=google.gbvu,g=document.getElementById(\"gbv\");g&&(g.value=a);f&&window.setTimeout(function(){location.href=f},0)};}).call(this);</script></form><div id=\"gac_scont\"></div><div style=\"font-size:83%;min-height:3.5em\"><br></div><span id=\"footer\"><div style=\"font-size:10pt\"><div style=\"margin:19px auto;text-align:center\" id=\"fll\"><a href=\"/intl/en/ads/\">Advertising Programs</a><a href=\"/services/\">Business Solutions</a><a href=\"/intl/en/about.html\">About Google</a></div></div><p style=\"font-size:8pt;color:#767676\">&copy; 2020 - <a href=\"/intl/en/policies/privacy/\">Privacy</a> - <a href=\"/intl/en/policies/terms/\">Terms</a></p></span></center><script nonce=\"yRjJ7Q4HLfK98MCEJ3CdTA==\">(function(){window.google.cdo={height:0,width:0};(function(){var a=window.innerWidth,b=window.innerHeight;if(!a||!b){var c=window.document,d=\"CSS1Compat\"==c.compatMode?c.documentElement:c.body;a=d.clientWidth;b=d.clientHeight}a&&b&&(a!=google.cdo.width||b!=google.cdo.height)&&google.log(\"\",\"\",\"/client_204?&atyp=i&biw=\"+a+\"&bih=\"+b+\"&ei=\"+google.kEI);}).call(this);})();(function(){var u='/xjs/_/js/k\\x3dxjs.hp.en_US.BFh6FclUBdk.O/m\\x3dsb_he,d/am\\x3dAF8IbA4/d\\x3d1/rs\\x3dACT90oGiVxJGojv1t-F_mbddSoDMwlgRrA';\n",
      "setTimeout(function(){var b=document;var a=\"SCRIPT\";\"application/xhtml+xml\"===b.contentType&&(a=a.toLowerCase());a=b.createElement(a);a.src=u;google.timers&&google.timers.load&&google.tick&&google.tick(\"load\",\"xjsls\");document.body.appendChild(a)},0);})();(function(){window.google.xjsu='/xjs/_/js/k\\x3dxjs.hp.en_US.BFh6FclUBdk.O/m\\x3dsb_he,d/am\\x3dAF8IbA4/d\\x3d1/rs\\x3dACT90oGiVxJGojv1t-F_mbddSoDMwlgRrA';})();function _DumpException(e){throw e;}\n",
      "function _F_installCss(c){}\n",
      "(function(){google.jl={em:[],emw:false,lls:'default',pdt:0,snet:true,up:false,uwp:true};})();(function(){var pmc='{\\x22d\\x22:{},\\x22sb_he\\x22:{\\x22agen\\x22:true,\\x22cgen\\x22:true,\\x22client\\x22:\\x22heirloom-hp\\x22,\\x22dh\\x22:true,\\x22dhqt\\x22:true,\\x22ds\\x22:\\x22\\x22,\\x22ffql\\x22:\\x22en\\x22,\\x22fl\\x22:true,\\x22host\\x22:\\x22google.com\\x22,\\x22isbh\\x22:28,\\x22jsonp\\x22:true,\\x22msgs\\x22:{\\x22cibl\\x22:\\x22Clear Search\\x22,\\x22dym\\x22:\\x22Did you mean:\\x22,\\x22lcky\\x22:\\x22I\\\\u0026#39;m Feeling Lucky\\x22,\\x22lml\\x22:\\x22Learn more\\x22,\\x22oskt\\x22:\\x22Input tools\\x22,\\x22psrc\\x22:\\x22This search was removed from your \\\\u003Ca href\\x3d\\\\\\x22/history\\\\\\x22\\\\u003EWeb History\\\\u003C/a\\\\u003E\\x22,\\x22psrl\\x22:\\x22Remove\\x22,\\x22sbit\\x22:\\x22Search by image\\x22,\\x22srch\\x22:\\x22Google Search\\x22},\\x22ovr\\x22:{},\\x22pq\\x22:\\x22\\x22,\\x22refpd\\x22:true,\\x22rfs\\x22:[],\\x22sbpl\\x22:16,\\x22sbpr\\x22:16,\\x22scd\\x22:10,\\x22stok\\x22:\\x22AdiM1gPKpHNAlno59_XPfuoR7_M\\x22,\\x22uhde\\x22:false}}';google.pmc=JSON.parse(pmc);})();</script>        </body></html>\n"
     ]
    },
    {
     "ename": "JSONDecodeError",
     "evalue": "Expecting value: line 1 column 1 (char 0)",
     "output_type": "error",
     "traceback": [
      "\u001B[1;31m---------------------------------------------------------------------------\u001B[0m",
      "\u001B[1;31mJSONDecodeError\u001B[0m                           Traceback (most recent call last)",
      "\u001B[1;32m<ipython-input-3-d6c35c1432be>\u001B[0m in \u001B[0;36m<module>\u001B[1;34m\u001B[0m\n\u001B[0;32m     12\u001B[0m \u001B[0mprint\u001B[0m\u001B[1;33m(\u001B[0m\u001B[0mresponse\u001B[0m\u001B[1;33m.\u001B[0m\u001B[0mcontent\u001B[0m\u001B[1;33m)\u001B[0m\u001B[1;33m\u001B[0m\u001B[1;33m\u001B[0m\u001B[0m\n\u001B[0;32m     13\u001B[0m \u001B[0mprint\u001B[0m\u001B[1;33m(\u001B[0m\u001B[0mresponse\u001B[0m\u001B[1;33m.\u001B[0m\u001B[0mtext\u001B[0m\u001B[1;33m)\u001B[0m\u001B[1;33m\u001B[0m\u001B[1;33m\u001B[0m\u001B[0m\n\u001B[1;32m---> 14\u001B[1;33m \u001B[0mprint\u001B[0m\u001B[1;33m(\u001B[0m\u001B[0mresponse\u001B[0m\u001B[1;33m.\u001B[0m\u001B[0mjson\u001B[0m\u001B[1;33m(\u001B[0m\u001B[1;33m)\u001B[0m\u001B[1;33m)\u001B[0m\u001B[1;33m\u001B[0m\u001B[1;33m\u001B[0m\u001B[0m\n\u001B[0m",
      "\u001B[1;32mC:\\PYTHON\\envs\\spreadsheets-to-dataframes\\lib\\site-packages\\requests\\models.py\u001B[0m in \u001B[0;36mjson\u001B[1;34m(self, **kwargs)\u001B[0m\n\u001B[0;32m    896\u001B[0m                     \u001B[1;31m# used.\u001B[0m\u001B[1;33m\u001B[0m\u001B[1;33m\u001B[0m\u001B[1;33m\u001B[0m\u001B[0m\n\u001B[0;32m    897\u001B[0m                     \u001B[1;32mpass\u001B[0m\u001B[1;33m\u001B[0m\u001B[1;33m\u001B[0m\u001B[0m\n\u001B[1;32m--> 898\u001B[1;33m         \u001B[1;32mreturn\u001B[0m \u001B[0mcomplexjson\u001B[0m\u001B[1;33m.\u001B[0m\u001B[0mloads\u001B[0m\u001B[1;33m(\u001B[0m\u001B[0mself\u001B[0m\u001B[1;33m.\u001B[0m\u001B[0mtext\u001B[0m\u001B[1;33m,\u001B[0m \u001B[1;33m**\u001B[0m\u001B[0mkwargs\u001B[0m\u001B[1;33m)\u001B[0m\u001B[1;33m\u001B[0m\u001B[1;33m\u001B[0m\u001B[0m\n\u001B[0m\u001B[0;32m    899\u001B[0m \u001B[1;33m\u001B[0m\u001B[0m\n\u001B[0;32m    900\u001B[0m     \u001B[1;33m@\u001B[0m\u001B[0mproperty\u001B[0m\u001B[1;33m\u001B[0m\u001B[1;33m\u001B[0m\u001B[0m\n",
      "\u001B[1;32mC:\\PYTHON\\envs\\spreadsheets-to-dataframes\\lib\\json\\__init__.py\u001B[0m in \u001B[0;36mloads\u001B[1;34m(s, encoding, cls, object_hook, parse_float, parse_int, parse_constant, object_pairs_hook, **kw)\u001B[0m\n\u001B[0;32m    346\u001B[0m             \u001B[0mparse_int\u001B[0m \u001B[1;32mis\u001B[0m \u001B[1;32mNone\u001B[0m \u001B[1;32mand\u001B[0m \u001B[0mparse_float\u001B[0m \u001B[1;32mis\u001B[0m \u001B[1;32mNone\u001B[0m \u001B[1;32mand\u001B[0m\u001B[1;33m\u001B[0m\u001B[1;33m\u001B[0m\u001B[0m\n\u001B[0;32m    347\u001B[0m             parse_constant is None and object_pairs_hook is None and not kw):\n\u001B[1;32m--> 348\u001B[1;33m         \u001B[1;32mreturn\u001B[0m \u001B[0m_default_decoder\u001B[0m\u001B[1;33m.\u001B[0m\u001B[0mdecode\u001B[0m\u001B[1;33m(\u001B[0m\u001B[0ms\u001B[0m\u001B[1;33m)\u001B[0m\u001B[1;33m\u001B[0m\u001B[1;33m\u001B[0m\u001B[0m\n\u001B[0m\u001B[0;32m    349\u001B[0m     \u001B[1;32mif\u001B[0m \u001B[0mcls\u001B[0m \u001B[1;32mis\u001B[0m \u001B[1;32mNone\u001B[0m\u001B[1;33m:\u001B[0m\u001B[1;33m\u001B[0m\u001B[1;33m\u001B[0m\u001B[0m\n\u001B[0;32m    350\u001B[0m         \u001B[0mcls\u001B[0m \u001B[1;33m=\u001B[0m \u001B[0mJSONDecoder\u001B[0m\u001B[1;33m\u001B[0m\u001B[1;33m\u001B[0m\u001B[0m\n",
      "\u001B[1;32mC:\\PYTHON\\envs\\spreadsheets-to-dataframes\\lib\\json\\decoder.py\u001B[0m in \u001B[0;36mdecode\u001B[1;34m(self, s, _w)\u001B[0m\n\u001B[0;32m    335\u001B[0m \u001B[1;33m\u001B[0m\u001B[0m\n\u001B[0;32m    336\u001B[0m         \"\"\"\n\u001B[1;32m--> 337\u001B[1;33m         \u001B[0mobj\u001B[0m\u001B[1;33m,\u001B[0m \u001B[0mend\u001B[0m \u001B[1;33m=\u001B[0m \u001B[0mself\u001B[0m\u001B[1;33m.\u001B[0m\u001B[0mraw_decode\u001B[0m\u001B[1;33m(\u001B[0m\u001B[0ms\u001B[0m\u001B[1;33m,\u001B[0m \u001B[0midx\u001B[0m\u001B[1;33m=\u001B[0m\u001B[0m_w\u001B[0m\u001B[1;33m(\u001B[0m\u001B[0ms\u001B[0m\u001B[1;33m,\u001B[0m \u001B[1;36m0\u001B[0m\u001B[1;33m)\u001B[0m\u001B[1;33m.\u001B[0m\u001B[0mend\u001B[0m\u001B[1;33m(\u001B[0m\u001B[1;33m)\u001B[0m\u001B[1;33m)\u001B[0m\u001B[1;33m\u001B[0m\u001B[1;33m\u001B[0m\u001B[0m\n\u001B[0m\u001B[0;32m    338\u001B[0m         \u001B[0mend\u001B[0m \u001B[1;33m=\u001B[0m \u001B[0m_w\u001B[0m\u001B[1;33m(\u001B[0m\u001B[0ms\u001B[0m\u001B[1;33m,\u001B[0m \u001B[0mend\u001B[0m\u001B[1;33m)\u001B[0m\u001B[1;33m.\u001B[0m\u001B[0mend\u001B[0m\u001B[1;33m(\u001B[0m\u001B[1;33m)\u001B[0m\u001B[1;33m\u001B[0m\u001B[1;33m\u001B[0m\u001B[0m\n\u001B[0;32m    339\u001B[0m         \u001B[1;32mif\u001B[0m \u001B[0mend\u001B[0m \u001B[1;33m!=\u001B[0m \u001B[0mlen\u001B[0m\u001B[1;33m(\u001B[0m\u001B[0ms\u001B[0m\u001B[1;33m)\u001B[0m\u001B[1;33m:\u001B[0m\u001B[1;33m\u001B[0m\u001B[1;33m\u001B[0m\u001B[0m\n",
      "\u001B[1;32mC:\\PYTHON\\envs\\spreadsheets-to-dataframes\\lib\\json\\decoder.py\u001B[0m in \u001B[0;36mraw_decode\u001B[1;34m(self, s, idx)\u001B[0m\n\u001B[0;32m    353\u001B[0m             \u001B[0mobj\u001B[0m\u001B[1;33m,\u001B[0m \u001B[0mend\u001B[0m \u001B[1;33m=\u001B[0m \u001B[0mself\u001B[0m\u001B[1;33m.\u001B[0m\u001B[0mscan_once\u001B[0m\u001B[1;33m(\u001B[0m\u001B[0ms\u001B[0m\u001B[1;33m,\u001B[0m \u001B[0midx\u001B[0m\u001B[1;33m)\u001B[0m\u001B[1;33m\u001B[0m\u001B[1;33m\u001B[0m\u001B[0m\n\u001B[0;32m    354\u001B[0m         \u001B[1;32mexcept\u001B[0m \u001B[0mStopIteration\u001B[0m \u001B[1;32mas\u001B[0m \u001B[0merr\u001B[0m\u001B[1;33m:\u001B[0m\u001B[1;33m\u001B[0m\u001B[1;33m\u001B[0m\u001B[0m\n\u001B[1;32m--> 355\u001B[1;33m             \u001B[1;32mraise\u001B[0m \u001B[0mJSONDecodeError\u001B[0m\u001B[1;33m(\u001B[0m\u001B[1;34m\"Expecting value\"\u001B[0m\u001B[1;33m,\u001B[0m \u001B[0ms\u001B[0m\u001B[1;33m,\u001B[0m \u001B[0merr\u001B[0m\u001B[1;33m.\u001B[0m\u001B[0mvalue\u001B[0m\u001B[1;33m)\u001B[0m \u001B[1;32mfrom\u001B[0m \u001B[1;32mNone\u001B[0m\u001B[1;33m\u001B[0m\u001B[1;33m\u001B[0m\u001B[0m\n\u001B[0m\u001B[0;32m    356\u001B[0m         \u001B[1;32mreturn\u001B[0m \u001B[0mobj\u001B[0m\u001B[1;33m,\u001B[0m \u001B[0mend\u001B[0m\u001B[1;33m\u001B[0m\u001B[1;33m\u001B[0m\u001B[0m\n",
      "\u001B[1;31mJSONDecodeError\u001B[0m: Expecting value: line 1 column 1 (char 0)"
     ]
    }
   ],
   "source": [
    "# if needed:\n",
    "# !conda install requests -y\n",
    "import requests\n",
    "\n",
    "url = 'http://www.google.com/'\n",
    "response = requests.get(url)\n",
    "# various\n",
    "print(response)\n",
    "print(response.status_code)\n",
    "print(response.url)\n",
    "print(response.headers)\n",
    "print(response.content)\n",
    "print(response.text)\n",
    "print(response.json())"
   ]
  },
  {
   "cell_type": "code",
   "execution_count": 4,
   "metadata": {
    "pycharm": {
     "name": "#%%\n"
    }
   },
   "outputs": [
    {
     "data": {
      "text/plain": [
       "200"
      ]
     },
     "execution_count": 4,
     "metadata": {},
     "output_type": "execute_result"
    }
   ],
   "source": [
    "response.status_code"
   ]
  },
  {
   "cell_type": "markdown",
   "metadata": {},
   "source": [
    "For information on HTTP status codes, see:  https://en.wikipedia.org/wiki/List_of_HTTP_status_codes"
   ]
  },
  {
   "cell_type": "code",
   "execution_count": 5,
   "metadata": {
    "pycharm": {
     "name": "#%%\n"
    }
   },
   "outputs": [
    {
     "name": "stdout",
     "output_type": "stream",
     "text": [
      "<!doctype html><html itemscope=\"\" itemtype=\"http://schema.org/WebPage\" lang=\"en\"><head><meta content=\"Search the world's information, including webpages, images, videos and more. Google has many special features to help you find exactly what you're looking for.\" name=\"description\"><meta content=\"noodp\" name=\"robots\"><meta content=\"text/html; charset=UTF-8\" http-equiv=\"Content-Type\"><meta content=\"/images/branding/googleg/1x/googleg_standard_color_128dp.png\" itemprop=\"image\"><title>Google</title><script nonce=\"yRjJ7Q4HLfK98MCEJ3CdTA==\">(function(){window.google={kEI:'S6C9XtSgBtK9ggf4naOQCg',kEXPI:'0,202123,3,4,1151616,5663,730,224,756,4348,207,3204,10,1051,175,364,926,193,380,576,210,31,383,246,5,830,30,494,196,472,14,13,118,225,656,1217,406,413,3,149,12,1123872,1197793,98,258,78,329040,1294,12383,4855,32692,15247,867,17444,11240,9188,8384,4858,1362,9291,3025,4742,2648,8385,1808,4020,978,4788,1,3142,5297,2054,920,873,1217,2975,6430,1142,6290,3874,3222,235,4284,2777,518,399,2277,8,87,2709,1593,1165,114,2212,241,291,147,1103,840,517,1137,278,51,56,4258,108,204,1135,1,3,2669,789,1050,184,1920,377,1947,1030,1,1178,114,327,1284,16,2927,2246,474,1339,29,1253,505,3227,773,2072,7,5599,469,8078,2452,210,642,2450,2458,1226,1603,2,3791,1275,108,1710,1697,908,2,971,942,122,1520,2132,265,2896,2523,225,691,305,830,1,839,1337,666,432,3,1546,865,1,372,3545,706,149,189,3313,502,1,239,1300,46,400,28,130,1,1227,866,1991,464,143,1344,1074,66,651,4,1528,17,544,73,2,2,1,3,2,297,354,1009,1236,271,84,477,29,284,385,2,18,12,30,749,468,204,6,392,946,1148,185,146,504,42,239,190,783,786,169,382,56,75,205,219,366,117,56,921,43,826,4,434,36,212,138,362,640,1905,279,156,587,92,77,123,818,98,1,264,11,104,663,35,25,40,3,132,84,68,1557,529,373,98,1695,16,332,196,47,218,175,3,628,226,134,21,234,5813547,1874,1436,1802584,4194805,2801217,549,333,444,1,2,80,1,900,896,1,8,1,2,2551,1,748,141,59,736,563,1,4265,1,1,1,1,137,1,1193,1401,3,767,9,25,13,5,11,9,14,24,1,10,11,3,4,23962094,2682732',kBL:'914T'};google.sn='webhp';google.kHL='en';})();(function(){google.lc=[];google.li=0;google.getEI=function(a){for(var c;a&&(!a.getAttribute||!(c=a.getAttribute(\"eid\")));)a=a.parentNode;return c||google.kEI};google.getLEI=function(a){for(var c=null;a&&(!a.getAttribute||!(c=a.getAttribute(\"leid\")));)a=a.parentNode;return c};google.ml=function(){return null};google.time=function(){return Date.now()};google.log=function(a,c,b,d,g){if(b=google.logUrl(a,c,b,d,g)){a=new Image;var e=google.lc,f=google.li;e[f]=a;a.onerror=a.onload=a.onabort=function(){delete e[f]};google.vel&&google.vel.lu&&google.vel.lu(b);a.src=b;google.li=f+1}};google.logUrl=function(a,c,b,d,g){var e=\"\",f=google.ls||\"\";b||-1!=c.search(\"&ei=\")||(e=\"&ei=\"+google.getEI(d),-1==c.search(\"&lei=\")&&(d=google.getLEI(d))&&(e+=\"&lei=\"+d));d=\"\";!b&&google.cshid&&-1==c.search(\"&cshid=\")&&\"slh\"!=a&&(d=\"&cshid=\"+google.cshid);b=b||\"/\"+(g||\"gen_204\")+\"?atyp=i&ct=\"+a+\"&cad=\"+c+e+f+\"&zx=\"+google.time()+d;/^http:/i.test(b)&&\"https:\"==window.location.protocol&&(google.ml(Error(\"a\"),!1,{src:b,glmm:1}),b=\"\");return b};}).call(this);(function(){google.y={};google.x=function(a,b){if(a)var c=a.id;else{do c=Math.random();while(google.y[c])}google.y[c]=[a,b];return!1};google.lm=[];google.plm=function(a){google.lm.push.apply(google.lm,a)};google.lq=[];google.load=function(a,b,c){google.lq.push([[a],b,c])};google.loadAll=function(a,b){google.lq.push([a,b])};}).call(this);google.f={};(function(){\n",
      "document.documentElement.addEventListener(\"submit\",function(b){var a;if(a=b.target){var c=a.getAttribute(\"data-submitfalse\");a=\"1\"==c||\"q\"==c&&!a.elements.q.value?!0:!1}else a=!1;a&&(b.preventDefault(),b.stopPropagation())},!0);document.documentElement.addEventListener(\"click\",function(b){var a;a:{for(a=b.target;a&&a!=document.documentElement;a=a.parentElement)if(\"A\"==a.tagName){a=\"1\"==a.getAttribute(\"data-nohref\");break a}a=!1}a&&b.preventDefault()},!0);}).call(this);\n",
      "var a=window.location,b=a.href.indexOf(\"#\");if(0<=b){var c=a.href.substring(b+1);/(^|&)q=/.test(c)&&-1==c.indexOf(\"#\")&&a.replace(\"/search?\"+c.replace(/(^|&)fp=[^&]*/g,\"\")+\"&cad=h\")};</script><style>#gbar,#guser{font-size:13px;padding-top:1px !important;}#gbar{height:22px}#guser{padding-bottom:7px !important;text-align:right}.gbh,.gbd{border-top:1px solid #c9d7f1;font-size:1px}.gbh{height:0;position:absolute;top:24px;width:100%}@media all{.gb1{height:22px;margin-right:.5em;vertical-align:top}#gbar{float:left}}a.gb1,a.gb4{text-decoration:underline !important}a.gb1,a.gb4{color:#00c !important}.gbi .gb4{color:#dd8e27 !important}.gbf .gb4{color:#900 !important}\n",
      "</style><style>body,td,a,p,.h{font-family:arial,sans-serif}body{margin:0;overflow-y:scroll}#gog{padding:3px 8px 0}td{line-height:.8em}.gac_m td{line-height:17px}form{margin-bottom:20px}.h{color:#36c}.q{color:#00c}.ts td{padding:0}.ts{border-collapse:collapse}em{font-weight:bold;font-style:normal}.lst{height:25px;width:496px}.gsfi,.lst{font:18px arial,sans-serif}.gsfs{font:17px arial,sans-serif}.ds{display:inline-box;display:inline-block;margin:3px 0 4px;margin-left:4px}input{font-family:inherit}body{background:#fff;color:#000}a{color:#11c;text-decoration:none}a:hover,a:active{text-decoration:underline}.fl a{color:#36c}a:visited{color:#551a8b}.sblc{padding-top:5px}.sblc a{display:block;margin:2px 0;margin-left:13px;font-size:11px}.lsbb{background:#eee;border:solid 1px;border-color:#ccc #999 #999 #ccc;height:30px}.lsbb{display:block}.ftl,#fll a{display:inline-block;margin:0 12px}.lsb{background:url(/images/nav_logo229.png) 0 -261px repeat-x;border:none;color:#000;cursor:pointer;height:30px;margin:0;outline:0;font:15px arial,sans-serif;vertical-align:top}.lsb:active{background:#ccc}.lst:focus{outline:none}</style><script nonce=\"yRjJ7Q4HLfK98MCEJ3CdTA==\"></script></head><body bgcolor=\"#fff\"><script nonce=\"yRjJ7Q4HLfK98MCEJ3CdTA==\">(function(){var src='/images/nav_logo229.png';var iesg=false;document.body.onload = function(){window.n && window.n();if (document.images){new Image().src=src;}\n",
      "if (!iesg){document.f&&document.f.q.focus();document.gbqf&&document.gbqf.q.focus();}\n",
      "}\n",
      "})();</script><div id=\"mngb\"> <div id=gbar><nobr><b class=gb1>Search</b> <a class=gb1 href=\"http://www.google.com/imghp?hl=en&tab=wi\">Images</a> <a class=gb1 href=\"http://maps.google.com/maps?hl=en&tab=wl\">Maps</a> <a class=gb1 href=\"https://play.google.com/?hl=en&tab=w8\">Play</a> <a class=gb1 href=\"http://www.youtube.com/?gl=US&tab=w1\">YouTube</a> <a class=gb1 href=\"http://news.google.com/nwshp?hl=en&tab=wn\">News</a> <a class=gb1 href=\"https://mail.google.com/mail/?tab=wm\">Gmail</a> <a class=gb1 href=\"https://drive.google.com/?tab=wo\">Drive</a> <a class=gb1 style=\"text-decoration:none\" href=\"https://www.google.com/intl/en/about/products?tab=wh\"><u>More</u> &raquo;</a></nobr></div><div id=guser width=100%><nobr><span id=gbn class=gbi></span><span id=gbf class=gbf></span><span id=gbe></span><a href=\"http://www.google.com/history/optout?hl=en\" class=gb4>Web History</a> | <a  href=\"/preferences?hl=en\" class=gb4>Settings</a> | <a target=_top id=gb_70 href=\"https://accounts.google.com/ServiceLogin?hl=en&passive=true&continue=http://www.google.com/\" class=gb4>Sign in</a></nobr></div><div class=gbh style=left:0></div><div class=gbh style=right:0></div> </div><center><br clear=\"all\" id=\"lgpd\"><div id=\"lga\"><img alt=\"Google\" height=\"92\" src=\"/images/branding/googlelogo/1x/googlelogo_white_background_color_272x92dp.png\" style=\"padding:28px 0 14px\" width=\"272\" id=\"hplogo\"><br><br></div><form action=\"/search\" name=\"f\"><table cellpadding=\"0\" cellspacing=\"0\"><tr valign=\"top\"><td width=\"25%\">&nbsp;</td><td align=\"center\" nowrap=\"\"><input name=\"ie\" value=\"ISO-8859-1\" type=\"hidden\"><input value=\"en\" name=\"hl\" type=\"hidden\"><input name=\"source\" type=\"hidden\" value=\"hp\"><input name=\"biw\" type=\"hidden\"><input name=\"bih\" type=\"hidden\"><div class=\"ds\" style=\"height:32px;margin:4px 0\"><input class=\"lst\" style=\"margin:0;padding:5px 8px 0 6px;vertical-align:top;color:#000\" autocomplete=\"off\" value=\"\" title=\"Google Search\" maxlength=\"2048\" name=\"q\" size=\"57\"></div><br style=\"line-height:0\"><span class=\"ds\"><span class=\"lsbb\"><input class=\"lsb\" value=\"Google Search\" name=\"btnG\" type=\"submit\"></span></span><span class=\"ds\"><span class=\"lsbb\"><input class=\"lsb\" id=\"tsuid1\" value=\"I'm Feeling Lucky\" name=\"btnI\" type=\"submit\"><script nonce=\"yRjJ7Q4HLfK98MCEJ3CdTA==\">(function(){var id='tsuid1';document.getElementById(id).onclick = function(){if (this.form.q.value){this.checked = 1;if (this.form.iflsig)this.form.iflsig.disabled = false;}\n",
      "else top.location='/doodles/';};})();</script><input value=\"AINFCbYAAAAAXr2uW7vQb8YeDWz3LiI3dNJroyF6pu4_\" name=\"iflsig\" type=\"hidden\"></span></span></td><td class=\"fl sblc\" align=\"left\" nowrap=\"\" width=\"25%\"><a href=\"/advanced_search?hl=en&amp;authuser=0\">Advanced search</a></td></tr></table><input id=\"gbv\" name=\"gbv\" type=\"hidden\" value=\"1\"><script nonce=\"yRjJ7Q4HLfK98MCEJ3CdTA==\">(function(){var a,b=\"1\";if(document&&document.getElementById)if(\"undefined\"!=typeof XMLHttpRequest)b=\"2\";else if(\"undefined\"!=typeof ActiveXObject){var c,d,e=[\"MSXML2.XMLHTTP.6.0\",\"MSXML2.XMLHTTP.3.0\",\"MSXML2.XMLHTTP\",\"Microsoft.XMLHTTP\"];for(c=0;d=e[c++];)try{new ActiveXObject(d),b=\"2\"}catch(h){}}a=b;if(\"2\"==a&&-1==location.search.indexOf(\"&gbv=2\")){var f=google.gbvu,g=document.getElementById(\"gbv\");g&&(g.value=a);f&&window.setTimeout(function(){location.href=f},0)};}).call(this);</script></form><div id=\"gac_scont\"></div><div style=\"font-size:83%;min-height:3.5em\"><br></div><span id=\"footer\"><div style=\"font-size:10pt\"><div style=\"margin:19px auto;text-align:center\" id=\"fll\"><a href=\"/intl/en/ads/\">Advertising Programs</a><a href=\"/services/\">Business Solutions</a><a href=\"/intl/en/about.html\">About Google</a></div></div><p style=\"font-size:8pt;color:#767676\">&copy; 2020 - <a href=\"/intl/en/policies/privacy/\">Privacy</a> - <a href=\"/intl/en/policies/terms/\">Terms</a></p></span></center><script nonce=\"yRjJ7Q4HLfK98MCEJ3CdTA==\">(function(){window.google.cdo={height:0,width:0};(function(){var a=window.innerWidth,b=window.innerHeight;if(!a||!b){var c=window.document,d=\"CSS1Compat\"==c.compatMode?c.documentElement:c.body;a=d.clientWidth;b=d.clientHeight}a&&b&&(a!=google.cdo.width||b!=google.cdo.height)&&google.log(\"\",\"\",\"/client_204?&atyp=i&biw=\"+a+\"&bih=\"+b+\"&ei=\"+google.kEI);}).call(this);})();(function(){var u='/xjs/_/js/k\\x3dxjs.hp.en_US.BFh6FclUBdk.O/m\\x3dsb_he,d/am\\x3dAF8IbA4/d\\x3d1/rs\\x3dACT90oGiVxJGojv1t-F_mbddSoDMwlgRrA';\n",
      "setTimeout(function(){var b=document;var a=\"SCRIPT\";\"application/xhtml+xml\"===b.contentType&&(a=a.toLowerCase());a=b.createElement(a);a.src=u;google.timers&&google.timers.load&&google.tick&&google.tick(\"load\",\"xjsls\");document.body.appendChild(a)},0);})();(function(){window.google.xjsu='/xjs/_/js/k\\x3dxjs.hp.en_US.BFh6FclUBdk.O/m\\x3dsb_he,d/am\\x3dAF8IbA4/d\\x3d1/rs\\x3dACT90oGiVxJGojv1t-F_mbddSoDMwlgRrA';})();function _DumpException(e){throw e;}\n",
      "function _F_installCss(c){}\n",
      "(function(){google.jl={em:[],emw:false,lls:'default',pdt:0,snet:true,up:false,uwp:true};})();(function(){var pmc='{\\x22d\\x22:{},\\x22sb_he\\x22:{\\x22agen\\x22:true,\\x22cgen\\x22:true,\\x22client\\x22:\\x22heirloom-hp\\x22,\\x22dh\\x22:true,\\x22dhqt\\x22:true,\\x22ds\\x22:\\x22\\x22,\\x22ffql\\x22:\\x22en\\x22,\\x22fl\\x22:true,\\x22host\\x22:\\x22google.com\\x22,\\x22isbh\\x22:28,\\x22jsonp\\x22:true,\\x22msgs\\x22:{\\x22cibl\\x22:\\x22Clear Search\\x22,\\x22dym\\x22:\\x22Did you mean:\\x22,\\x22lcky\\x22:\\x22I\\\\u0026#39;m Feeling Lucky\\x22,\\x22lml\\x22:\\x22Learn more\\x22,\\x22oskt\\x22:\\x22Input tools\\x22,\\x22psrc\\x22:\\x22This search was removed from your \\\\u003Ca href\\x3d\\\\\\x22/history\\\\\\x22\\\\u003EWeb History\\\\u003C/a\\\\u003E\\x22,\\x22psrl\\x22:\\x22Remove\\x22,\\x22sbit\\x22:\\x22Search by image\\x22,\\x22srch\\x22:\\x22Google Search\\x22},\\x22ovr\\x22:{},\\x22pq\\x22:\\x22\\x22,\\x22refpd\\x22:true,\\x22rfs\\x22:[],\\x22sbpl\\x22:16,\\x22sbpr\\x22:16,\\x22scd\\x22:10,\\x22stok\\x22:\\x22AdiM1gPKpHNAlno59_XPfuoR7_M\\x22,\\x22uhde\\x22:false}}';google.pmc=JSON.parse(pmc);})();</script>        </body></html>\n"
     ]
    }
   ],
   "source": [
    "print(response.text)"
   ]
  },
  {
   "cell_type": "markdown",
   "metadata": {},
   "source": []
  },
  {
   "cell_type": "markdown",
   "metadata": {
    "pycharm": {
     "name": "#%% md\n"
    }
   },
   "source": [
    "# Linkedin Industries\n",
    "### Request Webpage and extract data from HTML Table\n",
    "### Save to CSV"
   ]
  },
  {
   "cell_type": "code",
   "execution_count": 6,
   "metadata": {
    "pycharm": {
     "name": "#%%\n"
    }
   },
   "outputs": [],
   "source": [
    "import csv\n",
    "import requests\n",
    "import lxml.html\n",
    "from bs4 import BeautifulSoup\n",
    "from datetime import datetime\n",
    "\n",
    "industry_url = r'https://developer.linkedin.com/docs/reference/industry-codes'\n",
    "\n",
    "table_xpath = r'//*[@id=\"content\"]/div[2]/div/section/div/div/div[2]/div[2]/table'\n",
    "\n",
    "req = requests.get(industry_url)\n",
    "\n",
    "lxml_html = lxml.html.fromstring(req.content)\n",
    "root = lxml_html.getroottree()\n",
    "table = root.xpath(table_xpath)\n",
    "raw_table_html_bytes = lxml.html.tostring(table[0])\n",
    "html_table = raw_table_html_bytes.decode('utf-8')"
   ]
  },
  {
   "cell_type": "code",
   "execution_count": 7,
   "metadata": {
    "pycharm": {
     "name": "#%%\n"
    }
   },
   "outputs": [
    {
     "name": "stdout",
     "output_type": "stream",
     "text": [
      "<tr><td>Code</td> <td>Groups</td> <td>Description<br/> </td> </tr>\n",
      "<tr><td>47</td> <td>corp, fin</td> <td>Accounting</td> </tr>\n",
      "<tr><td>94</td> <td>man, tech, tran</td> <td>Airlines/Aviation</td> </tr>\n",
      "<tr><td>120</td> <td>leg, org</td> <td>Alternative Dispute Resolution</td> </tr>\n",
      "<tr><td>125</td> <td>hlth</td> <td>Alternative Medicine</td> </tr>\n",
      "<tr><td>127</td> <td>art, med</td> <td>Animation</td> </tr>\n",
      "<tr><td>19</td> <td>good</td> <td>Apparel &amp; Fashion</td> </tr>\n",
      "<tr><td>50</td> <td>cons</td> <td>Architecture &amp; Planning</td> </tr>\n",
      "<tr><td>111</td> <td>art, med, rec</td> <td>Arts and Crafts</td> </tr>\n",
      "<tr><td>53</td> <td>man</td> <td>Automotive</td> </tr>\n",
      "<tr><td>52</td> <td>gov, man</td> <td>Aviation &amp; Aerospace</td> </tr>\n",
      "<tr><td>41</td> <td>fin</td> <td>Banking</td> </tr>\n",
      "<tr><td>12</td> <td>gov, hlth, tech</td> <td>Biotechnology</td> </tr>\n",
      "<tr><td>36</td> <td>med, rec</td> <td>Broadcast Media</td> </tr>\n",
      "<tr><td>49</td> <td>cons</td> <td>Building Materials</td> </tr>\n",
      "<tr><td>138</td> <td>corp, man</td> <td>Business Supplies and Equipment</td> </tr>\n",
      "<tr><td>129</td> <td>fin</td> <td>Capital Markets</td> </tr>\n",
      "<tr><td>54</td> <td>man</td> <td>Chemicals</td> </tr>\n",
      "<tr><td>90</td> <td>org, serv</td> <td>Civic &amp; Social Organization</td> </tr>\n",
      "<tr><td>51</td> <td>cons, gov</td> <td>Civil Engineering</td> </tr>\n",
      "<tr><td>128</td> <td>cons, corp, fin</td> <td>Commercial Real Estate</td> </tr>\n",
      "<tr><td>118</td> <td>tech</td> <td>Computer &amp; Network Security</td> </tr>\n",
      "<tr><td>109</td> <td>med, rec</td> <td>Computer Games</td> </tr>\n",
      "<tr><td>3</td> <td>tech</td> <td>Computer Hardware</td> </tr>\n",
      "<tr><td>5</td> <td>tech</td> <td>Computer Networking</td> </tr>\n",
      "<tr><td>4</td> <td>tech</td> <td>Computer Software</td> </tr>\n",
      "<tr><td>48</td> <td>cons</td> <td>Construction</td> </tr>\n",
      "<tr><td>24</td> <td>good, man</td> <td>Consumer Electronics</td> </tr>\n",
      "<tr><td>25</td> <td>good, man</td> <td>Consumer Goods</td> </tr>\n",
      "<tr><td>91</td> <td>org, serv</td> <td>Consumer Services</td> </tr>\n",
      "<tr><td>18</td> <td>good</td> <td>Cosmetics</td> </tr>\n",
      "<tr><td>65</td> <td>agr</td> <td>Dairy</td> </tr>\n",
      "<tr><td>1</td> <td>gov, tech</td> <td>Defense &amp; Space</td> </tr>\n",
      "<tr><td>99</td> <td>art, med</td> <td>Design</td> </tr>\n",
      "<tr><td>69</td> <td>edu</td> <td>Education Management</td> </tr>\n",
      "<tr><td>132</td> <td>edu, org</td> <td>E-Learning</td> </tr>\n",
      "<tr><td>112</td> <td>good, man</td> <td>Electrical/Electronic Manufacturing</td> </tr>\n",
      "<tr><td>28</td> <td>med, rec</td> <td>Entertainment</td> </tr>\n",
      "<tr><td>86</td> <td>org, serv</td> <td>Environmental Services</td> </tr>\n",
      "<tr><td>110</td> <td>corp, rec, serv</td> <td>Events Services</td> </tr>\n",
      "<tr><td>76</td> <td>gov</td> <td>Executive Office</td> </tr>\n",
      "<tr><td>122</td> <td>corp, serv</td> <td>Facilities Services</td> </tr>\n",
      "<tr><td>63</td> <td>agr</td> <td>Farming</td> </tr>\n",
      "<tr><td>43</td> <td>fin</td> <td>Financial Services</td> </tr>\n",
      "<tr><td>38</td> <td>art, med, rec</td> <td>Fine Art</td> </tr>\n",
      "<tr><td>66</td> <td>agr</td> <td>Fishery</td> </tr>\n",
      "<tr><td>34</td> <td>rec, serv</td> <td>Food &amp; Beverages</td> </tr>\n",
      "<tr><td>23</td> <td>good, man, serv</td> <td>Food Production</td> </tr>\n",
      "<tr><td>101</td> <td>org</td> <td>Fund-Raising</td> </tr>\n",
      "<tr><td>26</td> <td>good, man</td> <td>Furniture</td> </tr>\n",
      "<tr><td>29</td> <td>rec</td> <td>Gambling &amp; Casinos</td> </tr>\n",
      "<tr><td>145</td> <td>cons, man</td> <td>Glass, Ceramics &amp; Concrete</td> </tr>\n",
      "<tr><td>75</td> <td>gov</td> <td>Government Administration</td> </tr>\n",
      "<tr><td>148</td> <td>gov</td> <td>Government Relations</td> </tr>\n",
      "<tr><td>140</td> <td>art, med</td> <td>Graphic Design</td> </tr>\n",
      "<tr><td>124</td> <td>hlth, rec</td> <td>Health, Wellness and Fitness</td> </tr>\n",
      "<tr><td>68</td> <td>edu</td> <td>Higher Education</td> </tr>\n",
      "<tr><td>14</td> <td>hlth</td> <td>Hospital &amp; Health Care</td> </tr>\n",
      "<tr><td>31</td> <td>rec, serv, tran</td> <td>Hospitality</td> </tr>\n",
      "<tr><td>137</td> <td>corp</td> <td>Human Resources</td> </tr>\n",
      "<tr><td>134</td> <td>corp, good, tran</td> <td>Import and Export</td> </tr>\n",
      "<tr><td>88</td> <td>org, serv</td> <td>Individual &amp; Family Services</td> </tr>\n",
      "<tr><td>147</td> <td>cons, man</td> <td>Industrial Automation</td> </tr>\n",
      "<tr><td>84</td> <td>med, serv</td> <td>Information Services</td> </tr>\n",
      "<tr><td>96</td> <td>tech</td> <td>Information Technology and Services</td> </tr>\n",
      "<tr><td>42</td> <td>fin</td> <td>Insurance</td> </tr>\n",
      "<tr><td>74</td> <td>gov</td> <td>International Affairs</td> </tr>\n",
      "<tr><td>141</td> <td>gov, org, tran</td> <td>International Trade and Development</td> </tr>\n",
      "<tr><td>6</td> <td>tech</td> <td>Internet</td> </tr>\n",
      "<tr><td>45</td> <td>fin</td> <td>Investment Banking</td> </tr>\n",
      "<tr><td>46</td> <td>fin</td> <td>Investment Management</td> </tr>\n",
      "<tr><td>73</td> <td>gov, leg</td> <td>Judiciary</td> </tr>\n",
      "<tr><td>77</td> <td>gov, leg</td> <td>Law Enforcement</td> </tr>\n",
      "<tr><td>9</td> <td>leg</td> <td>Law Practice</td> </tr>\n",
      "<tr><td>10</td> <td>leg</td> <td>Legal Services</td> </tr>\n",
      "<tr><td>72</td> <td>gov, leg</td> <td>Legislative Office</td> </tr>\n",
      "<tr><td>30</td> <td>rec, serv, tran</td> <td>Leisure, Travel &amp; Tourism</td> </tr>\n",
      "<tr><td>85</td> <td>med, rec, serv</td> <td>Libraries</td> </tr>\n",
      "<tr><td>116</td> <td>corp, tran</td> <td>Logistics and Supply Chain</td> </tr>\n",
      "<tr><td>143</td> <td>good</td> <td>Luxury Goods &amp; Jewelry</td> </tr>\n",
      "<tr><td>55</td> <td>man</td> <td>Machinery</td> </tr>\n",
      "<tr><td>11</td> <td>corp</td> <td>Management Consulting</td> </tr>\n",
      "<tr><td>95</td> <td>tran</td> <td>Maritime</td> </tr>\n",
      "<tr><td>97</td> <td>corp</td> <td>Market Research</td> </tr>\n",
      "<tr><td>80</td> <td>corp, med</td> <td>Marketing and Advertising</td> </tr>\n",
      "<tr><td>135</td> <td>cons, gov, man</td> <td>Mechanical or Industrial Engineering</td> </tr>\n",
      "<tr><td>126</td> <td>med, rec</td> <td>Media Production</td> </tr>\n",
      "<tr><td>17</td> <td>hlth</td> <td>Medical Devices</td> </tr>\n",
      "<tr><td>13</td> <td>hlth</td> <td>Medical Practice</td> </tr>\n",
      "<tr><td>139</td> <td>hlth</td> <td>Mental Health Care</td> </tr>\n",
      "<tr><td>71</td> <td>gov</td> <td>Military</td> </tr>\n",
      "<tr><td>56</td> <td>man</td> <td>Mining &amp; Metals</td> </tr>\n",
      "<tr><td>35</td> <td>art, med, rec</td> <td>Motion Pictures and Film</td> </tr>\n",
      "<tr><td>37</td> <td>art, med, rec</td> <td>Museums and Institutions</td> </tr>\n",
      "<tr><td>115</td> <td>art, rec</td> <td>Music</td> </tr>\n",
      "<tr><td>114</td> <td>gov, man, tech</td> <td>Nanotechnology</td> </tr>\n",
      "<tr><td>81</td> <td>med, rec</td> <td>Newspapers</td> </tr>\n",
      "<tr><td>100</td> <td>org</td> <td>Non-Profit Organization Management</td> </tr>\n",
      "<tr><td>57</td> <td>man</td> <td>Oil &amp; Energy</td> </tr>\n",
      "<tr><td>113</td> <td>med</td> <td>Online Media</td> </tr>\n",
      "<tr><td>123</td> <td>corp</td> <td>Outsourcing/Offshoring</td> </tr>\n",
      "<tr><td>87</td> <td>serv, tran</td> <td>Package/Freight Delivery</td> </tr>\n",
      "<tr><td>146</td> <td>good, man</td> <td>Packaging and Containers</td> </tr>\n",
      "<tr><td>61</td> <td>man</td> <td>Paper &amp; Forest Products</td> </tr>\n",
      "<tr><td>39</td> <td>art, med, rec</td> <td>Performing Arts</td> </tr>\n",
      "<tr><td>15</td> <td>hlth, tech</td> <td>Pharmaceuticals</td> </tr>\n",
      "<tr><td>131</td> <td>org</td> <td>Philanthropy</td> </tr>\n",
      "<tr><td>136</td> <td>art, med, rec</td> <td>Photography</td> </tr>\n",
      "<tr><td>117</td> <td>man</td> <td>Plastics</td> </tr>\n",
      "<tr><td>107</td> <td>gov, org</td> <td>Political Organization</td> </tr>\n",
      "<tr><td>67</td> <td>edu</td> <td>Primary/Secondary Education</td> </tr>\n",
      "<tr><td>83</td> <td>med, rec</td> <td>Printing</td> </tr>\n",
      "<tr><td>105</td> <td>corp</td> <td>Professional Training &amp; Coaching</td> </tr>\n",
      "<tr><td>102</td> <td>corp, org</td> <td>Program Development</td> </tr>\n",
      "<tr><td>79</td> <td>gov</td> <td>Public Policy</td> </tr>\n",
      "<tr><td>98</td> <td>corp</td> <td>Public Relations and Communications</td> </tr>\n",
      "<tr><td>78</td> <td>gov</td> <td>Public Safety</td> </tr>\n",
      "<tr><td>82</td> <td>med, rec</td> <td>Publishing</td> </tr>\n",
      "<tr><td>62</td> <td>man</td> <td>Railroad Manufacture</td> </tr>\n",
      "<tr><td>64</td> <td>agr</td> <td>Ranching</td> </tr>\n",
      "<tr><td>44</td> <td>cons, fin, good</td> <td>Real Estate</td> </tr>\n",
      "<tr><td>40</td> <td>rec, serv</td> <td>Recreational Facilities and Services</td> </tr>\n",
      "<tr><td>89</td> <td>org, serv</td> <td>Religious Institutions</td> </tr>\n",
      "<tr><td>144</td> <td>gov, man, org</td> <td>Renewables &amp; Environment</td> </tr>\n",
      "<tr><td>70</td> <td>edu, gov</td> <td>Research</td> </tr>\n",
      "<tr><td>32</td> <td>rec, serv</td> <td>Restaurants</td> </tr>\n",
      "<tr><td>27</td> <td>good, man</td> <td>Retail</td> </tr>\n",
      "<tr><td>121</td> <td>corp, org, serv</td> <td>Security and Investigations</td> </tr>\n",
      "<tr><td>7</td> <td>tech</td> <td>Semiconductors</td> </tr>\n",
      "<tr><td>58</td> <td>man</td> <td>Shipbuilding</td> </tr>\n",
      "<tr><td>20</td> <td>good, rec</td> <td>Sporting Goods</td> </tr>\n",
      "<tr><td>33</td> <td>rec</td> <td>Sports</td> </tr>\n",
      "<tr><td>104</td> <td>corp</td> <td>Staffing and Recruiting</td> </tr>\n",
      "<tr><td>22</td> <td>good</td> <td>Supermarkets</td> </tr>\n",
      "<tr><td>8</td> <td>gov, tech</td> <td>Telecommunications</td> </tr>\n",
      "<tr><td>60</td> <td>man</td> <td>Textiles</td> </tr>\n",
      "<tr><td>130</td> <td>gov, org</td> <td>Think Tanks</td> </tr>\n",
      "<tr><td>21</td> <td>good</td> <td>Tobacco</td> </tr>\n",
      "<tr><td>108</td> <td>corp, gov, serv</td> <td>Translation and Localization</td> </tr>\n",
      "<tr><td>92</td> <td>tran</td> <td>Transportation/Trucking/Railroad</td> </tr>\n",
      "<tr><td>59</td> <td>man</td> <td>Utilities</td> </tr>\n",
      "<tr><td>106</td> <td>fin, tech</td> <td>Venture Capital &amp; Private Equity</td> </tr>\n",
      "<tr><td>16</td> <td>hlth</td> <td>Veterinary</td> </tr>\n",
      "<tr><td>93</td> <td>tran</td> <td>Warehousing</td> </tr>\n",
      "<tr><td>133</td> <td>good</td> <td>Wholesale</td> </tr>\n",
      "<tr><td>142</td> <td>good, man, rec</td> <td>Wine and Spirits</td> </tr>\n",
      "<tr><td>119</td> <td>tech</td> <td>Wireless</td> </tr>\n",
      "<tr><td>103</td> <td>art, med, rec</td> <td>Writing and Editing</td> </tr>\n"
     ]
    }
   ],
   "source": [
    "now_time = datetime.utcnow().strftime('%Y%m%dT%H%M%S')\n",
    "\n",
    "with open(r'data\\\\linkedin_industries.csv', 'w') as csvFile:\n",
    "    writer = csv.writer(csvFile)\n",
    "    soup = BeautifulSoup(html_table, 'lxml')\n",
    "    for i, row in enumerate(soup.findAll('tr')):\n",
    "        table_row = [now_time]\n",
    "        print(row)\n",
    "        for cell in row.findAll('td'):\n",
    "            table_row.append(f\"{cell.get_text()}\")\n",
    "        writer.writerow(table_row + ['\\n'])"
   ]
  },
  {
   "cell_type": "markdown",
   "metadata": {},
   "source": [
    "# Reading data from an API\n",
    "\n",
    "### Download data for set of Stock Tickers\n"
   ]
  },
  {
   "cell_type": "code",
   "execution_count": 8,
   "metadata": {
    "pycharm": {
     "is_executing": false,
     "name": "#%%\n"
    }
   },
   "outputs": [
    {
     "name": "stdout",
     "output_type": "stream",
     "text": [
      "Requesting Data for GOOG\n",
      "Saving GOOG Data\n",
      "Requesting Data for MSFT\n",
      "Saving MSFT Data\n",
      "Requesting Data for IBM\n",
      "Saving IBM Data\n",
      "Requesting Data for TSLA\n",
      "Saving TSLA Data\n"
     ]
    }
   ],
   "source": [
    "# CSV\n",
    "import os\n",
    "import time\n",
    "from datetime import datetime\n",
    "\n",
    "import requests\n",
    "\n",
    "tickers = \"GOOG MSFT IBM TSLA\".split()\n",
    "\n",
    "today_date = datetime.today().strftime('%Y-%m-%d')\n",
    "\n",
    "# download prices for each stock in portfolio\n",
    "# as csv file\n",
    "for ticker in tickers:\n",
    "    print(f\"Requesting Data for {ticker}\")\n",
    "    req = requests.get(f\"https://www.alphavantage.co/query?function=TIME_SERIES_DAILY_ADJUSTED&symbol={ticker}&apikey=537201H9R203WT4C&datatype=csv\")\n",
    "    print(f\"Saving {ticker} Data\")\n",
    "\n",
    "    # create filepath with date string\n",
    "    output_filepath = os.path.join(\"data\", f\"{ticker}_PRICES_DAILY_{today_date}.csv\")\n",
    "\n",
    "    with open(output_filepath, 'w') as f:\n",
    "        f.write(req.text)\n",
    "\n",
    "    time.sleep(1) # sleep in-between requests"
   ]
  },
  {
   "cell_type": "code",
   "execution_count": null,
   "metadata": {
    "pycharm": {
     "name": "#%%\n"
    },
    "scrolled": true
   },
   "outputs": [
    {
     "name": "stdout",
     "output_type": "stream",
     "text": [
      "Requesting Data for GOOG\n",
      "Saving GOOG Data\n",
      "Requesting Data for MSFT\n"
     ]
    }
   ],
   "source": [
    "# JSON\n",
    "import csv\n",
    "\n",
    "# download prices for each stock in portfolio\n",
    "# but this time json\n",
    "for ticker in tickers:\n",
    "    print(f\"Requesting Data for {ticker}\")\n",
    "    req = requests.get(f\"https://www.alphavantage.co/query?function=TIME_SERIES_DAILY_ADJUSTED&symbol={ticker}&apikey=537201H9R203WT4C&datatype=json\")\n",
    "    print(f\"Saving {ticker} Data\")\n",
    "\n",
    "    # create filepath with date string\n",
    "    output_filepath = os.path.join(\"data\", f\"{ticker}_PRICES_DAILY_{today_date}.json\")\n",
    "    with open(output_filepath, 'w') as f:\n",
    "        f.write(req.text)\n",
    "\n",
    "    time.sleep(1) # sleep in-between requests\n",
    "\n",
    "\n",
    "\n",
    "\n"
   ]
  },
  {
   "cell_type": "code",
   "execution_count": null,
   "outputs": [],
   "source": [],
   "metadata": {
    "collapsed": false,
    "pycharm": {
     "name": "#%%\n"
    }
   }
  },
  {
   "cell_type": "code",
   "execution_count": null,
   "outputs": [],
   "source": [],
   "metadata": {
    "collapsed": false,
    "pycharm": {
     "name": "#%%\n"
    }
   }
  },
  {
   "cell_type": "code",
   "execution_count": null,
   "outputs": [],
   "source": [],
   "metadata": {
    "collapsed": false,
    "pycharm": {
     "name": "#%%\n"
    }
   }
  },
  {
   "cell_type": "code",
   "execution_count": null,
   "metadata": {},
   "outputs": [],
   "source": []
  },
  {
   "cell_type": "code",
   "execution_count": null,
   "metadata": {},
   "outputs": [],
   "source": []
  },
  {
   "cell_type": "code",
   "execution_count": null,
   "metadata": {},
   "outputs": [],
   "source": []
  }
 ],
 "metadata": {
  "kernelspec": {
   "display_name": "Python 3",
   "language": "python",
   "name": "python3"
  },
  "language_info": {
   "codemirror_mode": {
    "name": "ipython",
    "version": 3
   },
   "file_extension": ".py",
   "mimetype": "text/x-python",
   "name": "python",
   "nbconvert_exporter": "python",
   "pygments_lexer": "ipython3",
   "version": "3.7.7"
  }
 },
 "nbformat": 4,
 "nbformat_minor": 1
}